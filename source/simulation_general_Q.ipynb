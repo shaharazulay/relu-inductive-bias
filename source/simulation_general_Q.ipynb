{
 "cells": [
  {
   "cell_type": "code",
   "execution_count": 1,
   "metadata": {},
   "outputs": [
    {
     "name": "stdout",
     "output_type": "stream",
     "text": [
      "Populating the interactive namespace from numpy and matplotlib\n"
     ]
    }
   ],
   "source": [
    "%pylab inline"
   ]
  },
  {
   "cell_type": "code",
   "execution_count": 2,
   "metadata": {},
   "outputs": [],
   "source": [
    "from classifier import *\n",
    "from ntk import *\n",
    "from Q_minimization import *"
   ]
  },
  {
   "cell_type": "markdown",
   "metadata": {},
   "source": [
    "### Define Dataset"
   ]
  },
  {
   "cell_type": "code",
   "execution_count": 3,
   "metadata": {},
   "outputs": [],
   "source": [
    "x = np.array([[1, -0.8, -0.5], [1, -0.4, -0.5], [1, 0.15, 0.3]])\n",
    "y = np.array([[1.0, -1.0, 1.0]]).reshape(-1,)"
   ]
  },
  {
   "cell_type": "markdown",
   "metadata": {},
   "source": [
    "### Define Dimensions"
   ]
  },
  {
   "cell_type": "code",
   "execution_count": 4,
   "metadata": {},
   "outputs": [],
   "source": [
    "m = 20\n",
    "d = 3"
   ]
  },
  {
   "cell_type": "markdown",
   "metadata": {},
   "source": [
    "### Solve L1"
   ]
  },
  {
   "cell_type": "code",
   "execution_count": 5,
   "metadata": {},
   "outputs": [],
   "source": [
    "w_0 = np.random.normal(loc=0, scale=1, size=(m, d))\n",
    "a_0 = np.random.normal(loc=0, scale=1, size=(m,))"
   ]
  },
  {
   "cell_type": "code",
   "execution_count": 6,
   "metadata": {
    "scrolled": true
   },
   "outputs": [
    {
     "name": "stdout",
     "output_type": "stream",
     "text": [
      "Optimization terminated successfully.    (Exit mode 0)\n",
      "            Current function value: 3.9560939539522115\n",
      "            Iterations: 90\n",
      "            Function evaluations: 7569\n",
      "            Gradient evaluations: 90\n"
     ]
    },
    {
     "data": {
      "text/plain": [
       "(array([[ 1.21218734e-03,  5.92678368e-04,  2.58080739e-04],\n",
       "        [-2.35813363e-03, -8.51795404e-03,  1.54016066e-03],\n",
       "        [ 1.75036086e-01,  7.97399416e-01, -9.82137346e-01],\n",
       "        [ 1.60794729e-04,  2.35983196e-03, -2.61760338e-03],\n",
       "        [ 2.12346327e-01, -1.19923273e+00,  1.38407350e+00],\n",
       "        [ 8.13187998e-02,  3.68959773e-01, -4.55442734e-01],\n",
       "        [-2.28978802e-04, -4.88550384e-05,  6.08644959e-05],\n",
       "        [-2.36035192e-04, -2.60220175e-05, -4.13017502e-05],\n",
       "        [ 1.65978683e-01,  7.64557240e-01, -9.35507497e-01],\n",
       "        [ 8.50283562e-04, -5.44950170e-03,  5.98208899e-03],\n",
       "        [ 8.77588608e-04, -4.92716745e-03,  5.23271326e-03],\n",
       "        [-9.33986594e-04, -7.69187147e-05, -2.79774592e-05],\n",
       "        [ 4.84507703e-04, -7.96064609e-05, -8.23790224e-04],\n",
       "        [ 3.84654723e-05, -9.06194770e-05, -7.72991551e-04],\n",
       "        [ 5.93104082e-02, -3.30859623e-01,  3.81393934e-01],\n",
       "        [ 4.08816282e-04, -7.57288877e-04,  5.70188814e-04],\n",
       "        [ 7.82143695e-02, -4.40913843e-01,  5.09159786e-01],\n",
       "        [ 6.46646400e-02,  3.11942004e-01, -3.71516606e-01],\n",
       "        [ 1.85363583e-06,  1.87682171e-04, -7.96707833e-05],\n",
       "        [ 7.11130386e-04, -5.91136187e-04,  1.68054300e-04]]),\n",
       " array([ 5.47442383e-04,  7.88974230e-03, -1.27687425e+00, -3.18468971e-03,\n",
       "         1.84336390e+00, -5.92668889e-01,  1.43409413e-04, -1.82150477e-04,\n",
       "        -1.21986850e+00,  8.09793621e-03,  7.88620581e-03, -4.52810019e-05,\n",
       "        -7.21186008e-04, -4.58773713e-04,  5.08213971e-01,  1.40864471e-03,\n",
       "         6.77656879e-01, -4.89761644e-01,  3.26753770e-04, -4.76483201e-04]))"
      ]
     },
     "execution_count": 6,
     "metadata": {},
     "output_type": "execute_result"
    }
   ],
   "source": [
    "w_opt_L1, a_opt_L1 = solver(x, y, w_0, a_0, m, d, obj='L1')\n",
    "w_opt_L1, a_opt_L1"
   ]
  },
  {
   "cell_type": "code",
   "execution_count": 7,
   "metadata": {},
   "outputs": [
    {
     "data": {
      "image/png": "[encoded data removed]",
      "text/plain": [
       "<Figure size 432x288 with 1 Axes>"
      ]
     },
     "metadata": {
      "needs_background": "light"
     },
     "output_type": "display_data"
    }
   ],
   "source": [
    "plot_classifier(w_opt_L1, a_opt_L1, x, y)"
   ]
  },
  {
   "cell_type": "code",
   "execution_count": 8,
   "metadata": {},
   "outputs": [],
   "source": [
    "w_tilde_norms_opt_L1 = calc_w_tilde_norms(w_opt_L1, a_opt_L1)"
   ]
  },
  {
   "cell_type": "code",
   "execution_count": 9,
   "metadata": {},
   "outputs": [
    {
     "data": {
      "text/plain": [
       "0.999999758534738"
      ]
     },
     "execution_count": 9,
     "metadata": {},
     "output_type": "execute_result"
    }
   ],
   "source": [
    "minimal_margin(w_opt_L1, a_opt_L1, x, y)"
   ]
  },
  {
   "cell_type": "markdown",
   "metadata": {},
   "source": [
    "##### Check condtions are met"
   ]
  },
  {
   "cell_type": "code",
   "execution_count": 10,
   "metadata": {},
   "outputs": [
    {
     "data": {
      "text/plain": [
       "array([-2.65606565,  1.76990222, -3.16429179])"
      ]
     },
     "execution_count": 10,
     "metadata": {},
     "output_type": "execute_result"
    }
   ],
   "source": [
    "margin_constraint(flatten(w_0, a_0), x, y, m, d)"
   ]
  },
  {
   "cell_type": "code",
   "execution_count": 11,
   "metadata": {},
   "outputs": [
    {
     "data": {
      "text/plain": [
       "array([-2.41465262e-07, -1.03563115e-07,  3.06393042e-07])"
      ]
     },
     "execution_count": 11,
     "metadata": {},
     "output_type": "execute_result"
    }
   ],
   "source": [
    "margin_constraint(flatten(w_opt_L1, a_opt_L1), x, y, m, d)"
   ]
  },
  {
   "cell_type": "markdown",
   "metadata": {},
   "source": [
    "### Create Symmetric Initialization"
   ]
  },
  {
   "cell_type": "code",
   "execution_count": 342,
   "metadata": {},
   "outputs": [],
   "source": [
    "alpha = 1000\n",
    "s = 0.8"
   ]
  },
  {
   "cell_type": "code",
   "execution_count": 343,
   "metadata": {},
   "outputs": [
    {
     "data": {
      "image/png": "[encoded data removed]",
      "text/plain": [
       "<Figure size 432x288 with 1 Axes>"
      ]
     },
     "metadata": {
      "needs_background": "light"
     },
     "output_type": "display_data"
    }
   ],
   "source": [
    "w_0, a_0 = symmetric_init(alpha=alpha, s=s,  m=20, d=3)\n",
    "plot_classifier(w_0, a_0, x, y)"
   ]
  },
  {
   "cell_type": "markdown",
   "metadata": {},
   "source": [
    "### Train Full Model"
   ]
  },
  {
   "cell_type": "code",
   "execution_count": 272,
   "metadata": {
    "scrolled": true
   },
   "outputs": [],
   "source": [
    "def train(w_0, a_0, alpha, step_size, n_epochs):\n",
    "    training_accuracy = []\n",
    "    excess_l1_curve = []\n",
    "\n",
    "    training_accuracy_Q = []\n",
    "    excess_l1_Q_curve = []\n",
    "    s_i = []\n",
    "\n",
    "    w, a = np.array(w_0), np.array(a_0)\n",
    "\n",
    "    for epoch in range(n_epochs):\n",
    "        w, a, gamma_tilde, gamma = update(w, a, x, y, epoch, step_size)\n",
    "\n",
    "        w_tilde_norms = calc_w_tilde_norms(w, a) / gamma\n",
    "        excess_l1 = np.linalg.norm(w_tilde_norms, ord=1) / np.linalg.norm(w_tilde_norms_opt_L1, ord=1) - 1\n",
    "        training_accuracy.append(gamma_tilde)\n",
    "        excess_l1_curve.append(excess_l1)\n",
    "\n",
    "        estimate_Q = False\n",
    "        if (epoch + 1) % 1000 == 0:\n",
    "            estimate_Q = True\n",
    "        if (epoch < 100) and (gamma > 0) and ((epoch + 1) % 10 == 0):\n",
    "            estimate_Q = True\n",
    "        if estimate_Q:      \n",
    "            mu = [0.5 * alpha**2 / gamma_tilde] * m\n",
    "            s_vec = [s] * m\n",
    "            w_opt_Q, a_opt_Q = solver(\n",
    "                x,\n",
    "                y,\n",
    "                w_0,\n",
    "                a_0,\n",
    "                m,\n",
    "                d,\n",
    "                obj='Q',\n",
    "                mu=mu,\n",
    "                s=s_vec,\n",
    "                x0=np.random.normal(size=(m * (d + 1),)),\n",
    "                optim_tol=1e-6)\n",
    "\n",
    "            _, _, _, gamma = update(w_opt_Q, a_opt_Q.reshape(1, -1), x, y, epoch=0, step_size=0)\n",
    "            w_tilde_norms_Q = calc_w_tilde_norms(w_opt_Q, a_opt_Q) / gamma\n",
    "\n",
    "            excess_l1_Q = np.linalg.norm(w_tilde_norms_Q, ord=1) / np.linalg.norm(w_tilde_norms_opt_L1, ord=1) - 1\n",
    "            excess_l1_Q_curve.append(excess_l1_Q)\n",
    "            training_accuracy_Q.append(gamma_tilde)\n",
    "            \n",
    "    return {\n",
    "        'w': w,\n",
    "        'a': a,\n",
    "        'training_accuracy': training_accuracy,\n",
    "        'excess_l1_curve': excess_l1_curve,\n",
    "        'training_accuracy_Q': training_accuracy_Q, \n",
    "        'excess_l1_Q_curve': excess_l1_Q_curve\n",
    "    }"
   ]
  },
  {
   "cell_type": "code",
   "execution_count": 376,
   "metadata": {
    "scrolled": true
   },
   "outputs": [
    {
     "name": "stdout",
     "output_type": "stream",
     "text": [
      "Optimization terminated successfully.    (Exit mode 0)\n",
      "            Current function value: -511.2789821227119\n",
      "            Iterations: 21\n",
      "            Function evaluations: 1724\n",
      "            Gradient evaluations: 21\n",
      "Optimization terminated successfully.    (Exit mode 0)\n",
      "            Current function value: -253.9837706987366\n",
      "            Iterations: 18\n",
      "            Function evaluations: 1477\n",
      "            Gradient evaluations: 18\n",
      "Optimization terminated successfully.    (Exit mode 0)\n",
      "            Current function value: -98.14929786134547\n",
      "            Iterations: 20\n",
      "            Function evaluations: 1640\n",
      "            Gradient evaluations: 20\n",
      "Optimization terminated successfully.    (Exit mode 0)\n",
      "            Current function value: -87.38734447280966\n",
      "            Iterations: 18\n",
      "            Function evaluations: 1476\n",
      "            Gradient evaluations: 18\n",
      "Optimization terminated successfully.    (Exit mode 0)\n",
      "            Current function value: -60.15266543365237\n",
      "            Iterations: 26\n",
      "            Function evaluations: 2133\n",
      "            Gradient evaluations: 26\n",
      "Optimization terminated successfully.    (Exit mode 0)\n",
      "            Current function value: -57.256011237922934\n",
      "            Iterations: 17\n",
      "            Function evaluations: 1395\n",
      "            Gradient evaluations: 17\n",
      "Optimization terminated successfully.    (Exit mode 0)\n",
      "            Current function value: -45.51044853555719\n",
      "            Iterations: 23\n",
      "            Function evaluations: 1886\n",
      "            Gradient evaluations: 23\n",
      "Optimization terminated successfully.    (Exit mode 0)\n",
      "            Current function value: -7.6253969725222\n",
      "            Iterations: 243\n",
      "            Function evaluations: 20393\n",
      "            Gradient evaluations: 243\n",
      "Optimization terminated successfully.    (Exit mode 0)\n",
      "            Current function value: -2.2144166211861886\n",
      "            Iterations: 159\n",
      "            Function evaluations: 13423\n",
      "            Gradient evaluations: 159\n",
      "Optimization terminated successfully.    (Exit mode 0)\n",
      "            Current function value: 0.27508841948488055\n",
      "            Iterations: 556\n",
      "            Function evaluations: 47020\n",
      "            Gradient evaluations: 554\n",
      "Optimization terminated successfully.    (Exit mode 0)\n",
      "            Current function value: 2.652918342618986\n",
      "            Iterations: 120\n",
      "            Function evaluations: 10121\n",
      "            Gradient evaluations: 120\n",
      "Optimization terminated successfully.    (Exit mode 0)\n",
      "            Current function value: 4.272647363001743\n",
      "            Iterations: 229\n",
      "            Function evaluations: 19482\n",
      "            Gradient evaluations: 229\n",
      "Optimization terminated successfully.    (Exit mode 0)\n",
      "            Current function value: 6.3714034693123285\n",
      "            Iterations: 250\n",
      "            Function evaluations: 20808\n",
      "            Gradient evaluations: 250\n",
      "Optimization terminated successfully.    (Exit mode 0)\n",
      "            Current function value: 6.785865030584975\n",
      "            Iterations: 307\n",
      "            Function evaluations: 26276\n",
      "            Gradient evaluations: 306\n",
      "Optimization terminated successfully.    (Exit mode 0)\n",
      "            Current function value: 8.164942100239003\n",
      "            Iterations: 236\n",
      "            Function evaluations: 20040\n",
      "            Gradient evaluations: 234\n",
      "Optimization terminated successfully.    (Exit mode 0)\n",
      "            Current function value: 9.555874499015292\n",
      "            Iterations: 246\n",
      "            Function evaluations: 20617\n",
      "            Gradient evaluations: 246\n",
      "Optimization terminated successfully.    (Exit mode 0)\n",
      "            Current function value: 10.033931598402802\n",
      "            Iterations: 281\n",
      "            Function evaluations: 23941\n",
      "            Gradient evaluations: 280\n",
      "Optimization terminated successfully.    (Exit mode 0)\n",
      "            Current function value: -44.81360415514103\n",
      "            Iterations: 8\n",
      "            Function evaluations: 656\n",
      "            Gradient evaluations: 8\n",
      "Optimization terminated successfully.    (Exit mode 0)\n",
      "            Current function value: -32.82081544321609\n",
      "            Iterations: 10\n",
      "            Function evaluations: 821\n",
      "            Gradient evaluations: 10\n",
      "Optimization terminated successfully.    (Exit mode 0)\n",
      "            Current function value: -31.674675776660155\n",
      "            Iterations: 13\n",
      "            Function evaluations: 1066\n",
      "            Gradient evaluations: 13\n",
      "Optimization terminated successfully.    (Exit mode 0)\n",
      "            Current function value: -31.607633781388376\n",
      "            Iterations: 9\n",
      "            Function evaluations: 739\n",
      "            Gradient evaluations: 9\n",
      "Optimization terminated successfully.    (Exit mode 0)\n",
      "            Current function value: -31.60572641763309\n",
      "            Iterations: 9\n",
      "            Function evaluations: 739\n",
      "            Gradient evaluations: 9\n",
      "Optimization terminated successfully.    (Exit mode 0)\n",
      "            Current function value: -31.877268015556723\n",
      "            Iterations: 9\n",
      "            Function evaluations: 738\n",
      "            Gradient evaluations: 9\n",
      "Optimization terminated successfully.    (Exit mode 0)\n",
      "            Current function value: -32.30529610861577\n",
      "            Iterations: 11\n",
      "            Function evaluations: 902\n",
      "            Gradient evaluations: 11\n",
      "Optimization terminated successfully.    (Exit mode 0)\n",
      "            Current function value: -32.00644685053023\n",
      "            Iterations: 11\n",
      "            Function evaluations: 903\n",
      "            Gradient evaluations: 11\n",
      "Optimization terminated successfully.    (Exit mode 0)\n",
      "            Current function value: -25.54464992834317\n",
      "            Iterations: 12\n",
      "            Function evaluations: 988\n",
      "            Gradient evaluations: 12\n",
      "Optimization terminated successfully.    (Exit mode 0)\n",
      "            Current function value: -20.893122968603777\n",
      "            Iterations: 11\n",
      "            Function evaluations: 904\n",
      "            Gradient evaluations: 11\n",
      "Optimization terminated successfully.    (Exit mode 0)\n",
      "            Current function value: -3.7204228378687945\n",
      "            Iterations: 101\n",
      "            Function evaluations: 8399\n",
      "            Gradient evaluations: 101\n",
      "Optimization terminated successfully.    (Exit mode 0)\n",
      "            Current function value: 0.3543105810260976\n",
      "            Iterations: 150\n",
      "            Function evaluations: 12617\n",
      "            Gradient evaluations: 150\n",
      "Optimization terminated successfully.    (Exit mode 0)\n",
      "            Current function value: 2.1217017125080875\n",
      "            Iterations: 85\n",
      "            Function evaluations: 7116\n",
      "            Gradient evaluations: 85\n",
      "Optimization terminated successfully.    (Exit mode 0)\n",
      "            Current function value: 5.329772573236784\n",
      "            Iterations: 76\n",
      "            Function evaluations: 6397\n",
      "            Gradient evaluations: 76\n",
      "Optimization terminated successfully.    (Exit mode 0)\n",
      "            Current function value: 5.310973192778451\n",
      "            Iterations: 182\n",
      "            Function evaluations: 15343\n",
      "            Gradient evaluations: 182\n",
      "Optimization terminated successfully.    (Exit mode 0)\n",
      "            Current function value: 6.0969136577926015\n",
      "            Iterations: 150\n",
      "            Function evaluations: 12564\n",
      "            Gradient evaluations: 150\n",
      "Optimization terminated successfully.    (Exit mode 0)\n",
      "            Current function value: 8.336952739345556\n",
      "            Iterations: 155\n",
      "            Function evaluations: 12895\n",
      "            Gradient evaluations: 155\n",
      "Optimization terminated successfully.    (Exit mode 0)\n",
      "            Current function value: 8.500031921953122\n",
      "            Iterations: 251\n",
      "            Function evaluations: 21511\n",
      "            Gradient evaluations: 250\n",
      "Optimization terminated successfully.    (Exit mode 0)\n",
      "            Current function value: 9.45825877985981\n",
      "            Iterations: 268\n",
      "            Function evaluations: 22742\n",
      "            Gradient evaluations: 268\n",
      "Optimization terminated successfully.    (Exit mode 0)\n",
      "            Current function value: 10.030594883785524\n",
      "            Iterations: 226\n",
      "            Function evaluations: 19202\n",
      "            Gradient evaluations: 226\n",
      "Optimization terminated successfully.    (Exit mode 0)\n",
      "            Current function value: -197.0410868206299\n",
      "            Iterations: 17\n",
      "            Function evaluations: 1394\n",
      "            Gradient evaluations: 17\n",
      "Optimization terminated successfully.    (Exit mode 0)\n",
      "            Current function value: -41.39230630568346\n",
      "            Iterations: 24\n",
      "            Function evaluations: 1971\n",
      "            Gradient evaluations: 24\n"
     ]
    },
    {
     "name": "stdout",
     "output_type": "stream",
     "text": [
      "Optimization terminated successfully.    (Exit mode 0)\n",
      "            Current function value: -40.684381000446585\n",
      "            Iterations: 49\n",
      "            Function evaluations: 4025\n",
      "            Gradient evaluations: 49\n",
      "Optimization terminated successfully.    (Exit mode 0)\n",
      "            Current function value: -37.31886459559063\n",
      "            Iterations: 26\n",
      "            Function evaluations: 2134\n",
      "            Gradient evaluations: 26\n",
      "Optimization terminated successfully.    (Exit mode 0)\n",
      "            Current function value: -43.9473966330766\n",
      "            Iterations: 33\n",
      "            Function evaluations: 2716\n",
      "            Gradient evaluations: 33\n",
      "Optimization terminated successfully.    (Exit mode 0)\n",
      "            Current function value: -35.2074532287311\n",
      "            Iterations: 39\n",
      "            Function evaluations: 3203\n",
      "            Gradient evaluations: 39\n",
      "Optimization terminated successfully.    (Exit mode 0)\n",
      "            Current function value: -20.87748010506621\n",
      "            Iterations: 161\n",
      "            Function evaluations: 13657\n",
      "            Gradient evaluations: 161\n",
      "Optimization terminated successfully.    (Exit mode 0)\n",
      "            Current function value: -20.50954589639563\n",
      "            Iterations: 159\n",
      "            Function evaluations: 13325\n",
      "            Gradient evaluations: 159\n",
      "Optimization terminated successfully.    (Exit mode 0)\n",
      "            Current function value: -2.4664999852628062\n",
      "            Iterations: 135\n",
      "            Function evaluations: 11322\n",
      "            Gradient evaluations: 135\n",
      "Optimization terminated successfully.    (Exit mode 0)\n",
      "            Current function value: 2.0900595478796267\n",
      "            Iterations: 112\n",
      "            Function evaluations: 9460\n",
      "            Gradient evaluations: 112\n",
      "Optimization terminated successfully.    (Exit mode 0)\n",
      "            Current function value: 3.6079472173959686\n",
      "            Iterations: 178\n",
      "            Function evaluations: 15152\n",
      "            Gradient evaluations: 178\n",
      "Optimization terminated successfully.    (Exit mode 0)\n",
      "            Current function value: 5.323133149154238\n",
      "            Iterations: 171\n",
      "            Function evaluations: 14536\n",
      "            Gradient evaluations: 171\n",
      "Optimization terminated successfully.    (Exit mode 0)\n",
      "            Current function value: 6.646833050880411\n",
      "            Iterations: 192\n",
      "            Function evaluations: 16118\n",
      "            Gradient evaluations: 192\n",
      "Optimization terminated successfully.    (Exit mode 0)\n",
      "            Current function value: 7.45697532637826\n",
      "            Iterations: 205\n",
      "            Function evaluations: 17091\n",
      "            Gradient evaluations: 205\n",
      "Optimization terminated successfully.    (Exit mode 0)\n",
      "            Current function value: 9.317993838623572\n",
      "            Iterations: 300\n",
      "            Function evaluations: 25176\n",
      "            Gradient evaluations: 300\n",
      "Optimization terminated successfully.    (Exit mode 0)\n",
      "            Current function value: 10.17619028968259\n",
      "            Iterations: 359\n",
      "            Function evaluations: 29894\n",
      "            Gradient evaluations: 359\n",
      "Optimization terminated successfully.    (Exit mode 0)\n",
      "            Current function value: 11.48369783658687\n",
      "            Iterations: 105\n",
      "            Function evaluations: 8769\n",
      "            Gradient evaluations: 105\n",
      "Optimization terminated successfully.    (Exit mode 0)\n",
      "            Current function value: 12.15652262266559\n",
      "            Iterations: 185\n",
      "            Function evaluations: 15670\n",
      "            Gradient evaluations: 185\n"
     ]
    }
   ],
   "source": [
    "alpha = 1000 \n",
    "\n",
    "results = {}\n",
    "for s in [0, 0.8]:\n",
    "    w_0, a_0 = symmetric_init(alpha=alpha, s=s,  m=20, d=3)\n",
    "    results[s] = train(w_0, a_0, alpha=alpha, step_size=0.1, n_epochs=10000)"
   ]
  },
  {
   "cell_type": "code",
   "execution_count": 413,
   "metadata": {},
   "outputs": [
    {
     "data": {
      "image/png": "[encoded data removed]",
      "text/plain": [
       "<Figure size 432x288 with 1 Axes>"
      ]
     },
     "metadata": {
      "needs_background": "light"
     },
     "output_type": "display_data"
    }
   ],
   "source": [
    "w, a = results[0]['w'], results[0]['a']\n",
    "plot_classifier(w, a, x, y)"
   ]
  },
  {
   "cell_type": "code",
   "execution_count": 414,
   "metadata": {},
   "outputs": [
    {
     "data": {
      "text/plain": [
       "20191362.59461297"
      ]
     },
     "execution_count": 414,
     "metadata": {},
     "output_type": "execute_result"
    }
   ],
   "source": [
    "results[0]['training_accuracy'][-1]"
   ]
  },
  {
   "cell_type": "code",
   "execution_count": 421,
   "metadata": {},
   "outputs": [
    {
     "data": {
      "text/plain": [
       "<matplotlib.legend.Legend at 0x15ea87f60>"
      ]
     },
     "execution_count": 421,
     "metadata": {},
     "output_type": "execute_result"
    },
    {
     "data": {
      "image/png": "[encoded data removed]",
      "text/plain": [
       "<Figure size 432x288 with 1 Axes>"
      ]
     },
     "metadata": {
      "needs_background": "light"
     },
     "output_type": "display_data"
    }
   ],
   "source": [
    "plot([alpha**2/t/2 for t in results[0]['training_accuracy']], results[0]['excess_l1_curve'], 'b.')\n",
    "plot([alpha**2/t/2 for t in results[0.8]['training_accuracy']], results[0.8]['excess_l1_curve'], 'k.')\n",
    "plot([alpha**2/t/2 for t in results[0]['training_accuracy_Q']], results[0]['excess_l1_Q_curve'], 'rv')\n",
    "plot([alpha**2/t/2 for t in results[0.8]['training_accuracy_Q']], results[0.8]['excess_l1_Q_curve'], 'mv')\n",
    "\n",
    "ylabel('Excess L1 norm')\n",
    "yscale('log')\n",
    "ylim([0.01, 100])\n",
    "xlim([0, 30])\n",
    "xlabel('mu')\n",
    "legend([f's = {k}' for k in list(results.keys())] + [f's = {k} (Q min)' for k in results.keys()])"
   ]
  },
  {
   "cell_type": "code",
   "execution_count": 418,
   "metadata": {},
   "outputs": [
    {
     "data": {
      "image/png": "[encoded data removed]",
      "text/plain": [
       "<Figure size 432x288 with 1 Axes>"
      ]
     },
     "metadata": {
      "needs_background": "light"
     },
     "output_type": "display_data"
    }
   ],
   "source": [
    "plot(results[-0.8]['training_accuracy'], results[-0.8]['excess_l1_curve'], 'r')\n",
    "yscale('log')"
   ]
  },
  {
   "cell_type": "code",
   "execution_count": 331,
   "metadata": {
    "scrolled": false
   },
   "outputs": [
    {
     "name": "stderr",
     "output_type": "stream",
     "text": [
      "/Users/shaharazulay/anaconda3/envs/dev/lib/python3.6/site-packages/ipykernel_launcher.py:11: UserWarning: Attempted to set non-positive bottom ylim on a log-scaled axis.\n",
      "Invalid limit will be ignored.\n",
      "  # This is added back by InteractiveShellApp.init_path()\n"
     ]
    },
    {
     "data": {
      "text/plain": [
       "Text(0.5, 0, 'Training Accuracy')"
      ]
     },
     "execution_count": 331,
     "metadata": {},
     "output_type": "execute_result"
    },
    {
     "data": {
      "image/png": "[encoded data removed]",
      "text/plain": [
       "<Figure size 432x288 with 1 Axes>"
      ]
     },
     "metadata": {
      "needs_background": "light"
     },
     "output_type": "display_data"
    }
   ],
   "source": [
    "fig, ax1 = plt.subplots()\n",
    "ax1.set_ylabel('Excess L1 norm', color='k')\n",
    "\n",
    "ax1.plot(results[0]['training_accuracy'], results[0]['excess_l1_curve'], 'b')\n",
    "ax1.plot(results[0.8]['training_accuracy'], results[0.8]['excess_l1_curve'], 'r')\n",
    "\n",
    "ax1.plot(results[0]['training_accuracy_Q'], results[0]['excess_l1_Q_curve'], 'ko')\n",
    "ax1.plot(results[0.8]['training_accuracy_Q'], results[0.8]['excess_l1_Q_curve'], 'mo')\n",
    "\n",
    "ax1.set_yscale('log')\n",
    "ax1.set_ylim([0, 100]);\n",
    "\n",
    "xlabel('Training Accuracy')"
   ]
  },
  {
   "cell_type": "markdown",
   "metadata": {},
   "source": [
    "### Compare Different Init Shapes"
   ]
  },
  {
   "cell_type": "code",
   "execution_count": 428,
   "metadata": {},
   "outputs": [],
   "source": [
    "alpha = 1000\n",
    "w_0, a_0 = symmetric_init(alpha=alpha, s=0,  m=20, d=3)\n",
    "\n",
    "s_range = [0, 0.5, 0.8, 0.9, 0.99]\n",
    "mu_range = [0.01, 0.05, 0.1, 0.25, 0.5, 1, 2, 3, 5, 10, 20]"
   ]
  },
  {
   "cell_type": "code",
   "execution_count": 429,
   "metadata": {
    "scrolled": true
   },
   "outputs": [
    {
     "name": "stdout",
     "output_type": "stream",
     "text": [
      "Optimization terminated successfully.    (Exit mode 0)\n",
      "            Current function value: 14.085550933410051\n",
      "            Iterations: 173\n",
      "            Function evaluations: 14587\n",
      "            Gradient evaluations: 173\n",
      "Optimization terminated successfully.    (Exit mode 0)\n",
      "            Current function value: 7.7786146398261735\n",
      "            Iterations: 202\n",
      "            Function evaluations: 16978\n",
      "            Gradient evaluations: 202\n",
      "Optimization terminated successfully.    (Exit mode 0)\n",
      "            Current function value: 4.526216302299205\n",
      "            Iterations: 376\n",
      "            Function evaluations: 31777\n",
      "            Gradient evaluations: 375\n",
      "Optimization terminated successfully.    (Exit mode 0)\n",
      "            Current function value: 1.3953030630947842\n",
      "            Iterations: 240\n",
      "            Function evaluations: 20415\n",
      "            Gradient evaluations: 240\n",
      "Optimization terminated successfully.    (Exit mode 0)\n",
      "            Current function value: -0.9784387688151986\n",
      "            Iterations: 149\n",
      "            Function evaluations: 12618\n",
      "            Gradient evaluations: 149\n",
      "Optimization terminated successfully.    (Exit mode 0)\n",
      "            Current function value: -3.660563222777441\n",
      "            Iterations: 61\n",
      "            Function evaluations: 5111\n",
      "            Gradient evaluations: 61\n",
      "Optimization terminated successfully.    (Exit mode 0)\n",
      "            Current function value: -9.99999995757437\n",
      "            Iterations: 26\n",
      "            Function evaluations: 2134\n",
      "            Gradient evaluations: 26\n",
      "Optimization terminated successfully.    (Exit mode 0)\n",
      "            Current function value: -14.99999973313368\n",
      "            Iterations: 11\n",
      "            Function evaluations: 905\n",
      "            Gradient evaluations: 11\n",
      "Optimization terminated successfully.    (Exit mode 0)\n",
      "            Current function value: -24.999999478570686\n",
      "            Iterations: 9\n",
      "            Function evaluations: 738\n",
      "            Gradient evaluations: 9\n",
      "Optimization terminated successfully.    (Exit mode 0)\n",
      "            Current function value: -49.99999996985751\n",
      "            Iterations: 12\n",
      "            Function evaluations: 988\n",
      "            Gradient evaluations: 12\n",
      "Optimization terminated successfully.    (Exit mode 0)\n",
      "            Current function value: -99.99999989313336\n",
      "            Iterations: 7\n",
      "            Function evaluations: 574\n",
      "            Gradient evaluations: 7\n",
      "Optimization terminated successfully.    (Exit mode 0)\n",
      "            Current function value: 14.825814427872752\n",
      "            Iterations: 190\n",
      "            Function evaluations: 15909\n",
      "            Gradient evaluations: 190\n",
      "Optimization terminated successfully.    (Exit mode 0)\n",
      "            Current function value: 7.978055306396825\n",
      "            Iterations: 148\n",
      "            Function evaluations: 12444\n",
      "            Gradient evaluations: 148\n",
      "Optimization terminated successfully.    (Exit mode 0)\n",
      "            Current function value: 5.771750303542342\n",
      "            Iterations: 164\n",
      "            Function evaluations: 13822\n",
      "            Gradient evaluations: 164\n",
      "Optimization terminated successfully.    (Exit mode 0)\n",
      "            Current function value: 1.1827753188770997\n",
      "            Iterations: 110\n",
      "            Function evaluations: 9211\n",
      "            Gradient evaluations: 110\n",
      "Optimization terminated successfully.    (Exit mode 0)\n",
      "            Current function value: -2.144002348406167\n",
      "            Iterations: 153\n",
      "            Function evaluations: 12802\n",
      "            Gradient evaluations: 153\n",
      "Optimization terminated successfully.    (Exit mode 0)\n",
      "            Current function value: -5.815312742053922\n",
      "            Iterations: 129\n",
      "            Function evaluations: 10989\n",
      "            Gradient evaluations: 129\n",
      "Optimization terminated successfully.    (Exit mode 0)\n",
      "            Current function value: -12.477387725845487\n",
      "            Iterations: 118\n",
      "            Function evaluations: 9857\n",
      "            Gradient evaluations: 118\n",
      "Optimization terminated successfully.    (Exit mode 0)\n",
      "            Current function value: -18.749999977255868\n",
      "            Iterations: 20\n",
      "            Function evaluations: 1644\n",
      "            Gradient evaluations: 20\n",
      "Optimization terminated successfully.    (Exit mode 0)\n",
      "            Current function value: -31.2499998594876\n",
      "            Iterations: 13\n",
      "            Function evaluations: 1066\n",
      "            Gradient evaluations: 13\n",
      "Optimization terminated successfully.    (Exit mode 0)\n",
      "            Current function value: -62.4999996206945\n",
      "            Iterations: 11\n",
      "            Function evaluations: 903\n",
      "            Gradient evaluations: 11\n",
      "Optimization terminated successfully.    (Exit mode 0)\n",
      "            Current function value: -124.99999995045191\n",
      "            Iterations: 16\n",
      "            Function evaluations: 1316\n",
      "            Gradient evaluations: 16\n",
      "Optimization terminated successfully.    (Exit mode 0)\n",
      "            Current function value: 13.736340519791952\n",
      "            Iterations: 195\n",
      "            Function evaluations: 16373\n",
      "            Gradient evaluations: 195\n",
      "Optimization terminated successfully.    (Exit mode 0)\n",
      "            Current function value: 7.0987688036467365\n",
      "            Iterations: 200\n",
      "            Function evaluations: 16770\n",
      "            Gradient evaluations: 200\n",
      "Optimization terminated successfully.    (Exit mode 0)\n",
      "            Current function value: 5.6922478994366426\n",
      "            Iterations: 155\n",
      "            Function evaluations: 13172\n",
      "            Gradient evaluations: 155\n",
      "Optimization terminated successfully.    (Exit mode 0)\n",
      "            Current function value: 1.0520842548372646\n",
      "            Iterations: 114\n",
      "            Function evaluations: 9598\n",
      "            Gradient evaluations: 114\n",
      "Optimization terminated successfully.    (Exit mode 0)\n",
      "            Current function value: -2.3204215896328657\n",
      "            Iterations: 107\n",
      "            Function evaluations: 9064\n",
      "            Gradient evaluations: 107\n",
      "Optimization terminated successfully.    (Exit mode 0)\n",
      "            Current function value: -7.420617974616567\n",
      "            Iterations: 201\n",
      "            Function evaluations: 17047\n",
      "            Gradient evaluations: 201\n",
      "Optimization terminated successfully.    (Exit mode 0)\n",
      "            Current function value: -16.32545147496062\n",
      "            Iterations: 102\n",
      "            Function evaluations: 8441\n",
      "            Gradient evaluations: 102\n",
      "Optimization terminated successfully.    (Exit mode 0)\n",
      "            Current function value: -24.475703104396313\n",
      "            Iterations: 82\n",
      "            Function evaluations: 6876\n",
      "            Gradient evaluations: 82\n",
      "Optimization terminated successfully.    (Exit mode 0)\n",
      "            Current function value: -40.999999964257896\n",
      "            Iterations: 38\n",
      "            Function evaluations: 3124\n",
      "            Gradient evaluations: 38\n",
      "Optimization terminated successfully.    (Exit mode 0)\n",
      "            Current function value: -81.99999939608135\n",
      "            Iterations: 18\n",
      "            Function evaluations: 1476\n",
      "            Gradient evaluations: 18\n",
      "Optimization terminated successfully.    (Exit mode 0)\n",
      "            Current function value: -163.99999975507677\n",
      "            Iterations: 24\n",
      "            Function evaluations: 1969\n",
      "            Gradient evaluations: 24\n",
      "Optimization terminated successfully.    (Exit mode 0)\n",
      "            Current function value: 13.257924278038388\n",
      "            Iterations: 186\n",
      "            Function evaluations: 15629\n",
      "            Gradient evaluations: 186\n",
      "Optimization terminated successfully.    (Exit mode 0)\n",
      "            Current function value: 7.381180830689536\n",
      "            Iterations: 213\n",
      "            Function evaluations: 17925\n",
      "            Gradient evaluations: 213\n",
      "Optimization terminated successfully.    (Exit mode 0)\n",
      "            Current function value: 4.8275991299898475\n",
      "            Iterations: 177\n",
      "            Function evaluations: 15107\n",
      "            Gradient evaluations: 177\n",
      "Optimization terminated successfully.    (Exit mode 0)\n",
      "            Current function value: 1.104214329987981\n",
      "            Iterations: 216\n",
      "            Function evaluations: 18272\n",
      "            Gradient evaluations: 216\n",
      "Optimization terminated successfully.    (Exit mode 0)\n",
      "            Current function value: -2.7480123486450583\n",
      "            Iterations: 149\n",
      "            Function evaluations: 12494\n",
      "            Gradient evaluations: 149\n",
      "Optimization terminated successfully.    (Exit mode 0)\n",
      "            Current function value: -8.367389981504022\n",
      "            Iterations: 119\n",
      "            Function evaluations: 9944\n",
      "            Gradient evaluations: 119\n"
     ]
    },
    {
     "name": "stdout",
     "output_type": "stream",
     "text": [
      "Optimization terminated successfully.    (Exit mode 0)\n",
      "            Current function value: -17.735724120818645\n",
      "            Iterations: 105\n",
      "            Function evaluations: 8709\n",
      "            Gradient evaluations: 105\n",
      "Optimization terminated successfully.    (Exit mode 0)\n",
      "            Current function value: -27.042875936806407\n",
      "            Iterations: 163\n",
      "            Function evaluations: 13623\n",
      "            Gradient evaluations: 163\n",
      "Optimization terminated successfully.    (Exit mode 0)\n",
      "            Current function value: -45.21609105269742\n",
      "            Iterations: 142\n",
      "            Function evaluations: 11831\n",
      "            Gradient evaluations: 142\n",
      "Optimization terminated successfully.    (Exit mode 0)\n",
      "            Current function value: -90.49999918782048\n",
      "            Iterations: 26\n",
      "            Function evaluations: 2133\n",
      "            Gradient evaluations: 26\n",
      "Optimization terminated successfully.    (Exit mode 0)\n",
      "            Current function value: -180.9999998586397\n",
      "            Iterations: 25\n",
      "            Function evaluations: 2051\n",
      "            Gradient evaluations: 25\n",
      "Optimization terminated successfully.    (Exit mode 0)\n",
      "            Current function value: 13.83941134327098\n",
      "            Iterations: 155\n",
      "            Function evaluations: 12970\n",
      "            Gradient evaluations: 155\n",
      "Optimization terminated successfully.    (Exit mode 0)\n",
      "            Current function value: 7.455057241000992\n",
      "            Iterations: 186\n",
      "            Function evaluations: 15776\n",
      "            Gradient evaluations: 186\n",
      "Optimization terminated successfully.    (Exit mode 0)\n",
      "            Current function value: 4.93739819896452\n",
      "            Iterations: 167\n",
      "            Function evaluations: 14005\n",
      "            Gradient evaluations: 167\n",
      "Optimization terminated successfully.    (Exit mode 0)\n",
      "            Current function value: 1.3507649731296614\n",
      "            Iterations: 129\n",
      "            Function evaluations: 10761\n",
      "            Gradient evaluations: 129\n",
      "Optimization terminated successfully.    (Exit mode 0)\n",
      "            Current function value: -3.2108838477576245\n",
      "            Iterations: 119\n",
      "            Function evaluations: 10066\n",
      "            Gradient evaluations: 119\n",
      "Optimization terminated successfully.    (Exit mode 0)\n",
      "            Current function value: -8.457579633255289\n",
      "            Iterations: 139\n",
      "            Function evaluations: 11708\n",
      "            Gradient evaluations: 139\n",
      "Optimization terminated successfully.    (Exit mode 0)\n",
      "            Current function value: -19.32847608016929\n",
      "            Iterations: 128\n",
      "            Function evaluations: 10658\n",
      "            Gradient evaluations: 128\n",
      "Optimization terminated successfully.    (Exit mode 0)\n",
      "            Current function value: -29.433496837128406\n",
      "            Iterations: 149\n",
      "            Function evaluations: 12313\n",
      "            Gradient evaluations: 149\n",
      "Optimization terminated successfully.    (Exit mode 0)\n",
      "            Current function value: -49.3160515343008\n",
      "            Iterations: 141\n",
      "            Function evaluations: 11654\n",
      "            Gradient evaluations: 141\n",
      "Optimization terminated successfully.    (Exit mode 0)\n",
      "            Current function value: -98.91472498529507\n",
      "            Iterations: 97\n",
      "            Function evaluations: 8060\n",
      "            Gradient evaluations: 97\n",
      "Optimization terminated successfully.    (Exit mode 0)\n",
      "            Current function value: -197.97687995356372\n",
      "            Iterations: 115\n",
      "            Function evaluations: 9493\n",
      "            Gradient evaluations: 115\n"
     ]
    }
   ],
   "source": [
    "excess_l1_Q_curve = {}\n",
    "\n",
    "for s_val in s_range:\n",
    "    for mu_val in mu_range:\n",
    "        mu = [mu_val] * m\n",
    "        s_vec = [s_val] * m\n",
    "        \n",
    "        w_opt_Q, a_opt_Q = solver(x, y, w_0, a_0, m, d, obj='Q', mu=mu, s=s_vec, x0=np.random.normal(size=(m * (d + 1),)))\n",
    "        _, _, _, gamma = update(w_opt_Q, a_opt_Q.reshape(1, -1), x, y, epoch=0, step_size=0)\n",
    "        w_tilde_norms_Q = calc_w_tilde_norms(w_opt_Q, a_opt_Q) / gamma\n",
    "        \n",
    "        excess_l1_Q = np.linalg.norm(w_tilde_norms_Q, ord=1) / np.linalg.norm(w_tilde_norms_opt_L1, ord=1) - 1\n",
    "        excess_l1_Q_curve.setdefault(s_val, []).append(excess_l1_Q)"
   ]
  },
  {
   "cell_type": "code",
   "execution_count": 430,
   "metadata": {},
   "outputs": [
    {
     "name": "stderr",
     "output_type": "stream",
     "text": [
      "/Users/shaharazulay/anaconda3/envs/dev/lib/python3.6/site-packages/ipykernel_launcher.py:6: UserWarning: Attempted to set non-positive bottom ylim on a log-scaled axis.\n",
      "Invalid limit will be ignored.\n",
      "  \n"
     ]
    },
    {
     "data": {
      "text/plain": [
       "<matplotlib.legend.Legend at 0x15f5f9160>"
      ]
     },
     "execution_count": 430,
     "metadata": {},
     "output_type": "execute_result"
    },
    {
     "data": {
      "image/png": "[encoded data removed]",
      "text/plain": [
       "<Figure size 432x288 with 1 Axes>"
      ]
     },
     "metadata": {
      "needs_background": "light"
     },
     "output_type": "display_data"
    }
   ],
   "source": [
    "for k in excess_l1_Q_curve.keys():\n",
    "    plot(mu_range, excess_l1_Q_curve[k])\n",
    "\n",
    "ylabel('Excess L1 norm')\n",
    "yscale('log')\n",
    "ylim([0, 100])\n",
    "xlim([0, 20])\n",
    "xlabel('mu')\n",
    "legend([f's = {k}' for k in excess_l1_Q_curve.keys()])"
   ]
  },
  {
   "cell_type": "code",
   "execution_count": null,
   "metadata": {},
   "outputs": [],
   "source": []
  }
 ],
 "metadata": {
  "kernelspec": {
   "display_name": "Python 3",
   "language": "python",
   "name": "python3"
  },
  "language_info": {
   "codemirror_mode": {
    "name": "ipython",
    "version": 3
   },
   "file_extension": ".py",
   "mimetype": "text/x-python",
   "name": "python",
   "nbconvert_exporter": "python",
   "pygments_lexer": "ipython3",
   "version": "3.6.8"
  }
 },
 "nbformat": 4,
 "nbformat_minor": 2
}
