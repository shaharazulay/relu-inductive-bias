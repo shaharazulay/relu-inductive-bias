{
 "cells": [
  {
   "cell_type": "code",
   "execution_count": 1,
   "metadata": {},
   "outputs": [
    {
     "name": "stdout",
     "output_type": "stream",
     "text": [
      "Populating the interactive namespace from numpy and matplotlib\n"
     ]
    }
   ],
   "source": [
    "%pylab inline"
   ]
  },
  {
   "cell_type": "code",
   "execution_count": 2,
   "metadata": {},
   "outputs": [],
   "source": [
    "from classifier import *\n",
    "from ntk import *\n",
    "from Q_minimization import *"
   ]
  },
  {
   "cell_type": "markdown",
   "metadata": {},
   "source": [
    "### Define Dataset"
   ]
  },
  {
   "cell_type": "code",
   "execution_count": 3,
   "metadata": {},
   "outputs": [],
   "source": [
    "x = np.array([[1, -0.8, -0.5], [1, -0.4, -0.5], [1, 0.15, 0.3]])\n",
    "y = np.array([[1.0, -1.0, 1.0]]).reshape(-1,)"
   ]
  },
  {
   "cell_type": "markdown",
   "metadata": {},
   "source": [
    "### Define Dimensions"
   ]
  },
  {
   "cell_type": "code",
   "execution_count": 4,
   "metadata": {},
   "outputs": [],
   "source": [
    "m = 20\n",
    "d = 3"
   ]
  },
  {
   "cell_type": "markdown",
   "metadata": {},
   "source": [
    "### Solve L1"
   ]
  },
  {
   "cell_type": "code",
   "execution_count": 5,
   "metadata": {},
   "outputs": [],
   "source": [
    "w_0 = np.random.normal(loc=0, scale=1, size=(m, d))\n",
    "a_0 = np.random.normal(loc=0, scale=1, size=(m,))"
   ]
  },
  {
   "cell_type": "code",
   "execution_count": 16,
   "metadata": {
    "scrolled": true
   },
   "outputs": [
    {
     "name": "stdout",
     "output_type": "stream",
     "text": [
      "Optimization terminated successfully.    (Exit mode 0)\n",
      "            Current function value: 3.9559450460591172\n",
      "            Iterations: 142\n",
      "            Function evaluations: 11923\n",
      "            Gradient evaluations: 142\n"
     ]
    },
    {
     "data": {
      "text/plain": [
       "(array([[ 6.06186735e-02,  2.75874165e-01, -3.40062424e-01],\n",
       "        [ 7.88304984e-02,  3.56500206e-01, -4.41131075e-01],\n",
       "        [ 6.97343313e-02, -3.86207590e-01,  4.48435207e-01],\n",
       "        [ 5.84589305e-03, -3.44970103e-02,  3.84100558e-02],\n",
       "        [ 9.67334662e-02,  4.38143445e-01, -5.41059079e-01],\n",
       "        [ 2.77472046e-03, -4.77243535e-04, -2.11853896e-03],\n",
       "        [ 2.07755337e-01, -1.18480340e+00,  1.36334455e+00],\n",
       "        [ 9.41348348e-02,  4.55929322e-01, -5.41816882e-01],\n",
       "        [ 5.13021790e-03,  2.53596998e-03, -1.19265935e-02],\n",
       "        [ 1.64230152e-03,  3.23349267e-03,  3.75034904e-03],\n",
       "        [ 8.54649603e-03, -3.97441460e-02,  4.87971292e-02],\n",
       "        [ 1.90688933e-03,  1.28979051e-03,  3.25843285e-03],\n",
       "        [ 6.73503556e-02,  3.04630061e-01, -3.76648913e-01],\n",
       "        [ 1.90709998e-01,  8.66962020e-01, -1.06921838e+00],\n",
       "        [ 5.79663240e-02, -3.04044825e-01,  3.59187435e-01],\n",
       "        [ 5.63765433e-02, -3.03518743e-01,  3.55562253e-01],\n",
       "        [ 1.76815048e-03, -1.45610893e-02,  1.36219940e-02],\n",
       "        [-2.96218368e-02, -9.05507189e-02,  1.28240576e-02],\n",
       "        [ 1.60769226e-03,  5.04101512e-03, -6.76797330e-03],\n",
       "        [ 5.02508154e-04,  4.52584666e-03, -7.21469333e-03]]),\n",
       " array([-0.44161519, -0.57138781,  0.59610641,  0.05203851, -0.70301767,\n",
       "        -0.00287523,  1.81900802, -0.71433062, -0.01352285,  0.00629749,\n",
       "         0.06464025,  0.00360219, -0.490384  , -1.38973001,  0.47438206,\n",
       "         0.47209938,  0.01957421,  0.09884126, -0.00899133, -0.0096219 ]))"
      ]
     },
     "execution_count": 16,
     "metadata": {},
     "output_type": "execute_result"
    }
   ],
   "source": [
    "w_opt_L1, a_opt_L1 = solver(x, y, w_0, a_0, m, d, obj='L1')\n",
    "w_opt_L1, a_opt_L1"
   ]
  },
  {
   "cell_type": "code",
   "execution_count": 17,
   "metadata": {},
   "outputs": [
    {
     "data": {
      "image/png": "[encoded data removed]",
      "text/plain": [
       "<Figure size 432x288 with 1 Axes>"
      ]
     },
     "metadata": {
      "needs_background": "light"
     },
     "output_type": "display_data"
    }
   ],
   "source": [
    "plot_classifier(w_opt_L1, a_opt_L1, x, y)"
   ]
  },
  {
   "cell_type": "code",
   "execution_count": 18,
   "metadata": {},
   "outputs": [],
   "source": [
    "w_tilde_norms_opt_L1 = calc_w_tilde_norms(w_opt_L1, a_opt_L1)"
   ]
  },
  {
   "cell_type": "markdown",
   "metadata": {},
   "source": [
    "##### Check condtions are met"
   ]
  },
  {
   "cell_type": "code",
   "execution_count": 9,
   "metadata": {},
   "outputs": [
    {
     "data": {
      "text/plain": [
       "array([-1.78597244,  0.69064714, -2.1663206 ])"
      ]
     },
     "execution_count": 9,
     "metadata": {},
     "output_type": "execute_result"
    }
   ],
   "source": [
    "margin_constraint(flatten(w_0, a_0), x, y, m, d)"
   ]
  },
  {
   "cell_type": "code",
   "execution_count": 10,
   "metadata": {},
   "outputs": [
    {
     "data": {
      "text/plain": [
       "array([ 2.38017526e-08, -1.89605068e-07, -4.99619861e-07])"
      ]
     },
     "execution_count": 10,
     "metadata": {},
     "output_type": "execute_result"
    }
   ],
   "source": [
    "margin_constraint(flatten(w_opt_L1, a_opt_L1), x, y, m, d)"
   ]
  },
  {
   "cell_type": "markdown",
   "metadata": {},
   "source": [
    "### Create Symmetric Initialization"
   ]
  },
  {
   "cell_type": "code",
   "execution_count": 31,
   "metadata": {},
   "outputs": [],
   "source": [
    "alpha=100"
   ]
  },
  {
   "cell_type": "code",
   "execution_count": 32,
   "metadata": {},
   "outputs": [
    {
     "data": {
      "image/png": "[encoded data removed]",
      "text/plain": [
       "<Figure size 432x288 with 1 Axes>"
      ]
     },
     "metadata": {
      "needs_background": "light"
     },
     "output_type": "display_data"
    }
   ],
   "source": [
    "w_0, a_0 = symmetric_init(alpha=alpha, m=20, d=3)\n",
    "plot_classifier(w_0, a_0, x, y)"
   ]
  },
  {
   "cell_type": "markdown",
   "metadata": {},
   "source": [
    "### Find NTK solution"
   ]
  },
  {
   "cell_type": "code",
   "execution_count": 24,
   "metadata": {},
   "outputs": [],
   "source": [
    "step_size = 0.1\n",
    "epoch = 0\n",
    "n_epochs = 1000"
   ]
  },
  {
   "cell_type": "code",
   "execution_count": 25,
   "metadata": {},
   "outputs": [],
   "source": [
    "w_opt_ntk, a_opt_ntk = np.array(w_0), np.array(a_0)\n",
    "\n",
    "for epoch in range(n_epochs):\n",
    "    w_opt_ntk, a_opt_ntk, gamma_tilde, gamma = update_ntk(w_opt_ntk, a_opt_ntk, w_0, a_0, x, y, epoch, step_size)  "
   ]
  },
  {
   "cell_type": "code",
   "execution_count": 27,
   "metadata": {},
   "outputs": [
    {
     "data": {
      "image/png": "[encoded data removed]",
      "text/plain": [
       "<Figure size 432x288 with 1 Axes>"
      ]
     },
     "metadata": {
      "needs_background": "light"
     },
     "output_type": "display_data"
    }
   ],
   "source": [
    "plot_classifier_ntk(w_opt_ntk, a_opt_ntk, w_0, a_0, x, y)"
   ]
  },
  {
   "cell_type": "markdown",
   "metadata": {},
   "source": [
    "### Train Full Model"
   ]
  },
  {
   "cell_type": "code",
   "execution_count": 2242,
   "metadata": {},
   "outputs": [],
   "source": [
    "def solve_Q(mu, x, y, w_0, a_0, m, d):\n",
    "    w_opt_Q, a_opt_Q = Q_solver(mu , x, y, w_0, a_0, m, d, obj='Q')\n",
    "    _, _, _, gamma = update(w_opt_Q, a_opt_Q.reshape(1, -1), x, y, epoch)\n",
    "    \n",
    "    w_tilde_norms = calc_w_tilde_norms(w_opt_Q, a_opt_Q) / gamma\n",
    "    excess_l1 = np.linalg.norm(w_tilde_norms, ord=1) / np.linalg.norm(w_tilde_norms_opt_L1, ord=1) - 1\n",
    "    #excess_l1 = np.linalg.norm(flatten(w_opt_Q, a_opt_Q), ord=2) / np.linalg.norm(flatten(w_opt_L1, a_opt_L1), ord=2) / gamma**0.5 - 1\n",
    "    return excess_l1"
   ]
  },
  {
   "cell_type": "code",
   "execution_count": 28,
   "metadata": {},
   "outputs": [],
   "source": [
    "step_size = 0.1\n",
    "epoch = 0\n",
    "n_epochs = 10000"
   ]
  },
  {
   "cell_type": "code",
   "execution_count": 38,
   "metadata": {
    "scrolled": true
   },
   "outputs": [
    {
     "name": "stdout",
     "output_type": "stream",
     "text": [
      "Optimization terminated successfully.    (Exit mode 0)\n",
      "            Current function value: -441.8668880233405\n",
      "            Iterations: 8\n",
      "            Function evaluations: 657\n",
      "            Gradient evaluations: 8\n",
      "Optimization terminated successfully.    (Exit mode 0)\n",
      "            Current function value: -46.354729378661744\n",
      "            Iterations: 9\n",
      "            Function evaluations: 740\n",
      "            Gradient evaluations: 9\n",
      "Optimization terminated successfully.    (Exit mode 0)\n",
      "            Current function value: -27.976097204301965\n",
      "            Iterations: 11\n",
      "            Function evaluations: 904\n",
      "            Gradient evaluations: 11\n",
      "Optimization terminated successfully.    (Exit mode 0)\n",
      "            Current function value: -21.386170491992925\n",
      "            Iterations: 12\n",
      "            Function evaluations: 985\n",
      "            Gradient evaluations: 12\n",
      "Optimization terminated successfully.    (Exit mode 0)\n",
      "            Current function value: -20.342862860645138\n",
      "            Iterations: 12\n",
      "            Function evaluations: 985\n",
      "            Gradient evaluations: 12\n",
      "Optimization terminated successfully.    (Exit mode 0)\n",
      "            Current function value: -18.724900812193937\n",
      "            Iterations: 13\n",
      "            Function evaluations: 1070\n",
      "            Gradient evaluations: 13\n",
      "Optimization terminated successfully.    (Exit mode 0)\n",
      "            Current function value: -16.61256762542883\n",
      "            Iterations: 13\n",
      "            Function evaluations: 1067\n",
      "            Gradient evaluations: 13\n",
      "Optimization terminated successfully.    (Exit mode 0)\n",
      "            Current function value: -15.666625129611596\n",
      "            Iterations: 13\n",
      "            Function evaluations: 1067\n",
      "            Gradient evaluations: 13\n",
      "Optimization terminated successfully.    (Exit mode 0)\n",
      "            Current function value: -11.395227265311599\n",
      "            Iterations: 13\n",
      "            Function evaluations: 1067\n",
      "            Gradient evaluations: 13\n",
      "Optimization terminated successfully.    (Exit mode 0)\n",
      "            Current function value: -10.714247402457335\n",
      "            Iterations: 13\n",
      "            Function evaluations: 1068\n",
      "            Gradient evaluations: 13\n",
      "Optimization terminated successfully.    (Exit mode 0)\n",
      "            Current function value: -1.6344629562649788\n",
      "            Iterations: 105\n",
      "            Function evaluations: 8801\n",
      "            Gradient evaluations: 105\n",
      "Optimization terminated successfully.    (Exit mode 0)\n",
      "            Current function value: 1.7436011222194863\n",
      "            Iterations: 112\n",
      "            Function evaluations: 9538\n",
      "            Gradient evaluations: 112\n",
      "Optimization terminated successfully.    (Exit mode 0)\n",
      "            Current function value: 3.4049709706484386\n",
      "            Iterations: 158\n",
      "            Function evaluations: 13408\n",
      "            Gradient evaluations: 158\n",
      "Optimization terminated successfully.    (Exit mode 0)\n",
      "            Current function value: 5.878418623045584\n",
      "            Iterations: 129\n",
      "            Function evaluations: 10919\n",
      "            Gradient evaluations: 129\n",
      "Optimization terminated successfully.    (Exit mode 0)\n",
      "            Current function value: 7.411330092306862\n",
      "            Iterations: 106\n",
      "            Function evaluations: 8990\n",
      "            Gradient evaluations: 106\n",
      "Optimization terminated successfully.    (Exit mode 0)\n",
      "            Current function value: 8.678069186077826\n",
      "            Iterations: 175\n",
      "            Function evaluations: 14722\n",
      "            Gradient evaluations: 175\n",
      "Optimization terminated successfully.    (Exit mode 0)\n",
      "            Current function value: 9.689606290703072\n",
      "            Iterations: 191\n",
      "            Function evaluations: 16408\n",
      "            Gradient evaluations: 190\n",
      "Optimization terminated successfully.    (Exit mode 0)\n",
      "            Current function value: 9.879305864191886\n",
      "            Iterations: 408\n",
      "            Function evaluations: 34830\n",
      "            Gradient evaluations: 405\n",
      "Optimization terminated successfully.    (Exit mode 0)\n",
      "            Current function value: 11.672496406042788\n",
      "            Iterations: 277\n",
      "            Function evaluations: 23449\n",
      "            Gradient evaluations: 276\n",
      "Optimization terminated successfully.    (Exit mode 0)\n",
      "            Current function value: 11.706284089383841\n",
      "            Iterations: 473\n",
      "            Function evaluations: 40143\n",
      "            Gradient evaluations: 472\n"
     ]
    }
   ],
   "source": [
    "training_accuracy = []\n",
    "excess_l1_curve = []\n",
    "consine_sim_ntk = []\n",
    "\n",
    "training_accuracy_Q = []\n",
    "excess_l1_Q_curve = []\n",
    "\n",
    "w, a = np.array(w_0), np.array(a_0)\n",
    "\n",
    "for epoch in range(n_epochs):\n",
    "    w, a, gamma_tilde, gamma = update(w, a, x, y, epoch, step_size)\n",
    "    \n",
    "    w_tilde_norms = calc_w_tilde_norms(w, a) / gamma\n",
    "    excess_l1 = np.linalg.norm(w_tilde_norms, ord=1) / np.linalg.norm(w_tilde_norms_opt_L1, ord=1) - 1\n",
    "    training_accuracy.append(gamma_tilde)\n",
    "    excess_l1_curve.append(excess_l1)\n",
    "    \n",
    "    w_tilde_norms_ntk = calc_w_tilde_norms(w_opt_ntk, a_opt_ntk)\n",
    "    consine_sim_ntk.append(cosine_sim(w_tilde_norms, w_tilde_norms_ntk))\n",
    "    \n",
    "    estimate_Q = False\n",
    "    if (epoch + 1) % 1000 == 0:\n",
    "        estimate_Q = True\n",
    "    if (epoch < 100) and (gamma > 0) and ((epoch + 1) % 10 == 0):\n",
    "        estimate_Q = True\n",
    "    if estimate_Q:\n",
    "        mu = [alpha**2/gamma_tilde] * m\n",
    "        w_opt_Q, a_opt_Q = solver(x, y, w_0, a_0, m, d, obj='Q', mu=mu)\n",
    "        _, _, _, gamma = update(w_opt_Q, a_opt_Q.reshape(1, -1), x, y, epoch, 0)\n",
    "        w_tilde_norms_Q = calc_w_tilde_norms(w_opt_Q, a_opt_Q) / gamma\n",
    "        \n",
    "        excess_l1_Q = np.linalg.norm(w_tilde_norms_Q, ord=1) / np.linalg.norm(w_tilde_norms_opt_L1, ord=1) - 1\n",
    "        excess_l1_Q_curve.append(excess_l1_Q)\n",
    "        training_accuracy_Q.append(gamma_tilde)"
   ]
  },
  {
   "cell_type": "code",
   "execution_count": 39,
   "metadata": {},
   "outputs": [
    {
     "data": {
      "image/png": "[encoded data removed]",
      "text/plain": [
       "<Figure size 432x288 with 1 Axes>"
      ]
     },
     "metadata": {
      "needs_background": "light"
     },
     "output_type": "display_data"
    }
   ],
   "source": [
    "plot_classifier(w, a, x, y)"
   ]
  },
  {
   "cell_type": "code",
   "execution_count": 40,
   "metadata": {},
   "outputs": [
    {
     "data": {
      "text/plain": [
       "1327108.5144458874"
      ]
     },
     "execution_count": 40,
     "metadata": {},
     "output_type": "execute_result"
    }
   ],
   "source": [
    "gamma_tilde"
   ]
  },
  {
   "cell_type": "code",
   "execution_count": 45,
   "metadata": {
    "scrolled": false
   },
   "outputs": [
    {
     "name": "stderr",
     "output_type": "stream",
     "text": [
      "/Users/shaharazulay/anaconda3/lib/python3.7/site-packages/ipykernel_launcher.py:6: UserWarning: Attempted to set non-positive bottom ylim on a log-scaled axis.\n",
      "Invalid limit will be ignored.\n",
      "  \n",
      "/Users/shaharazulay/anaconda3/lib/python3.7/site-packages/ipykernel_launcher.py:12: UserWarning: Attempted to set non-positive bottom ylim on a log-scaled axis.\n",
      "Invalid limit will be ignored.\n",
      "  if sys.path[0] == '':\n"
     ]
    },
    {
     "data": {
      "text/plain": [
       "Text(0.5, 0, 'Training Accuracy')"
      ]
     },
     "execution_count": 45,
     "metadata": {},
     "output_type": "execute_result"
    },
    {
     "data": {
      "image/png": "[encoded data removed]",
      "text/plain": [
       "<Figure size 432x288 with 2 Axes>"
      ]
     },
     "metadata": {
      "needs_background": "light"
     },
     "output_type": "display_data"
    }
   ],
   "source": [
    "fig, ax1 = plt.subplots()\n",
    "ax1.set_ylabel('Excess L1 norm', color='k')\n",
    "ax1.plot(training_accuracy, excess_l1_curve)\n",
    "ax1.plot(training_accuracy_Q, excess_l1_Q_curve, 'ro')\n",
    "ax1.set_yscale('log')\n",
    "ax1.set_ylim([0, 100]);\n",
    "\n",
    "ax2 = ax1.twinx()\n",
    "ax2.set_ylabel('NTK cosine similarity', color='m')\n",
    "ax2.plot(training_accuracy, consine_sim_ntk, 'm')\n",
    "ax2.set_yscale('log')\n",
    "ax2.set_ylim([0, 1]);\n",
    "\n",
    "xlabel('Training Accuracy')"
   ]
  },
  {
   "cell_type": "code",
   "execution_count": 46,
   "metadata": {},
   "outputs": [
    {
     "data": {
      "text/plain": [
       "(0.0075351788426851725, 44.18668880233938)"
      ]
     },
     "execution_count": 46,
     "metadata": {},
     "output_type": "execute_result"
    }
   ],
   "source": [
    "min_mu = min([alpha**2/t for t in training_accuracy_Q])\n",
    "max_mu = max([alpha**2/t for t in training_accuracy_Q])\n",
    "\n",
    "min_mu, max_mu"
   ]
  },
  {
   "cell_type": "code",
   "execution_count": 48,
   "metadata": {},
   "outputs": [
    {
     "data": {
      "text/plain": [
       "<matplotlib.legend.Legend at 0x101f40deb8>"
      ]
     },
     "execution_count": 48,
     "metadata": {},
     "output_type": "execute_result"
    },
    {
     "data": {
      "image/png": "[encoded data removed]",
      "text/plain": [
       "<Figure size 432x288 with 1 Axes>"
      ]
     },
     "metadata": {
      "needs_background": "light"
     },
     "output_type": "display_data"
    }
   ],
   "source": [
    "plot([alpha**2/t for t in training_accuracy], excess_l1_curve)\n",
    "plot([alpha**2/t for t in training_accuracy_Q], excess_l1_Q_curve, 'ro')\n",
    "\n",
    "ylabel('Excess L1 norm')\n",
    "yscale('log')\n",
    "ylim([0, 100])\n",
    "xlim([0, 10])\n",
    "xlabel('mu')\n",
    "legend(['alpha = 50', 'Q_func(mu)'])"
   ]
  }
 ],
 "metadata": {
  "kernelspec": {
   "display_name": "Python 3",
   "language": "python",
   "name": "python3"
  },
  "language_info": {
   "codemirror_mode": {
    "name": "ipython",
    "version": 3
   },
   "file_extension": ".py",
   "mimetype": "text/x-python",
   "name": "python",
   "nbconvert_exporter": "python",
   "pygments_lexer": "ipython3",
   "version": "3.7.1"
  }
 },
 "nbformat": 4,
 "nbformat_minor": 2
}
