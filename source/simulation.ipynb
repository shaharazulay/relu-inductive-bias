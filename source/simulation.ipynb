{
 "cells": [
  {
   "cell_type": "code",
   "execution_count": 1,
   "metadata": {},
   "outputs": [
    {
     "name": "stdout",
     "output_type": "stream",
     "text": [
      "Populating the interactive namespace from numpy and matplotlib\n"
     ]
    }
   ],
   "source": [
    "%pylab inline"
   ]
  },
  {
   "cell_type": "code",
   "execution_count": 2,
   "metadata": {},
   "outputs": [],
   "source": [
    "from classifier import *\n",
    "from ntk import *\n",
    "from Q_minimization import *"
   ]
  },
  {
   "cell_type": "markdown",
   "metadata": {},
   "source": [
    "### Define Dataset"
   ]
  },
  {
   "cell_type": "code",
   "execution_count": 3,
   "metadata": {},
   "outputs": [],
   "source": [
    "x = np.array([[1, -0.8, -0.5], [1, -0.4, -0.5], [1, 0.15, 0.3]])\n",
    "y = np.array([[1.0, -1.0, 1.0]]).reshape(-1,)"
   ]
  },
  {
   "cell_type": "markdown",
   "metadata": {},
   "source": [
    "### Define Dimensions"
   ]
  },
  {
   "cell_type": "code",
   "execution_count": 4,
   "metadata": {},
   "outputs": [],
   "source": [
    "m = 20\n",
    "d = 3"
   ]
  },
  {
   "cell_type": "markdown",
   "metadata": {},
   "source": [
    "### Solve L1"
   ]
  },
  {
   "cell_type": "code",
   "execution_count": 5,
   "metadata": {},
   "outputs": [],
   "source": [
    "w_0 = np.random.normal(loc=0, scale=1, size=(m, d))\n",
    "a_0 = np.random.normal(loc=0, scale=1, size=(m,))"
   ]
  },
  {
   "cell_type": "code",
   "execution_count": 6,
   "metadata": {
    "scrolled": true
   },
   "outputs": [
    {
     "name": "stdout",
     "output_type": "stream",
     "text": [
      "Optimization terminated successfully.    (Exit mode 0)\n",
      "            Current function value: 3.9134187783484053\n",
      "            Iterations: 219\n",
      "            Function evaluations: 18342\n",
      "            Gradient evaluations: 219\n"
     ]
    },
    {
     "data": {
      "text/plain": [
       "(array([[ 1.73592761e-01, -3.97701849e-01,  6.65161708e-01],\n",
       "        [ 1.97133290e-01, -4.50257616e-01,  7.53696903e-01],\n",
       "        [ 1.20459183e-02,  2.59444827e-02, -5.30800344e-02],\n",
       "        [ 4.48733331e-02,  1.05699662e-01, -2.02405706e-01],\n",
       "        [ 2.25455940e-03, -3.09841900e-03,  6.83928631e-03],\n",
       "        [ 1.26324368e-01, -2.88530956e-01,  4.83275791e-01],\n",
       "        [-1.49632129e-02, -4.64488444e-02,  7.23170763e-03],\n",
       "        [ 1.76125479e-02, -4.92016942e-02,  7.44894506e-02],\n",
       "        [ 6.57101773e-03, -1.53757478e-02,  1.85644652e-02],\n",
       "        [ 5.04515455e-02,  1.24112654e-01, -2.30221292e-01],\n",
       "        [ 2.49276139e-03,  5.26566593e-04, -4.38801470e-03],\n",
       "        [-3.79942482e-03,  1.80777027e-03,  2.13588121e-03],\n",
       "        [ 4.73703829e-03,  1.38244583e-02, -2.26368368e-02],\n",
       "        [ 5.94826828e-03, -9.21293911e-03,  1.12322198e-02],\n",
       "        [ 2.15738213e-01,  5.10513789e-01, -9.74386118e-01],\n",
       "        [ 1.78897892e-01,  4.23259723e-01, -8.07954661e-01],\n",
       "        [ 1.75279142e-01, -4.00755028e-01,  6.71053453e-01],\n",
       "        [ 7.17990380e-02, -1.63672699e-01,  2.74344992e-01],\n",
       "        [ 4.65873757e-03,  1.10722495e-02, -2.08176380e-02],\n",
       "        [-5.06721553e-01, -1.59469889e+00,  2.62315731e-01]]),\n",
       " array([ 7.94366182e-01,  8.99982299e-01, -6.02950634e-02, -2.32567145e-01,\n",
       "         7.83752372e-03,  5.76934660e-01,  4.91317015e-02,  9.07990882e-02,\n",
       "         2.42035921e-02, -2.66232734e-01, -4.60421964e-03,  4.94521471e-04,\n",
       "        -2.71560602e-02,  1.48602705e-02, -1.12096710e+00, -9.29425131e-01,\n",
       "         8.01062658e-01,  3.27595597e-01, -2.41377178e-02,  1.69622900e+00]))"
      ]
     },
     "execution_count": 6,
     "metadata": {},
     "output_type": "execute_result"
    }
   ],
   "source": [
    "w_opt_L1, a_opt_L1 = solver(x, y, w_0, a_0, m, d, obj='L1')\n",
    "w_opt_L1, a_opt_L1"
   ]
  },
  {
   "cell_type": "code",
   "execution_count": 7,
   "metadata": {},
   "outputs": [
    {
     "data": {
      "image/png": "[encoded data removed]",
      "text/plain": [
       "<Figure size 432x288 with 1 Axes>"
      ]
     },
     "metadata": {
      "needs_background": "light"
     },
     "output_type": "display_data"
    }
   ],
   "source": [
    "plot_classifier(w_opt_L1, a_opt_L1, x, y)"
   ]
  },
  {
   "cell_type": "code",
   "execution_count": 8,
   "metadata": {},
   "outputs": [],
   "source": [
    "w_tilde_norms_opt_L1 = calc_w_tilde_norms(w_opt_L1, a_opt_L1)"
   ]
  },
  {
   "cell_type": "code",
   "execution_count": 9,
   "metadata": {},
   "outputs": [
    {
     "data": {
      "text/plain": [
       "1.0000005287782734"
      ]
     },
     "execution_count": 9,
     "metadata": {},
     "output_type": "execute_result"
    }
   ],
   "source": [
    "minimal_margin(w_opt_L1, a_opt_L1, x, y)"
   ]
  },
  {
   "cell_type": "markdown",
   "metadata": {},
   "source": [
    "##### Check condtions are met"
   ]
  },
  {
   "cell_type": "code",
   "execution_count": 10,
   "metadata": {},
   "outputs": [
    {
     "data": {
      "text/plain": [
       "array([ 0.63504107, -2.82781568,  2.68641552])"
      ]
     },
     "execution_count": 10,
     "metadata": {},
     "output_type": "execute_result"
    }
   ],
   "source": [
    "margin_constraint(flatten(w_0, a_0), x, y, m, d)"
   ]
  },
  {
   "cell_type": "code",
   "execution_count": 11,
   "metadata": {},
   "outputs": [
    {
     "data": {
      "text/plain": [
       "array([1.87263849e-06, 5.28778273e-07, 1.85719402e-06])"
      ]
     },
     "execution_count": 11,
     "metadata": {},
     "output_type": "execute_result"
    }
   ],
   "source": [
    "margin_constraint(flatten(w_opt_L1, a_opt_L1), x, y, m, d)"
   ]
  },
  {
   "cell_type": "markdown",
   "metadata": {},
   "source": [
    "### Create Symmetric Initialization"
   ]
  },
  {
   "cell_type": "code",
   "execution_count": 12,
   "metadata": {},
   "outputs": [],
   "source": [
    "alpha=100"
   ]
  },
  {
   "cell_type": "code",
   "execution_count": 13,
   "metadata": {},
   "outputs": [
    {
     "data": {
      "image/png": "[encoded data removed]",
      "text/plain": [
       "<Figure size 432x288 with 1 Axes>"
      ]
     },
     "metadata": {
      "needs_background": "light"
     },
     "output_type": "display_data"
    }
   ],
   "source": [
    "w_0, a_0 = symmetric_init(alpha=alpha, m=20, d=3)\n",
    "plot_classifier(w_0, a_0, x, y)"
   ]
  },
  {
   "cell_type": "markdown",
   "metadata": {},
   "source": [
    "### Find NTK solution"
   ]
  },
  {
   "cell_type": "code",
   "execution_count": 14,
   "metadata": {},
   "outputs": [],
   "source": [
    "step_size = 0.01\n",
    "epoch = 0\n",
    "n_epochs = 1000"
   ]
  },
  {
   "cell_type": "code",
   "execution_count": 15,
   "metadata": {},
   "outputs": [],
   "source": [
    "w_opt_ntk, a_opt_ntk = np.array(w_0), np.array(a_0)\n",
    "\n",
    "for epoch in range(n_epochs):\n",
    "    w_opt_ntk, a_opt_ntk, gamma_tilde, gamma = update_ntk(w_opt_ntk, a_opt_ntk, w_0, a_0, x, y, epoch, step_size)  "
   ]
  },
  {
   "cell_type": "code",
   "execution_count": 16,
   "metadata": {},
   "outputs": [
    {
     "data": {
      "image/png": "[encoded data removed]",
      "text/plain": [
       "<Figure size 432x288 with 1 Axes>"
      ]
     },
     "metadata": {
      "needs_background": "light"
     },
     "output_type": "display_data"
    }
   ],
   "source": [
    "plot_classifier_ntk(w_opt_ntk, a_opt_ntk, w_0, a_0, x, y)"
   ]
  },
  {
   "cell_type": "code",
   "execution_count": 17,
   "metadata": {},
   "outputs": [
    {
     "data": {
      "image/png": "[encoded data removed]",
      "text/plain": [
       "<Figure size 432x288 with 1 Axes>"
      ]
     },
     "metadata": {
      "needs_background": "light"
     },
     "output_type": "display_data"
    }
   ],
   "source": [
    "plot_classifier(w_opt_ntk, a_opt_ntk, x, y)"
   ]
  },
  {
   "cell_type": "code",
   "execution_count": 18,
   "metadata": {},
   "outputs": [],
   "source": [
    "w_tilde_norms_ntk = calc_w_tilde_norms(w_opt_ntk, a_opt_ntk)\n",
    "gamma_ntk = minimal_margin(w_opt_ntk, a_opt_ntk, x, y)"
   ]
  },
  {
   "cell_type": "markdown",
   "metadata": {},
   "source": [
    "### Train Full Model"
   ]
  },
  {
   "cell_type": "code",
   "execution_count": 19,
   "metadata": {},
   "outputs": [],
   "source": [
    "def solve_Q(mu, x, y, w_0, a_0, m, d):\n",
    "    w_opt_Q, a_opt_Q = Q_solver(mu , x, y, w_0, a_0, m, d, obj='Q')\n",
    "    _, _, _, gamma = update(w_opt_Q, a_opt_Q.reshape(1, -1), x, y, epoch)\n",
    "    \n",
    "    w_tilde_norms = calc_w_tilde_norms(w_opt_Q, a_opt_Q) / gamma\n",
    "    excess_l1 = np.linalg.norm(w_tilde_norms, ord=1) / np.linalg.norm(w_tilde_norms_opt_L1, ord=1) - 1\n",
    "    #excess_l1 = np.linalg.norm(flatten(w_opt_Q, a_opt_Q), ord=2) / np.linalg.norm(flatten(w_opt_L1, a_opt_L1), ord=2) / gamma**0.5 - 1\n",
    "    return excess_l1"
   ]
  },
  {
   "cell_type": "code",
   "execution_count": 20,
   "metadata": {},
   "outputs": [],
   "source": [
    "step_size = 0.1\n",
    "epoch = 0\n",
    "n_epochs = 10000"
   ]
  },
  {
   "cell_type": "code",
   "execution_count": 21,
   "metadata": {
    "scrolled": true
   },
   "outputs": [
    {
     "name": "stdout",
     "output_type": "stream",
     "text": [
      "Optimization terminated successfully.    (Exit mode 0)\n",
      "            Current function value: -207.02758968940233\n",
      "            Iterations: 8\n",
      "            Function evaluations: 657\n",
      "            Gradient evaluations: 8\n",
      "Optimization terminated successfully.    (Exit mode 0)\n",
      "            Current function value: -58.67838673225875\n",
      "            Iterations: 11\n",
      "            Function evaluations: 904\n",
      "            Gradient evaluations: 11\n",
      "Optimization terminated successfully.    (Exit mode 0)\n",
      "            Current function value: -381.63331880239764\n",
      "            Iterations: 7\n",
      "            Function evaluations: 576\n",
      "            Gradient evaluations: 7\n",
      "Optimization terminated successfully.    (Exit mode 0)\n",
      "            Current function value: -81.7016831949015\n",
      "            Iterations: 11\n",
      "            Function evaluations: 903\n",
      "            Gradient evaluations: 11\n",
      "Optimization terminated successfully.    (Exit mode 0)\n",
      "            Current function value: -34.829109236324506\n",
      "            Iterations: 12\n",
      "            Function evaluations: 985\n",
      "            Gradient evaluations: 12\n",
      "Optimization terminated successfully.    (Exit mode 0)\n",
      "            Current function value: -26.80198284903696\n",
      "            Iterations: 12\n",
      "            Function evaluations: 985\n",
      "            Gradient evaluations: 12\n",
      "Optimization terminated successfully.    (Exit mode 0)\n",
      "            Current function value: -25.022476426921525\n",
      "            Iterations: 12\n",
      "            Function evaluations: 985\n",
      "            Gradient evaluations: 12\n",
      "Optimization terminated successfully.    (Exit mode 0)\n",
      "            Current function value: -23.435812981176614\n",
      "            Iterations: 12\n",
      "            Function evaluations: 985\n",
      "            Gradient evaluations: 12\n",
      "Optimization terminated successfully.    (Exit mode 0)\n",
      "            Current function value: -22.03222380985858\n",
      "            Iterations: 12\n",
      "            Function evaluations: 985\n",
      "            Gradient evaluations: 12\n",
      "Optimization terminated successfully.    (Exit mode 0)\n",
      "            Current function value: -3.161096835080687\n",
      "            Iterations: 170\n",
      "            Function evaluations: 14226\n",
      "            Gradient evaluations: 170\n",
      "Optimization terminated successfully.    (Exit mode 0)\n",
      "            Current function value: 0.3283374424003988\n",
      "            Iterations: 116\n",
      "            Function evaluations: 9861\n",
      "            Gradient evaluations: 116\n",
      "Optimization terminated successfully.    (Exit mode 0)\n",
      "            Current function value: 2.1441148102008443\n",
      "            Iterations: 160\n",
      "            Function evaluations: 13540\n",
      "            Gradient evaluations: 160\n",
      "Optimization terminated successfully.    (Exit mode 0)\n",
      "            Current function value: 4.975519417460859\n",
      "            Iterations: 113\n",
      "            Function evaluations: 9628\n",
      "            Gradient evaluations: 113\n",
      "Optimization terminated successfully.    (Exit mode 0)\n",
      "            Current function value: 5.374190775374307\n",
      "            Iterations: 430\n",
      "            Function evaluations: 36079\n",
      "            Gradient evaluations: 429\n",
      "Optimization terminated successfully.    (Exit mode 0)\n",
      "            Current function value: 7.964574831420588\n",
      "            Iterations: 122\n",
      "            Function evaluations: 10180\n",
      "            Gradient evaluations: 122\n",
      "Optimization terminated successfully.    (Exit mode 0)\n",
      "            Current function value: 7.514862594077283\n",
      "            Iterations: 163\n",
      "            Function evaluations: 13568\n",
      "            Gradient evaluations: 163\n",
      "Optimization terminated successfully.    (Exit mode 0)\n",
      "            Current function value: 8.870538988221918\n",
      "            Iterations: 197\n",
      "            Function evaluations: 16483\n",
      "            Gradient evaluations: 197\n",
      "Optimization terminated successfully.    (Exit mode 0)\n",
      "            Current function value: 9.55369605139243\n",
      "            Iterations: 705\n",
      "            Function evaluations: 58631\n",
      "            Gradient evaluations: 705\n",
      "Optimization terminated successfully.    (Exit mode 0)\n",
      "            Current function value: 11.181098869855365\n",
      "            Iterations: 188\n",
      "            Function evaluations: 15696\n",
      "            Gradient evaluations: 188\n"
     ]
    }
   ],
   "source": [
    "training_accuracy = []\n",
    "excess_l1_curve = []\n",
    "consine_sim_ntk = []\n",
    "\n",
    "training_accuracy_Q = []\n",
    "excess_l1_Q_curve = []\n",
    "\n",
    "w, a = np.array(w_0), np.array(a_0)\n",
    "\n",
    "for epoch in range(n_epochs):\n",
    "    w, a, gamma_tilde, gamma = update(w, a, x, y, epoch, step_size)\n",
    "    \n",
    "    w_tilde_norms = calc_w_tilde_norms(w, a) / gamma\n",
    "    excess_l1 = np.linalg.norm(w_tilde_norms, ord=1) / np.linalg.norm(w_tilde_norms_opt_L1, ord=1) - 1\n",
    "    training_accuracy.append(gamma_tilde)\n",
    "    excess_l1_curve.append(excess_l1)\n",
    "    \n",
    "    consine_sim_ntk.append(cosine_sim(w_tilde_norms, w_tilde_norms_ntk))\n",
    "    \n",
    "    estimate_Q = False\n",
    "    if (epoch + 1) % 1000 == 0:\n",
    "        estimate_Q = True\n",
    "    if (epoch < 100) and (gamma > 0) and ((epoch + 1) % 10 == 0):\n",
    "        estimate_Q = True\n",
    "    if estimate_Q:      \n",
    "        mu = [alpha**2/gamma_tilde] * m\n",
    "        w_opt_Q, a_opt_Q = solver(x, y, w_0, a_0, m, d, obj='Q', mu=mu)\n",
    "        _, _, _, gamma = update(w_opt_Q, a_opt_Q.reshape(1, -1), x, y, epoch, 0)\n",
    "        w_tilde_norms_Q = calc_w_tilde_norms(w_opt_Q, a_opt_Q) / gamma\n",
    "        \n",
    "        excess_l1_Q = np.linalg.norm(w_tilde_norms_Q, ord=1) / np.linalg.norm(w_tilde_norms_opt_L1, ord=1) - 1\n",
    "        excess_l1_Q_curve.append(excess_l1_Q)\n",
    "        training_accuracy_Q.append(gamma_tilde)"
   ]
  },
  {
   "cell_type": "code",
   "execution_count": 22,
   "metadata": {},
   "outputs": [
    {
     "data": {
      "image/png": "[encoded data removed]",
      "text/plain": [
       "<Figure size 432x288 with 1 Axes>"
      ]
     },
     "metadata": {
      "needs_background": "light"
     },
     "output_type": "display_data"
    }
   ],
   "source": [
    "plot_classifier(w, a, x, y)"
   ]
  },
  {
   "cell_type": "code",
   "execution_count": 23,
   "metadata": {},
   "outputs": [
    {
     "data": {
      "text/plain": [
       "1015534.1610039269"
      ]
     },
     "execution_count": 23,
     "metadata": {},
     "output_type": "execute_result"
    }
   ],
   "source": [
    "gamma_tilde"
   ]
  },
  {
   "cell_type": "code",
   "execution_count": 24,
   "metadata": {
    "scrolled": false
   },
   "outputs": [
    {
     "name": "stderr",
     "output_type": "stream",
     "text": [
      "/Users/shaharazulay/anaconda3/envs/dev/lib/python3.6/site-packages/ipykernel_launcher.py:6: UserWarning: Attempted to set non-positive bottom ylim on a log-scaled axis.\n",
      "Invalid limit will be ignored.\n",
      "  \n",
      "/Users/shaharazulay/anaconda3/envs/dev/lib/python3.6/site-packages/ipykernel_launcher.py:12: UserWarning: Attempted to set non-positive bottom ylim on a log-scaled axis.\n",
      "Invalid limit will be ignored.\n",
      "  if sys.path[0] == '':\n"
     ]
    },
    {
     "data": {
      "text/plain": [
       "Text(0.5, 0, 'Training Accuracy')"
      ]
     },
     "execution_count": 24,
     "metadata": {},
     "output_type": "execute_result"
    },
    {
     "data": {
      "image/png": "[encoded data removed]",
      "text/plain": [
       "<Figure size 432x288 with 2 Axes>"
      ]
     },
     "metadata": {
      "needs_background": "light"
     },
     "output_type": "display_data"
    }
   ],
   "source": [
    "fig, ax1 = plt.subplots()\n",
    "ax1.set_ylabel('Excess L1 norm', color='k')\n",
    "ax1.plot(training_accuracy, excess_l1_curve)\n",
    "ax1.plot(training_accuracy_Q, excess_l1_Q_curve, 'ro')\n",
    "ax1.set_yscale('log')\n",
    "ax1.set_ylim([0, 100]);\n",
    "\n",
    "ax2 = ax1.twinx()\n",
    "ax2.set_ylabel('NTK cosine similarity', color='m')\n",
    "ax2.plot(training_accuracy, consine_sim_ntk, 'm')\n",
    "ax2.set_yscale('log')\n",
    "ax2.set_ylim([0, 1]);\n",
    "\n",
    "xlabel('Training Accuracy')"
   ]
  },
  {
   "cell_type": "code",
   "execution_count": 26,
   "metadata": {},
   "outputs": [
    {
     "data": {
      "text/plain": [
       "(0.011415452044927374, 6.46546882819177)"
      ]
     },
     "execution_count": 26,
     "metadata": {},
     "output_type": "execute_result"
    }
   ],
   "source": [
    "min_mu = min([alpha**2/t for t in training_accuracy_Q])\n",
    "max_mu = max([alpha**2/t for t in training_accuracy_Q])\n",
    "\n",
    "min_mu, max_mu"
   ]
  },
  {
   "cell_type": "code",
   "execution_count": 27,
   "metadata": {},
   "outputs": [
    {
     "name": "stderr",
     "output_type": "stream",
     "text": [
      "/Users/shaharazulay/anaconda3/envs/dev/lib/python3.6/site-packages/ipykernel_launcher.py:6: UserWarning: Attempted to set non-positive bottom ylim on a log-scaled axis.\n",
      "Invalid limit will be ignored.\n",
      "  \n"
     ]
    },
    {
     "data": {
      "text/plain": [
       "<matplotlib.legend.Legend at 0x12add4668>"
      ]
     },
     "execution_count": 27,
     "metadata": {},
     "output_type": "execute_result"
    },
    {
     "data": {
      "image/png": "[encoded data removed]",
      "text/plain": [
       "<Figure size 432x288 with 1 Axes>"
      ]
     },
     "metadata": {
      "needs_background": "light"
     },
     "output_type": "display_data"
    }
   ],
   "source": [
    "plot([alpha**2/t for t in training_accuracy], excess_l1_curve)\n",
    "plot([alpha**2/t for t in training_accuracy_Q], excess_l1_Q_curve, 'ro')\n",
    "\n",
    "ylabel('Excess L1 norm')\n",
    "yscale('log')\n",
    "ylim([0, 100])\n",
    "xlim([0, 10])\n",
    "xlabel('mu')\n",
    "legend(['alpha = 50', 'Q_func(mu)'])"
   ]
  },
  {
   "cell_type": "markdown",
   "metadata": {},
   "source": [
    "### Explore mu --> inf"
   ]
  },
  {
   "cell_type": "code",
   "execution_count": 28,
   "metadata": {},
   "outputs": [],
   "source": [
    "step_size = 0.01\n",
    "epoch = 0\n",
    "n_epochs = 1000"
   ]
  },
  {
   "cell_type": "code",
   "execution_count": 45,
   "metadata": {},
   "outputs": [],
   "source": [
    "def solve_ntk(w_0, a_0):\n",
    "    w_opt_ntk, a_opt_ntk = np.array(w_0), np.array(a_0)\n",
    "    while True:\n",
    "        w_opt_ntk, a_opt_ntk, gamma_tilde, gamma = update_ntk(w_opt_ntk, a_opt_ntk, w_0, a_0, x, y, epoch, step_size)\n",
    "        if gamma >= 1:\n",
    "            break\n",
    "    return w_opt_ntk, a_opt_ntk"
   ]
  },
  {
   "cell_type": "code",
   "execution_count": 27,
   "metadata": {},
   "outputs": [
    {
     "name": "stdout",
     "output_type": "stream",
     "text": [
      "Optimization terminated successfully.    (Exit mode 0)\n",
      "            Current function value: -999.9999996886417\n",
      "            Iterations: 5\n",
      "            Function evaluations: 411\n",
      "            Gradient evaluations: 5\n"
     ]
    },
    {
     "data": {
      "text/plain": [
       "(2000.0001781499398, 2000)"
      ]
     },
     "execution_count": 27,
     "metadata": {},
     "output_type": "execute_result"
    }
   ],
   "source": [
    "mu_val = 100\n",
    "w_0, a_0 = symmetric_init(alpha=10, m=20, d=3)\n",
    "w_opt_Q, a_opt_Q = solver(x, y, w_0, a_0, m, d, obj='Q', mu=[mu_val] * m, optim_tol=1e-5)\n",
    "w_tilde_norms_Q = calc_w_tilde_norms(w_opt_Q, a_opt_Q)\n",
    "\n",
    "np.linalg.norm(w_tilde_norms_Q, ord=1), mu_val*m"
   ]
  },
  {
   "cell_type": "code",
   "execution_count": 28,
   "metadata": {},
   "outputs": [
    {
     "data": {
      "text/plain": [
       "array([10.        , 10.00006536, 10.        , 10.00012806,  9.99971215,\n",
       "       10.00027048, 10.        , 10.        , 10.        , 10.00021104,\n",
       "       10.00001106,  9.99995474, 10.        , 10.00001154, 10.00029797,\n",
       "        9.99997411, 10.        , 10.        , 10.        ,  9.99979706])"
      ]
     },
     "execution_count": 28,
     "metadata": {},
     "output_type": "execute_result"
    }
   ],
   "source": [
    "np.linalg.norm(w_opt_Q, ord=2, axis=1)"
   ]
  },
  {
   "cell_type": "code",
   "execution_count": 49,
   "metadata": {},
   "outputs": [
    {
     "name": "stdout",
     "output_type": "stream",
     "text": [
      "Optimization terminated successfully.    (Exit mode 0)\n",
      "            Current function value: -999.9999999978915\n",
      "            Iterations: 7\n",
      "            Function evaluations: 576\n",
      "            Gradient evaluations: 7\n",
      "-0.8939464670504736\n",
      "Optimization terminated successfully.    (Exit mode 0)\n",
      "            Current function value: -9999.999999953054\n",
      "            Iterations: 8\n",
      "            Function evaluations: 659\n",
      "            Gradient evaluations: 8\n",
      "3.911635866741201\n",
      "Optimization terminated successfully.    (Exit mode 0)\n",
      "            Current function value: -999999.9999603773\n",
      "            Iterations: 12\n",
      "            Function evaluations: 996\n",
      "            Gradient evaluations: 12\n",
      "193.7510258704467\n",
      "Optimization terminated successfully.    (Exit mode 0)\n",
      "            Current function value: -99999999.60128812\n",
      "            Iterations: 41\n",
      "            Function evaluations: 3534\n",
      "            Gradient evaluations: 41\n",
      "-0.8757237908531892\n",
      "Optimization terminated successfully.    (Exit mode 0)\n",
      "            Current function value: -9999994591.93467\n",
      "            Iterations: 19\n",
      "            Function evaluations: 1599\n",
      "            Gradient evaluations: 19\n",
      "5.82786428876901\n",
      "Optimization terminated successfully.    (Exit mode 0)\n",
      "            Current function value: -99999686185.01396\n",
      "            Iterations: 9\n",
      "            Function evaluations: 747\n",
      "            Gradient evaluations: 9\n",
      "-0.7955514503903408\n"
     ]
    }
   ],
   "source": [
    "for mu_val in [100, 1000, 1e5, 1e7, 1e9, 1e10]: \n",
    "    mu = [mu_val] * m\n",
    "    w_0, a_0 = symmetric_init(alpha=mu_val**2, m=20, d=3)\n",
    "    w_opt_ntk, a_opt_ntk = solve_ntk(w_0, a_0)\n",
    "    \n",
    "    gamma_ntk = minimal_margin(w_opt_ntk, a_opt_ntk, x, y)\n",
    "    w_tilde_norms_ntk = calc_w_tilde_norms(w_opt_ntk, a_opt_ntk) / gamma_ntk    \n",
    "    \n",
    "    w_0, a_0 = symmetric_init(alpha=1, m=20, d=3)\n",
    "    w_opt_Q, a_opt_Q = solver(x, y, w_0, a_0, m, d, obj='Q', mu=mu, optim_tol=1e-5)\n",
    "    gamma_Q = minimal_margin(w_opt_Q, a_opt_Q, x, y)\n",
    "    w_tilde_norms_Q = calc_w_tilde_norms(w_opt_Q, a_opt_Q) / gamma_Q\n",
    "    \n",
    "    excess_L1 = np.linalg.norm(w_tilde_norms_Q, ord=1) / np.linalg.norm(w_tilde_norms_ntk, ord=1) - 1\n",
    "    print(excess_L1)"
   ]
  },
  {
   "cell_type": "code",
   "execution_count": 50,
   "metadata": {},
   "outputs": [
    {
     "data": {
      "text/plain": [
       "(array([1.00000000e+20, 1.00029860e+20, 1.00000000e+20, 1.00000000e+20,\n",
       "        1.00115231e+20, 9.98297460e+19, 9.99475624e+19, 1.00000000e+20,\n",
       "        9.99251252e+19, 1.00000000e+20, 1.00000000e+20, 9.99702428e+19,\n",
       "        1.00000000e+20, 1.00000000e+20, 9.98848919e+19, 1.00170283e+20,\n",
       "        1.00052729e+20, 1.00000000e+20, 1.00074930e+20, 1.00000000e+20]),\n",
       " -1.1946545285153552e+38)"
      ]
     },
     "execution_count": 50,
     "metadata": {},
     "output_type": "execute_result"
    }
   ],
   "source": [
    "np.linalg.norm(w_opt_ntk, axis=1), gamma_ntk"
   ]
  },
  {
   "cell_type": "code",
   "execution_count": 52,
   "metadata": {},
   "outputs": [
    {
     "data": {
      "text/plain": [
       "(array([ 99835.12925518, 101146.56738456, 100016.56617198, 100553.60121808,\n",
       "        100464.25190579,  99736.82161901,  99959.12898192, 100710.41638985,\n",
       "        101017.8076026 ,  99407.41027792,  99744.48390166, 100197.48135476,\n",
       "         99491.05465203,  99935.43604688, 100104.32045679, 100221.6122438 ,\n",
       "        100596.16812743,  99188.67847869,  99795.99570881,  99992.35724325]),\n",
       " 584607394.4297371)"
      ]
     },
     "execution_count": 52,
     "metadata": {},
     "output_type": "execute_result"
    }
   ],
   "source": [
    "np.linalg.norm(w_opt_Q, axis=1), gamma_Q"
   ]
  },
  {
   "cell_type": "code",
   "execution_count": 53,
   "metadata": {},
   "outputs": [
    {
     "data": {
      "image/png": "[encoded data removed]",
      "text/plain": [
       "<Figure size 432x288 with 1 Axes>"
      ]
     },
     "metadata": {
      "needs_background": "light"
     },
     "output_type": "display_data"
    }
   ],
   "source": [
    "plot_classifier(w_opt_Q, a_opt_Q, x, y)"
   ]
  },
  {
   "cell_type": "code",
   "execution_count": 54,
   "metadata": {},
   "outputs": [
    {
     "data": {
      "image/png": "[encoded data removed]",
      "text/plain": [
       "<Figure size 432x288 with 1 Axes>"
      ]
     },
     "metadata": {
      "needs_background": "light"
     },
     "output_type": "display_data"
    }
   ],
   "source": [
    "plot_classifier(w_opt_ntk, a_opt_ntk, x, y)"
   ]
  },
  {
   "cell_type": "code",
   "execution_count": 60,
   "metadata": {},
   "outputs": [
    {
     "data": {
      "text/plain": [
       "[<matplotlib.lines.Line2D at 0x12d3dc2b0>]"
      ]
     },
     "execution_count": 60,
     "metadata": {},
     "output_type": "execute_result"
    },
    {
     "data": {
      "image/png": "[encoded data removed]",
      "text/plain": [
       "<Figure size 432x288 with 1 Axes>"
      ]
     },
     "metadata": {
      "needs_background": "light"
     },
     "output_type": "display_data"
    }
   ],
   "source": [
    "plot([v/(mu_val*m) for v, mu_val in zip(r, mu)])"
   ]
  },
  {
   "cell_type": "code",
   "execution_count": 11,
   "metadata": {},
   "outputs": [
    {
     "name": "stdout",
     "output_type": "stream",
     "text": [
      "Optimization terminated successfully.    (Exit mode 0)\n",
      "            Current function value: 10.751599931120392\n",
      "            Iterations: 287\n",
      "            Function evaluations: 24148\n",
      "            Gradient evaluations: 286\n",
      "0.9999950726983836\n",
      "Optimization terminated successfully.    (Exit mode 0)\n",
      "            Current function value: 2.7888806486005255\n",
      "            Iterations: 123\n",
      "            Function evaluations: 10462\n",
      "            Gradient evaluations: 123\n",
      "0.9999914888157558\n",
      "Optimization terminated successfully.    (Exit mode 0)\n",
      "            Current function value: -4.872739220058211\n",
      "            Iterations: 91\n",
      "            Function evaluations: 7758\n",
      "            Gradient evaluations: 91\n",
      "0.9999954670769956\n",
      "Optimization terminated successfully.    (Exit mode 0)\n",
      "            Current function value: -7.497487544495298\n",
      "            Iterations: 82\n",
      "            Function evaluations: 6781\n",
      "            Gradient evaluations: 82\n",
      "0.999994017470901\n",
      "Optimization terminated successfully.    (Exit mode 0)\n",
      "            Current function value: -9.9999999942112\n",
      "            Iterations: 10\n",
      "            Function evaluations: 823\n",
      "            Gradient evaluations: 10\n",
      "0.9999999525973144\n",
      "Optimization terminated successfully.    (Exit mode 0)\n",
      "            Current function value: -12.499998949021286\n",
      "            Iterations: 8\n",
      "            Function evaluations: 656\n",
      "            Gradient evaluations: 8\n",
      "0.9999923115534879\n",
      "Optimization terminated successfully.    (Exit mode 0)\n",
      "            Current function value: -19.99999913518049\n",
      "            Iterations: 8\n",
      "            Function evaluations: 656\n",
      "            Gradient evaluations: 8\n",
      "1.0000054235404339\n",
      "Optimization terminated successfully.    (Exit mode 0)\n",
      "            Current function value: -49.99999997181263\n",
      "            Iterations: 8\n",
      "            Function evaluations: 658\n",
      "            Gradient evaluations: 8\n",
      "0.9999998366659226\n",
      "Optimization terminated successfully.    (Exit mode 0)\n",
      "            Current function value: -99.99999999244201\n",
      "            Iterations: 7\n",
      "            Function evaluations: 576\n",
      "            Gradient evaluations: 7\n",
      "0.9999983882375147\n"
     ]
    }
   ],
   "source": [
    "r = []\n",
    "for mu_val in [0.01, 0.1, 0.5, 0.75, 1, 1.25, 2, 5, 10]: \n",
    "    mu = [mu_val] * m\n",
    "    w_0, a_0 = symmetric_init(alpha=1, m=20, d=3)\n",
    "   \n",
    "    w_opt_Q, a_opt_Q = solver(x, y, w_0, a_0, m, d, obj='Q', mu=mu, optim_tol=1e-5)\n",
    "    gamma_Q = minimal_margin(w_opt_Q, a_opt_Q, x, y)\n",
    "    print(gamma_Q)\n",
    "    w_tilde_norms_Q = calc_w_tilde_norms(w_opt_Q, a_opt_Q)\n",
    "    r.append(np.linalg.norm(w_tilde_norms_Q, ord=1))"
   ]
  },
  {
   "cell_type": "code",
   "execution_count": 30,
   "metadata": {},
   "outputs": [
    {
     "data": {
      "image/png": "[encoded data removed]",
      "text/plain": [
       "<Figure size 432x288 with 1 Axes>"
      ]
     },
     "metadata": {
      "needs_background": "light"
     },
     "output_type": "display_data"
    }
   ],
   "source": [
    "plot_classifier(w_opt_Q, a_opt_Q, x, y)"
   ]
  },
  {
   "cell_type": "code",
   "execution_count": 73,
   "metadata": {},
   "outputs": [],
   "source": [
    "mu = [0.01, 0.1, 0.5, 0.75, 1, 1.25, 2, 5, 10]"
   ]
  },
  {
   "cell_type": "code",
   "execution_count": 84,
   "metadata": {},
   "outputs": [
    {
     "data": {
      "text/plain": [
       "<matplotlib.legend.Legend at 0x12d3c9940>"
      ]
     },
     "execution_count": 84,
     "metadata": {},
     "output_type": "execute_result"
    },
    {
     "data": {
      "image/png": "[encoded data removed]",
      "text/plain": [
       "<Figure size 432x288 with 1 Axes>"
      ]
     },
     "metadata": {
      "needs_background": "light"
     },
     "output_type": "display_data"
    }
   ],
   "source": [
    "plot(mu, [v for v, mu_val in zip(r, mu)])\n",
    "plot(mu, [(mu_val*m) for v, mu_val in zip(r, mu)])\n",
    "xlabel('mu')\n",
    "ylim([0, 120])\n",
    "xscale('log')\n",
    "legend(['Q Excess L1', 'mu * m'])"
   ]
  },
  {
   "cell_type": "code",
   "execution_count": 10,
   "metadata": {},
   "outputs": [
    {
     "name": "stdout",
     "output_type": "stream",
     "text": [
      "Optimization terminated successfully.    (Exit mode 0)\n",
      "            Current function value: 7.470214883979356\n",
      "            Iterations: 1876\n",
      "            Function evaluations: 154885\n",
      "            Gradient evaluations: 1876\n",
      "8.302226069583892\n",
      "Optimization terminated successfully.    (Exit mode 0)\n",
      "            Current function value: 90.90221733932464\n",
      "            Iterations: 505\n",
      "            Function evaluations: 43505\n",
      "            Gradient evaluations: 504\n",
      "7.932690645233391\n",
      "Optimization terminated successfully.    (Exit mode 0)\n",
      "            Current function value: 733.7631295200604\n",
      "            Iterations: 400\n",
      "            Function evaluations: 34116\n",
      "            Gradient evaluations: 399\n",
      "8.301945050288463\n",
      "Optimization terminated successfully.    (Exit mode 0)\n",
      "            Current function value: 7337.729508773504\n",
      "            Iterations: 629\n",
      "            Function evaluations: 54188\n",
      "            Gradient evaluations: 627\n",
      "8.300212499806317\n"
     ]
    }
   ],
   "source": [
    "for alpha in [1, 10, 100, 1000]:\n",
    "    w_0, a_0 = symmetric_init(alpha=alpha, m=20, d=3)\n",
    "    w_opt_L2, a_opt_L2 = solver(x, y, w_0, a_0, m, d, obj='L2')\n",
    "    w_tilde_norms_L2 = calc_w_tilde_norms(w_opt_L2, a_opt_L2)\n",
    "    print(np.linalg.norm(w_tilde_norms_L2, ord=1))"
   ]
  }
 ],
 "metadata": {
  "kernelspec": {
   "display_name": "Python 3",
   "language": "python",
   "name": "python3"
  },
  "language_info": {
   "codemirror_mode": {
    "name": "ipython",
    "version": 3
   },
   "file_extension": ".py",
   "mimetype": "text/x-python",
   "name": "python",
   "nbconvert_exporter": "python",
   "pygments_lexer": "ipython3",
   "version": "3.6.8"
  }
 },
 "nbformat": 4,
 "nbformat_minor": 2
}
