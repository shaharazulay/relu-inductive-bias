{
 "cells": [
  {
   "cell_type": "code",
   "execution_count": 1,
   "metadata": {},
   "outputs": [
    {
     "name": "stdout",
     "output_type": "stream",
     "text": [
      "Populating the interactive namespace from numpy and matplotlib\n"
     ]
    }
   ],
   "source": [
    "%pylab inline"
   ]
  },
  {
   "cell_type": "code",
   "execution_count": 2,
   "metadata": {},
   "outputs": [],
   "source": [
    "import numpy as np\n",
    "from scipy.optimize import minimize\n",
    "from sklearn.linear_model import LinearRegression"
   ]
  },
  {
   "cell_type": "markdown",
   "metadata": {},
   "source": [
    "### Define Dimensions"
   ]
  },
  {
   "cell_type": "markdown",
   "metadata": {},
   "source": [
    "* we choose an underdetermined where N << d"
   ]
  },
  {
   "cell_type": "code",
   "execution_count": 502,
   "metadata": {},
   "outputs": [],
   "source": [
    "N = 20\n",
    "d = 25"
   ]
  },
  {
   "cell_type": "markdown",
   "metadata": {},
   "source": [
    "### Define Dataset"
   ]
  },
  {
   "cell_type": "markdown",
   "metadata": {},
   "source": [
    "* to make sure the data is realizable by a linear model we create the y using a fitter linear regressor.\n",
    "\n",
    "* the regressor is chosen to have positive coefficients and no intercept to simulate our u^2 model."
   ]
  },
  {
   "cell_type": "code",
   "execution_count": 503,
   "metadata": {},
   "outputs": [],
   "source": [
    "x = np.random.normal(size=(N, d))\n",
    "y_inital = np.zeros((N,))    # this is just a place-hold for the shape of y"
   ]
  },
  {
   "cell_type": "code",
   "execution_count": 504,
   "metadata": {},
   "outputs": [],
   "source": [
    "reg = LinearRegression().fit(x, y_inital)\n",
    "reg.coef_ = np.random.random(size=(d,))   # set positive coefficients only"
   ]
  },
  {
   "cell_type": "code",
   "execution_count": 505,
   "metadata": {},
   "outputs": [],
   "source": [
    "y = reg.predict(x)"
   ]
  },
  {
   "cell_type": "markdown",
   "metadata": {},
   "source": [
    "### Define Gradient Decent"
   ]
  },
  {
   "cell_type": "markdown",
   "metadata": {},
   "source": [
    "* $r_n(t) = \\mathbf{X}^T \\cdot \\mathbf{u}^2(t) - y$\n",
    "\n",
    "* $\\dot{\\mathbf{u}_i}(t) = - \\mathbf{u}_i(t) \\sum_n x_{n, i} r_n(t)$\n",
    "\n",
    "* $L(u) = \\frac12 \\sum_n r_n(t)^2$"
   ]
  },
  {
   "cell_type": "code",
   "execution_count": 471,
   "metadata": {},
   "outputs": [],
   "source": [
    "def update(u, x, y, step_size):\n",
    "    r = np.dot(x, u**2) - y\n",
    "    grad_u = - np.multiply(np.dot(x.transpose(), r), u)\n",
    "    u = u + step_size * grad_u\n",
    "    loss = 0.5 * np.sum(r**2)\n",
    "    return u, loss"
   ]
  },
  {
   "cell_type": "markdown",
   "metadata": {},
   "source": [
    "### Define Q"
   ]
  },
  {
   "cell_type": "markdown",
   "metadata": {},
   "source": [
    "* $q(z) = \\frac{z \\cdot (ln(z) - 1)}{2}$\n",
    "* $Q(w) = \\sum_{i \\in [d]} w_i(0) \\cdot q(\\frac{w_i}{w_i(0)})$"
   ]
  },
  {
   "cell_type": "code",
   "execution_count": 472,
   "metadata": {},
   "outputs": [],
   "source": [
    "def q_func(x):\n",
    "    return 0.5 * x * (np.log(x) - 1)"
   ]
  },
  {
   "cell_type": "code",
   "execution_count": 473,
   "metadata": {},
   "outputs": [],
   "source": [
    "def Q_func(w, w_0):\n",
    "    f = 0\n",
    "    for w_i, w_0_i in zip(w, w_0):\n",
    "        f += w_0_i * q_func(w_i / w_0_i)\n",
    "    return f"
   ]
  },
  {
   "cell_type": "code",
   "execution_count": 474,
   "metadata": {},
   "outputs": [],
   "source": [
    "def solver(x, y, w_0, obj='L1', optim_tol=1e-6, x0=None):\n",
    "    if x0 is None:\n",
    "        x0 = w_0\n",
    "        \n",
    "    cons = {'type': 'eq', 'fun': lambda w: np.dot(x, w) - y}\n",
    "\n",
    "    if obj == 'L1':\n",
    "        objective = lambda w: np.linalg.norm(w, ord=1)\n",
    "    elif obj == 'minus_L1':\n",
    "        objective = lambda w: - np.linalg.norm(w, ord=1)\n",
    "    elif obj == 'Q':\n",
    "        objective = lambda w: Q_func(w, w_0)\n",
    "    else:\n",
    "        raise ValueError('objective not supported.')\n",
    "    \n",
    "    sol = minimize(\n",
    "        fun=objective,\n",
    "        x0=x0,\n",
    "        constraints=cons,\n",
    "        tol=optim_tol,\n",
    "        method='SLSQP',\n",
    "        options={\n",
    "            'maxiter': 100000,\n",
    "            'disp': True\n",
    "        },\n",
    "        bounds=[(1e-10, np.infty)] * len(w_0)  # to keep the input to Q positive.\n",
    "    )\n",
    "    is_failed = (not sol.success)\n",
    "    if is_failed:\n",
    "        raise RuntimeError('Minimization Failed.')\n",
    "\n",
    "    return sol.x"
   ]
  },
  {
   "cell_type": "markdown",
   "metadata": {},
   "source": [
    "### Find L1 solution"
   ]
  },
  {
   "cell_type": "code",
   "execution_count": 506,
   "metadata": {},
   "outputs": [],
   "source": [
    "u_0 = np.random.normal(size=(d,))\n",
    "w_0 = u_0**2"
   ]
  },
  {
   "cell_type": "code",
   "execution_count": 507,
   "metadata": {},
   "outputs": [
    {
     "name": "stdout",
     "output_type": "stream",
     "text": [
      "Optimization terminated successfully.    (Exit mode 0)\n",
      "            Current function value: 12.5840316375154\n",
      "            Iterations: 6\n",
      "            Function evaluations: 162\n",
      "            Gradient evaluations: 6\n"
     ]
    },
    {
     "data": {
      "text/plain": [
       "12.5840316375154"
      ]
     },
     "execution_count": 507,
     "metadata": {},
     "output_type": "execute_result"
    }
   ],
   "source": [
    "w_opt_L1 = solver(x, y, w_0, obj='L1', optim_tol=1e-5)\n",
    "\n",
    "minimal_L1 = np.linalg.norm(w_opt_L1, ord=1)\n",
    "minimal_L1"
   ]
  },
  {
   "cell_type": "code",
   "execution_count": 508,
   "metadata": {},
   "outputs": [
    {
     "data": {
      "text/plain": [
       "8.085412996844883e-16"
      ]
     },
     "execution_count": 508,
     "metadata": {},
     "output_type": "execute_result"
    }
   ],
   "source": [
    "loss = 0.5 * np.sum((np.dot(x, w_opt_L1) - y)**2)\n",
    "loss"
   ]
  },
  {
   "cell_type": "code",
   "execution_count": 509,
   "metadata": {},
   "outputs": [
    {
     "name": "stdout",
     "output_type": "stream",
     "text": [
      "Optimization terminated successfully.    (Exit mode 0)\n",
      "            Current function value: -18.889423734369352\n",
      "            Iterations: 6\n",
      "            Function evaluations: 162\n",
      "            Gradient evaluations: 6\n"
     ]
    },
    {
     "data": {
      "text/plain": [
       "18.889423734369352"
      ]
     },
     "execution_count": 509,
     "metadata": {},
     "output_type": "execute_result"
    }
   ],
   "source": [
    "w_opt_minus_L1 = solver(x, y, w_0, obj='minus_L1', optim_tol=1e-5)\n",
    "\n",
    "maximal_L1 = np.linalg.norm(w_opt_minus_L1, ord=1)\n",
    "maximal_L1"
   ]
  },
  {
   "cell_type": "markdown",
   "metadata": {},
   "source": [
    "### Run GD"
   ]
  },
  {
   "cell_type": "markdown",
   "metadata": {},
   "source": [
    "* check GD solutions at high / low $\\alpha$ values where:\n",
    "* $u_0 \\sim{}  N(0, \\alpha)$ "
   ]
  },
  {
   "cell_type": "code",
   "execution_count": 479,
   "metadata": {},
   "outputs": [],
   "source": [
    "def run_GD(u_0, n_epochs, step_size): \n",
    "    u = np.array(u_0)\n",
    "\n",
    "    for epoch in range(n_epochs):\n",
    "        u, loss = update(u, x, y, step_size)\n",
    "        \n",
    "    L1 = np.linalg.norm(u**2, ord=1)\n",
    "    return L1, u, loss"
   ]
  },
  {
   "cell_type": "code",
   "execution_count": 480,
   "metadata": {},
   "outputs": [
    {
     "data": {
      "text/plain": [
       "(9.963644472008074, 0.07079035761211727)"
      ]
     },
     "execution_count": 480,
     "metadata": {},
     "output_type": "execute_result"
    }
   ],
   "source": [
    "u_0 = np.random.normal(size=(d,), loc=0, scale=1e-6)  \n",
    "\n",
    "L1, u, loss = run_GD(u_0=u_0, n_epochs=10000, step_size=0.01)\n",
    "L1, loss"
   ]
  },
  {
   "cell_type": "code",
   "execution_count": 481,
   "metadata": {},
   "outputs": [
    {
     "data": {
      "text/plain": [
       "(21439.673887101188, 3522876.0600530854)"
      ]
     },
     "execution_count": 481,
     "metadata": {},
     "output_type": "execute_result"
    }
   ],
   "source": [
    "u_0 = np.random.normal(size=(d,), loc=0, scale=100)  \n",
    "\n",
    "L1, u, loss = run_GD(u_0=u_0, n_epochs=10000, step_size=0.001/100**2)\n",
    "L1, loss"
   ]
  },
  {
   "cell_type": "code",
   "execution_count": 486,
   "metadata": {},
   "outputs": [],
   "source": [
    "excess_L1_GD = []\n",
    "excess_maximal_L1_GD = []\n",
    "loss_GD = []\n",
    "\n",
    "alpha_range = [1e-6, 1e-3, 1e-2, 1e-1, 0.5, 1, 2.5, 10, 1e2, 1e3, 1e5]\n",
    "\n",
    "for alpha in alpha_range:\n",
    "    u_0 = np.random.normal(size=(d,), loc=0, scale=alpha)   \n",
    "    w_0 = np.array(u_0**2)\n",
    "   \n",
    "    L1,  u, loss = run_GD(u_0=u_0, n_epochs=100000, step_size=0.001/max(0.1, alpha**2))\n",
    "    excess_L1_GD.append(L1 - minimal_L1)\n",
    "    excess_maximal_L1_GD.append(maximal_L1 - L1)\n",
    "    loss_GD.append(loss)"
   ]
  },
  {
   "cell_type": "code",
   "execution_count": 487,
   "metadata": {},
   "outputs": [
    {
     "data": {
      "text/plain": [
       "<matplotlib.legend.Legend at 0x142a4f2b0>"
      ]
     },
     "execution_count": 487,
     "metadata": {},
     "output_type": "execute_result"
    },
    {
     "data": {
      "image/png": "[encoded data removed]",
      "text/plain": [
       "<Figure size 864x576 with 1 Axes>"
      ]
     },
     "metadata": {
      "needs_background": "light"
     },
     "output_type": "display_data"
    }
   ],
   "source": [
    "plot(alpha_range, excess_L1_GD)\n",
    "plot(alpha_range, excess_maximal_L1_GD)\n",
    "yscale('log')\n",
    "xscale('log')\n",
    "xlabel('alpha')\n",
    "ylabel('Excess Norm (w(t))')\n",
    "legend(['L1', 'Maximal L1'])"
   ]
  },
  {
   "cell_type": "code",
   "execution_count": 488,
   "metadata": {},
   "outputs": [
    {
     "data": {
      "text/plain": [
       "[1.9134129404926743e-27,\n",
       " 8.440688426348386e-28,\n",
       " 4.885883972196201e-28,\n",
       " 3.0204744503813897e-28,\n",
       " 2.5835518202218794e-27,\n",
       " 1.8171411456537285e-18,\n",
       " 3.8501636919284436e-07,\n",
       " 4.384162270965607,\n",
       " 77054.71065614224,\n",
       " 692850000.9112918,\n",
       " 7.533604634509318e+16]"
      ]
     },
     "execution_count": 488,
     "metadata": {},
     "output_type": "execute_result"
    }
   ],
   "source": [
    "loss_GD"
   ]
  },
  {
   "cell_type": "code",
   "execution_count": 489,
   "metadata": {},
   "outputs": [
    {
     "data": {
      "text/plain": [
       "[14.172885301433771,\n",
       " 14.171955613334417,\n",
       " 14.094728680927208,\n",
       " 14.11096888518488,\n",
       " 13.578727183524407,\n",
       " 10.286721493421714,\n",
       " 7.523150110966306,\n",
       " -28.80356377443203,\n",
       " -3387.958694729387,\n",
       " -323698.7703081937,\n",
       " -3380031919.3548603]"
      ]
     },
     "execution_count": 489,
     "metadata": {},
     "output_type": "execute_result"
    }
   ],
   "source": [
    "excess_maximal_L1_GD"
   ]
  },
  {
   "cell_type": "markdown",
   "metadata": {},
   "source": [
    "### Compare Q to GD"
   ]
  },
  {
   "cell_type": "code",
   "execution_count": 187,
   "metadata": {},
   "outputs": [
    {
     "name": "stdout",
     "output_type": "stream",
     "text": [
      "Optimization terminated successfully.    (Exit mode 0)\n",
      "            Current function value: 9.874228002947541\n",
      "            Iterations: 9\n",
      "            Function evaluations: 279\n",
      "            Gradient evaluations: 9\n",
      "Optimization terminated successfully.    (Exit mode 0)\n",
      "            Current function value: 7.078155481489701\n",
      "            Iterations: 4\n",
      "            Function evaluations: 128\n",
      "            Gradient evaluations: 4\n",
      "Optimization terminated successfully.    (Exit mode 0)\n",
      "            Current function value: -2.0202970356027716\n",
      "            Iterations: 16\n",
      "            Function evaluations: 449\n",
      "            Gradient evaluations: 16\n",
      "Optimization terminated successfully.    (Exit mode 0)\n",
      "            Current function value: -8.743194295582054\n",
      "            Iterations: 22\n",
      "            Function evaluations: 612\n",
      "            Gradient evaluations: 22\n",
      "Optimization terminated successfully.    (Exit mode 0)\n",
      "            Current function value: -759.4331814469699\n",
      "            Iterations: 49\n",
      "            Function evaluations: 1331\n",
      "            Gradient evaluations: 49\n",
      "Optimization terminated successfully.    (Exit mode 0)\n",
      "            Current function value: -55413.39091921621\n",
      "            Iterations: 185\n",
      "            Function evaluations: 5061\n",
      "            Gradient evaluations: 185\n"
     ]
    }
   ],
   "source": [
    "L1_GD = []\n",
    "L2_GD = []\n",
    "loss_GD = []\n",
    "L1_Q = []\n",
    "L2_Q = []\n",
    "loss_Q = []\n",
    "\n",
    "alpha_range = [1e-2, 1e-1, 0.5, 1, 10, 1e2]\n",
    "\n",
    "for alpha in alpha_range:\n",
    "    u_0 = np.random.normal(size=(d,), loc=0, scale=alpha)   \n",
    "    w_0 = np.array(u_0**2)\n",
    "\n",
    "    w_opt_Q = solver(x, y, w_0, obj='Q', optim_tol=1e-3)\n",
    "    \n",
    "    loss_Q.append(0.5 * np.sum((np.dot(x, w_opt_Q) - y)**2))\n",
    "    L1_Q.append(np.linalg.norm(w_opt_Q, ord=1))\n",
    "    L2_Q.append(np.linalg.norm(w_opt_Q, ord=2))\n",
    "    \n",
    "    L1, L2, u, loss = run_GD(u_0=u_0, n_epochs=10000, step_size=0.001/max(0.01, alpha**2))\n",
    "    L1_GD.append(L1)\n",
    "    L2_GD.append(L2)\n",
    "    loss_GD.append(loss)"
   ]
  },
  {
   "cell_type": "code",
   "execution_count": 188,
   "metadata": {},
   "outputs": [
    {
     "data": {
      "text/plain": [
       "<matplotlib.legend.Legend at 0x13038cc50>"
      ]
     },
     "execution_count": 188,
     "metadata": {},
     "output_type": "execute_result"
    },
    {
     "data": {
      "image/png": "[encoded data removed]",
      "text/plain": [
       "<Figure size 432x288 with 1 Axes>"
      ]
     },
     "metadata": {
      "needs_background": "light"
     },
     "output_type": "display_data"
    }
   ],
   "source": [
    "plot(alpha_range, L1_GD);\n",
    "plot(alpha_range, L1_Q, 'ro');\n",
    "yscale('log')\n",
    "xscale('log')\n",
    "xlabel('alpha')\n",
    "ylabel('L1 (w(t))')\n",
    "legend(['GD', 'Q minimization'])"
   ]
  },
  {
   "cell_type": "code",
   "execution_count": 189,
   "metadata": {},
   "outputs": [
    {
     "data": {
      "text/plain": [
       "[2.389116096012366e-31,\n",
       " 2.1580045026858978e-31,\n",
       " 6.499628376318044e-29,\n",
       " 1.1256109115550866e-27,\n",
       " 1.9962060571253212e-23,\n",
       " 1.6590079120968658e-19]"
      ]
     },
     "execution_count": 189,
     "metadata": {},
     "output_type": "execute_result"
    }
   ],
   "source": [
    "loss_GD"
   ]
  },
  {
   "cell_type": "code",
   "execution_count": 190,
   "metadata": {},
   "outputs": [
    {
     "data": {
      "text/plain": [
       "[9.857151368677916e-17,\n",
       " 6.488817651702231e-16,\n",
       " 9.014339193142668e-20,\n",
       " 1.1473077632132885e-18,\n",
       " 4.1104764112116337e-13,\n",
       " 6.323033789432937e-08]"
      ]
     },
     "execution_count": 190,
     "metadata": {},
     "output_type": "execute_result"
    }
   ],
   "source": [
    "loss_Q"
   ]
  },
  {
   "cell_type": "markdown",
   "metadata": {},
   "source": [
    "### Compare Q and Minus L1"
   ]
  },
  {
   "cell_type": "code",
   "execution_count": 510,
   "metadata": {
    "scrolled": true
   },
   "outputs": [
    {
     "name": "stdout",
     "output_type": "stream",
     "text": [
      "Optimization terminated successfully.    (Exit mode 0)\n",
      "            Current function value: -2.2956791592603576\n",
      "            Iterations: 4\n",
      "            Function evaluations: 120\n",
      "            Gradient evaluations: 4\n",
      "Optimization terminated successfully.    (Exit mode 0)\n",
      "            Current function value: -44.54223266135092\n",
      "            Iterations: 3\n",
      "            Function evaluations: 95\n",
      "            Gradient evaluations: 3\n",
      "Optimization terminated successfully.    (Exit mode 0)\n",
      "            Current function value: -85.66443275300995\n",
      "            Iterations: 2\n",
      "            Function evaluations: 63\n",
      "            Gradient evaluations: 2\n",
      "Optimization terminated successfully.    (Exit mode 0)\n",
      "            Current function value: -122.95139400755545\n",
      "            Iterations: 7\n",
      "            Function evaluations: 195\n",
      "            Gradient evaluations: 7\n",
      "Optimization terminated successfully.    (Exit mode 0)\n",
      "            Current function value: -214.03978629583395\n",
      "            Iterations: 2\n",
      "            Function evaluations: 64\n",
      "            Gradient evaluations: 2\n",
      "Optimization terminated successfully.    (Exit mode 0)\n",
      "            Current function value: -309.00759252133594\n",
      "            Iterations: 2\n",
      "            Function evaluations: 63\n",
      "            Gradient evaluations: 2\n"
     ]
    }
   ],
   "source": [
    "alpha_range = [1, 10, 1e2, 1e3, 1e5, 1e7]\n",
    "\n",
    "euc_dist = []\n",
    "for alpha in alpha_range:\n",
    "    u_0 = np.random.normal(size=(d,), loc=0, scale=alpha)   \n",
    "    w_0 = np.array(u_0**2)\n",
    "    \n",
    "    w_opt_Q = solver(x, y, w_0, obj='Q', optim_tol=1e-3, x0=[0] * len(w_0))  \n",
    "    euc_dist.append(sum((w_opt_Q - w_opt_minus_L1)**2))"
   ]
  },
  {
   "cell_type": "code",
   "execution_count": 516,
   "metadata": {},
   "outputs": [
    {
     "data": {
      "text/plain": [
       "Text(0, 0.5, 'Euc distance')"
      ]
     },
     "execution_count": 516,
     "metadata": {},
     "output_type": "execute_result"
    },
    {
     "data": {
      "image/png": "[encoded data removed]",
      "text/plain": [
       "<Figure size 864x576 with 1 Axes>"
      ]
     },
     "metadata": {
      "needs_background": "light"
     },
     "output_type": "display_data"
    }
   ],
   "source": [
    "plot(alpha_range, euc_dist)\n",
    "yscale('log')\n",
    "xscale('log')\n",
    "xlabel('alpha')\n",
    "ylabel('Euc distance')"
   ]
  },
  {
   "cell_type": "code",
   "execution_count": 512,
   "metadata": {},
   "outputs": [
    {
     "data": {
      "text/plain": [
       "array([7.34744298e-01, 9.72888631e-01, 1.56852173e+00, 1.43479920e+00,\n",
       "       5.25366792e-01, 9.44220933e-01, 1.05449790e+00, 6.42810922e-01,\n",
       "       1.76769422e+00, 4.68994738e-01, 1.12547759e+00, 8.08740321e-04,\n",
       "       5.47416046e-01, 4.97958651e-01, 9.52560686e-09, 1.00000000e-10,\n",
       "       1.16977812e+00, 1.35395406e+00, 1.02401703e-10, 4.89873183e-08,\n",
       "       1.50151101e+00, 1.18235215e+00, 6.04404269e-01, 7.91222759e-01,\n",
       "       1.00000000e-10])"
      ]
     },
     "execution_count": 512,
     "metadata": {},
     "output_type": "execute_result"
    }
   ],
   "source": [
    "w_opt_Q"
   ]
  },
  {
   "cell_type": "code",
   "execution_count": 513,
   "metadata": {},
   "outputs": [
    {
     "data": {
      "text/plain": [
       "array([7.34744229e-01, 9.72888672e-01, 1.56852182e+00, 1.43479927e+00,\n",
       "       5.25366965e-01, 9.44221006e-01, 1.05449788e+00, 6.42810968e-01,\n",
       "       1.76769436e+00, 4.68994713e-01, 1.12547756e+00, 8.08844498e-04,\n",
       "       5.47416101e-01, 4.97958404e-01, 1.00017314e-10, 1.00001530e-10,\n",
       "       1.16977806e+00, 1.35395438e+00, 1.00003853e-10, 1.00023628e-10,\n",
       "       1.50151101e+00, 1.18235232e+00, 6.04404285e-01, 7.91222888e-01,\n",
       "       1.00002822e-10])"
      ]
     },
     "execution_count": 513,
     "metadata": {},
     "output_type": "execute_result"
    }
   ],
   "source": [
    "w_opt_minus_L1"
   ]
  },
  {
   "cell_type": "code",
   "execution_count": null,
   "metadata": {},
   "outputs": [],
   "source": []
  }
 ],
 "metadata": {
  "kernelspec": {
   "display_name": "Python 3",
   "language": "python",
   "name": "python3"
  },
  "language_info": {
   "codemirror_mode": {
    "name": "ipython",
    "version": 3
   },
   "file_extension": ".py",
   "mimetype": "text/x-python",
   "name": "python",
   "nbconvert_exporter": "python",
   "pygments_lexer": "ipython3",
   "version": "3.6.8"
  }
 },
 "nbformat": 4,
 "nbformat_minor": 2
}
