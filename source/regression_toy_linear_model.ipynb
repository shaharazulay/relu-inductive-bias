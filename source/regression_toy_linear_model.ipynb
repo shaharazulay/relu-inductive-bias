{
 "cells": [
  {
   "cell_type": "code",
   "execution_count": 1,
   "metadata": {},
   "outputs": [
    {
     "name": "stdout",
     "output_type": "stream",
     "text": [
      "Populating the interactive namespace from numpy and matplotlib\n"
     ]
    }
   ],
   "source": [
    "%pylab inline"
   ]
  },
  {
   "cell_type": "code",
   "execution_count": 2,
   "metadata": {},
   "outputs": [],
   "source": [
    "import numpy as np\n",
    "from scipy.optimize import minimize\n",
    "from sklearn.linear_model import LinearRegression"
   ]
  },
  {
   "cell_type": "markdown",
   "metadata": {},
   "source": [
    "### Define Dimensions"
   ]
  },
  {
   "cell_type": "markdown",
   "metadata": {},
   "source": [
    "* we choose an underdetermined where N << d"
   ]
  },
  {
   "cell_type": "code",
   "execution_count": 3,
   "metadata": {},
   "outputs": [],
   "source": [
    "N = 5\n",
    "d = 25"
   ]
  },
  {
   "cell_type": "markdown",
   "metadata": {},
   "source": [
    "### Define Dataset"
   ]
  },
  {
   "cell_type": "markdown",
   "metadata": {},
   "source": [
    "* to make sure the data is realizable by a linear model we create the y using a fitter linear regressor.\n",
    "\n",
    "* the regressor is chosen to have positive coefficients and no intercept to simulate our u^2 model."
   ]
  },
  {
   "cell_type": "code",
   "execution_count": 4,
   "metadata": {},
   "outputs": [],
   "source": [
    "x = np.random.normal(size=(N, d))\n",
    "y_inital = np.zeros((N,))    # this is just a place-hold for the shape of y"
   ]
  },
  {
   "cell_type": "code",
   "execution_count": 5,
   "metadata": {},
   "outputs": [],
   "source": [
    "reg = LinearRegression().fit(x, y_inital)\n",
    "reg.coef_ = np.random.random(size=(d,))   # set positive coefficients only"
   ]
  },
  {
   "cell_type": "code",
   "execution_count": 6,
   "metadata": {},
   "outputs": [],
   "source": [
    "y = reg.predict(x)"
   ]
  },
  {
   "cell_type": "markdown",
   "metadata": {},
   "source": [
    "### Define Gradient Decent"
   ]
  },
  {
   "cell_type": "markdown",
   "metadata": {},
   "source": [
    "* $r_n(t) = \\mathbf{X}^T \\cdot \\mathbf{u}^2(t) - y$\n",
    "\n",
    "* $\\dot{\\mathbf{u}_i}(t) = - \\mathbf{u}_i(t) \\sum_n x_{n, i} r_n(t)$\n",
    "\n",
    "* $L(u) = \\frac12 \\sum_n r_n(t)^2$"
   ]
  },
  {
   "cell_type": "code",
   "execution_count": 7,
   "metadata": {},
   "outputs": [],
   "source": [
    "def update(u, x, y, step_size):\n",
    "    r = np.dot(x, u**2) - y\n",
    "    grad_u = - np.multiply(np.dot(x.transpose(), r), u)\n",
    "    u = u + step_size * grad_u\n",
    "    loss = 0.5 * np.sum(r**2)\n",
    "    return u, loss"
   ]
  },
  {
   "cell_type": "markdown",
   "metadata": {},
   "source": [
    "### Define Q"
   ]
  },
  {
   "cell_type": "markdown",
   "metadata": {},
   "source": [
    "* $q(z) = \\frac{z \\cdot (ln(z) - 1)}{2}$\n",
    "* $Q(w) = \\sum_{i \\in [d]} w_i(0) \\cdot q(\\frac{w_i}{w_i(0)})$"
   ]
  },
  {
   "cell_type": "code",
   "execution_count": 8,
   "metadata": {},
   "outputs": [],
   "source": [
    "def q_func(x):\n",
    "    return 0.5 * x * (np.log(x) - 1)"
   ]
  },
  {
   "cell_type": "code",
   "execution_count": 9,
   "metadata": {},
   "outputs": [],
   "source": [
    "def Q_func(w, w_0):\n",
    "    f = 0\n",
    "    for w_i, w_0_i in zip(w, w_0):\n",
    "        f += w_0_i * q_func(w_i / w_0_i)\n",
    "    return f"
   ]
  },
  {
   "cell_type": "code",
   "execution_count": 10,
   "metadata": {},
   "outputs": [],
   "source": [
    "def solver(x, y, w_0, obj='L1', optim_tol=1e-6):\n",
    "    \n",
    "    cons = {'type': 'eq', 'fun': lambda w: np.dot(x, w) - y}\n",
    "\n",
    "    if obj == 'L1':\n",
    "        objective = lambda w: np.linalg.norm(w, ord=1)\n",
    "    elif obj == 'L2':\n",
    "        objective = lambda w: np.linalg.norm(w, ord=2)\n",
    "    elif obj == 'Q':\n",
    "        objective = lambda w: Q_func(w, w_0)\n",
    "    else:\n",
    "        raise ValueError('objective not supported.')\n",
    "    \n",
    "    sol = minimize(\n",
    "        fun=objective,\n",
    "        x0=w_0,\n",
    "        constraints=cons,\n",
    "        tol=optim_tol,\n",
    "        method='SLSQP',\n",
    "        options={\n",
    "            'maxiter': 100000,\n",
    "            'disp': True\n",
    "        }\n",
    "    )\n",
    "    is_failed = (not sol.success)\n",
    "    if is_failed:\n",
    "        raise RuntimeError('Minimization Failed.')\n",
    "\n",
    "    return sol.x"
   ]
  },
  {
   "cell_type": "markdown",
   "metadata": {},
   "source": [
    "### Find L1 / L2 solutions"
   ]
  },
  {
   "cell_type": "code",
   "execution_count": 11,
   "metadata": {},
   "outputs": [],
   "source": [
    "u_0 = np.random.normal(size=(d,))\n",
    "w_0 = u_0**2"
   ]
  },
  {
   "cell_type": "code",
   "execution_count": 112,
   "metadata": {},
   "outputs": [
    {
     "name": "stdout",
     "output_type": "stream",
     "text": [
      "Optimization terminated successfully.    (Exit mode 0)\n",
      "            Current function value: 2.051164129100934\n",
      "            Iterations: 348\n",
      "            Function evaluations: 9663\n",
      "            Gradient evaluations: 348\n"
     ]
    },
    {
     "data": {
      "text/plain": [
       "2.051164129100934"
      ]
     },
     "execution_count": 112,
     "metadata": {},
     "output_type": "execute_result"
    }
   ],
   "source": [
    "w_opt_L1 = solver(x, y, w_0, obj='L1', optim_tol=1e-5)\n",
    "\n",
    "minimal_L1 = np.linalg.norm(w_opt_L1, ord=1)\n",
    "minimal_L1"
   ]
  },
  {
   "cell_type": "code",
   "execution_count": 113,
   "metadata": {},
   "outputs": [
    {
     "data": {
      "text/plain": [
       "6.372766070878544e-24"
      ]
     },
     "execution_count": 113,
     "metadata": {},
     "output_type": "execute_result"
    }
   ],
   "source": [
    "loss = 0.5 * np.sum((np.dot(x, w_opt_L1) - y)**2)\n",
    "loss"
   ]
  },
  {
   "cell_type": "code",
   "execution_count": 114,
   "metadata": {},
   "outputs": [
    {
     "name": "stdout",
     "output_type": "stream",
     "text": [
      "Optimization terminated successfully.    (Exit mode 0)\n",
      "            Current function value: 0.7357992470277386\n",
      "            Iterations: 29\n",
      "            Function evaluations: 793\n",
      "            Gradient evaluations: 29\n"
     ]
    },
    {
     "data": {
      "text/plain": [
       "0.7357992470277386"
      ]
     },
     "execution_count": 114,
     "metadata": {},
     "output_type": "execute_result"
    }
   ],
   "source": [
    "w_opt_L2 = solver(x, y, w_0, obj='L2', optim_tol=1e-5)\n",
    "\n",
    "minimal_L2 = np.linalg.norm(w_opt_L2, ord=2)\n",
    "minimal_L2"
   ]
  },
  {
   "cell_type": "code",
   "execution_count": 115,
   "metadata": {},
   "outputs": [
    {
     "data": {
      "text/plain": [
       "9.068341806549786e-21"
      ]
     },
     "execution_count": 115,
     "metadata": {},
     "output_type": "execute_result"
    }
   ],
   "source": [
    "loss = 0.5 * np.sum((np.dot(x, w_opt_L2) - y)**2)\n",
    "loss"
   ]
  },
  {
   "cell_type": "markdown",
   "metadata": {},
   "source": [
    "### Run GD"
   ]
  },
  {
   "cell_type": "markdown",
   "metadata": {},
   "source": [
    "* check GD solutions at high / low $\\alpha$ values where:\n",
    "* $u_0 \\sim{}  N(0, \\alpha)$ "
   ]
  },
  {
   "cell_type": "code",
   "execution_count": 67,
   "metadata": {},
   "outputs": [],
   "source": [
    "def run_GD(u_0, n_epochs, step_size): \n",
    "    u = np.array(u_0)\n",
    "\n",
    "    for epoch in range(n_epochs):\n",
    "        u, loss = update(u, x, y, step_size)\n",
    "        \n",
    "    L1 = np.linalg.norm(u**2, ord=1)\n",
    "    L2 = np.linalg.norm(u**2, ord=2)\n",
    "    return L1, L2, u, loss"
   ]
  },
  {
   "cell_type": "code",
   "execution_count": 77,
   "metadata": {},
   "outputs": [
    {
     "data": {
      "text/plain": [
       "(2.0834237380365046, 1.1942288473258653, 9.760497402357848e-29)"
      ]
     },
     "execution_count": 77,
     "metadata": {},
     "output_type": "execute_result"
    }
   ],
   "source": [
    "u_0 = np.random.normal(size=(d,), loc=0, scale=1e-6)  \n",
    "\n",
    "L1, L2, u, loss = run_GD(u_0=u_0, n_epochs=10000, step_size=0.01)\n",
    "L1, L2, loss"
   ]
  },
  {
   "cell_type": "code",
   "execution_count": 73,
   "metadata": {},
   "outputs": [
    {
     "data": {
      "text/plain": [
       "(149734.20268263438, 45806.396725771796, 2.4652990650068086e-19)"
      ]
     },
     "execution_count": 73,
     "metadata": {},
     "output_type": "execute_result"
    }
   ],
   "source": [
    "u_0 = np.random.normal(size=(d,), loc=0, scale=100)  \n",
    "\n",
    "L1, L2, u, loss = run_GD(u_0=u_0, n_epochs=10000, step_size=0.001/100**2)\n",
    "L1, L2, loss"
   ]
  },
  {
   "cell_type": "code",
   "execution_count": 109,
   "metadata": {},
   "outputs": [],
   "source": [
    "L1_GD = []\n",
    "L2_GD = []\n",
    "loss_GD = []\n",
    "\n",
    "alpha_range = [1e-6, 1e-3, 1e-2, 1e-1, 0.5, 1, 2.5, 10, 1e2]\n",
    "\n",
    "for alpha in alpha_range:\n",
    "    u_0 = np.random.normal(size=(d,), loc=0, scale=alpha)   \n",
    "    w_0 = np.array(u_0**2)\n",
    "    \n",
    "    L1, L2, u, loss = run_GD(u_0=u_0, n_epochs=10000, step_size=0.001/max(0.1, alpha**2))\n",
    "    L1_GD.append(L1)\n",
    "    L2_GD.append(L2)\n",
    "    loss_GD.append(loss)"
   ]
  },
  {
   "cell_type": "code",
   "execution_count": 116,
   "metadata": {},
   "outputs": [
    {
     "data": {
      "text/plain": [
       "<matplotlib.legend.Legend at 0x1300feb00>"
      ]
     },
     "execution_count": 116,
     "metadata": {},
     "output_type": "execute_result"
    },
    {
     "data": {
      "image/png": "[encoded data removed]",
      "text/plain": [
       "<Figure size 432x288 with 1 Axes>"
      ]
     },
     "metadata": {
      "needs_background": "light"
     },
     "output_type": "display_data"
    }
   ],
   "source": [
    "excess_L1 = [l1 - minimal_L1 for l1 in L1_GD]\n",
    "excess_L2 = [l2 - minimal_L2 for l2 in L2_GD]\n",
    "\n",
    "plot(alpha_range, excess_L1)\n",
    "plot(alpha_range, excess_L2)\n",
    "yscale('log')\n",
    "xscale('log')\n",
    "xlabel('alpha')\n",
    "ylabel('Excess Norm (w(t))')\n",
    "legend(['L1', 'L2'])"
   ]
  },
  {
   "cell_type": "markdown",
   "metadata": {},
   "source": [
    "### Compare Q to GD"
   ]
  },
  {
   "cell_type": "code",
   "execution_count": 103,
   "metadata": {},
   "outputs": [
    {
     "name": "stderr",
     "output_type": "stream",
     "text": [
      "/Users/shaharazulay/anaconda3/envs/dev/lib/python3.6/site-packages/ipykernel_launcher.py:2: RuntimeWarning: invalid value encountered in log\n",
      "  \n"
     ]
    },
    {
     "name": "stdout",
     "output_type": "stream",
     "text": [
      "Optimization terminated successfully.    (Exit mode 0)\n",
      "            Current function value: 8.081311263399687\n",
      "            Iterations: 81\n",
      "            Function evaluations: 2502\n",
      "            Gradient evaluations: 81\n",
      "Optimization terminated successfully.    (Exit mode 0)\n",
      "            Current function value: 1.841784474526591\n",
      "            Iterations: 60\n",
      "            Function evaluations: 1736\n",
      "            Gradient evaluations: 60\n",
      "Optimization terminated successfully.    (Exit mode 0)\n",
      "            Current function value: -3.8158484796333774\n",
      "            Iterations: 16\n",
      "            Function evaluations: 450\n",
      "            Gradient evaluations: 16\n",
      "Optimization terminated successfully.    (Exit mode 0)\n",
      "            Current function value: -10.591730161728332\n",
      "            Iterations: 21\n",
      "            Function evaluations: 587\n",
      "            Gradient evaluations: 21\n",
      "Optimization terminated successfully.    (Exit mode 0)\n",
      "            Current function value: -675.8231090713889\n",
      "            Iterations: 131\n",
      "            Function evaluations: 3640\n",
      "            Gradient evaluations: 131\n",
      "Optimization terminated successfully.    (Exit mode 0)\n",
      "            Current function value: -102508.30104904524\n",
      "            Iterations: 608\n",
      "            Function evaluations: 17614\n",
      "            Gradient evaluations: 608\n"
     ]
    }
   ],
   "source": [
    "L1_GD = []\n",
    "L2_GD = []\n",
    "loss_GD = []\n",
    "L1_Q = []\n",
    "L2_Q = []\n",
    "loss_Q = []\n",
    "\n",
    "alpha_range = [1e-2, 1e-1, 0.5, 1, 10, 1e2]\n",
    "\n",
    "for alpha in alpha_range:\n",
    "    u_0 = np.random.normal(size=(d,), loc=0, scale=alpha)   \n",
    "    w_0 = np.array(u_0**2)\n",
    "\n",
    "    w_opt_Q = solver(x, y, w_0, obj='Q', optim_tol=1e-3)\n",
    "    \n",
    "    loss_Q.append(0.5 * np.sum((np.dot(x, w_opt_Q) - y)**2))\n",
    "    L1_Q.append(np.linalg.norm(w_opt_Q, ord=1))\n",
    "    L2_Q.append(np.linalg.norm(w_opt_Q, ord=2))\n",
    "    \n",
    "    L1, L2, u, loss = run_GD(u_0=u_0, n_epochs=10000, step_size=0.001/max(0.01, alpha**2))\n",
    "    L1_GD.append(L1)\n",
    "    L2_GD.append(L2)\n",
    "    loss_GD.append(loss)"
   ]
  },
  {
   "cell_type": "code",
   "execution_count": 104,
   "metadata": {},
   "outputs": [
    {
     "data": {
      "text/plain": [
       "<matplotlib.legend.Legend at 0x130227390>"
      ]
     },
     "execution_count": 104,
     "metadata": {},
     "output_type": "execute_result"
    },
    {
     "data": {
      "image/png": "[encoded data removed]",
      "text/plain": [
       "<Figure size 432x288 with 1 Axes>"
      ]
     },
     "metadata": {
      "needs_background": "light"
     },
     "output_type": "display_data"
    }
   ],
   "source": [
    "plot(alpha_range, L1_GD);\n",
    "plot(alpha_range, L1_Q, 'ro');\n",
    "yscale('log')\n",
    "xscale('log')\n",
    "xlabel('alpha')\n",
    "ylabel('L1 (w(t))')\n",
    "legend(['GD', 'Q minimization'])"
   ]
  },
  {
   "cell_type": "code",
   "execution_count": 105,
   "metadata": {},
   "outputs": [
    {
     "data": {
      "text/plain": [
       "[2.427634694900111e-31,\n",
       " 4.3140830754274083e-32,\n",
       " 8.887665951561553e-29,\n",
       " 1.4608841148078053e-27,\n",
       " 1.1005734595959579e-14,\n",
       " 1.5286715390032047e-19]"
      ]
     },
     "execution_count": 105,
     "metadata": {},
     "output_type": "execute_result"
    }
   ],
   "source": [
    "loss_GD"
   ]
  },
  {
   "cell_type": "code",
   "execution_count": 106,
   "metadata": {},
   "outputs": [
    {
     "data": {
      "text/plain": [
       "[3.0371261470775986e-22,\n",
       " 1.4030791377772943e-18,\n",
       " 2.858997110665014e-19,\n",
       " 3.0299183566037302e-18,\n",
       " 8.413060408637857e-15,\n",
       " 1.0848810147689512e-07]"
      ]
     },
     "execution_count": 106,
     "metadata": {},
     "output_type": "execute_result"
    }
   ],
   "source": [
    "loss_Q"
   ]
  },
  {
   "cell_type": "code",
   "execution_count": null,
   "metadata": {},
   "outputs": [],
   "source": []
  }
 ],
 "metadata": {
  "kernelspec": {
   "display_name": "Python 3",
   "language": "python",
   "name": "python3"
  },
  "language_info": {
   "codemirror_mode": {
    "name": "ipython",
    "version": 3
   },
   "file_extension": ".py",
   "mimetype": "text/x-python",
   "name": "python",
   "nbconvert_exporter": "python",
   "pygments_lexer": "ipython3",
   "version": "3.6.8"
  }
 },
 "nbformat": 4,
 "nbformat_minor": 2
}
