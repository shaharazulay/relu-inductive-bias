{
 "cells": [
  {
   "cell_type": "code",
   "execution_count": 1,
   "metadata": {},
   "outputs": [
    {
     "name": "stdout",
     "output_type": "stream",
     "text": [
      "Populating the interactive namespace from numpy and matplotlib\n"
     ]
    }
   ],
   "source": [
    "%pylab inline"
   ]
  },
  {
   "cell_type": "code",
   "execution_count": 2,
   "metadata": {},
   "outputs": [],
   "source": [
    "import numpy as np\n",
    "from scipy.optimize import minimize\n",
    "from sklearn.linear_model import LinearRegression"
   ]
  },
  {
   "cell_type": "markdown",
   "metadata": {},
   "source": [
    "### Define Dimensions"
   ]
  },
  {
   "cell_type": "markdown",
   "metadata": {},
   "source": [
    "* we choose an underdetermined where N << d"
   ]
  },
  {
   "cell_type": "code",
   "execution_count": 3,
   "metadata": {},
   "outputs": [],
   "source": [
    "N = 5\n",
    "d = 25"
   ]
  },
  {
   "cell_type": "markdown",
   "metadata": {},
   "source": [
    "### Define Dataset"
   ]
  },
  {
   "cell_type": "markdown",
   "metadata": {},
   "source": [
    "* to make sure the data is realizable by a linear model we create the y using a fitter linear regressor.\n",
    "\n",
    "* the regressor is chosen to have positive coefficients and no intercept to simulate our u^2 model."
   ]
  },
  {
   "cell_type": "code",
   "execution_count": 4,
   "metadata": {},
   "outputs": [],
   "source": [
    "x = np.random.normal(size=(N, d))\n",
    "y_inital = np.zeros((N,))    # this is just a place-hold for the shape of y"
   ]
  },
  {
   "cell_type": "code",
   "execution_count": 5,
   "metadata": {},
   "outputs": [],
   "source": [
    "reg = LinearRegression().fit(x, y_inital)\n",
    "reg.coef_ = np.random.random(size=(d,))   # set positive coefficients only"
   ]
  },
  {
   "cell_type": "code",
   "execution_count": 6,
   "metadata": {},
   "outputs": [],
   "source": [
    "y = reg.predict(x)"
   ]
  },
  {
   "cell_type": "markdown",
   "metadata": {},
   "source": [
    "### Define Gradient Decent"
   ]
  },
  {
   "cell_type": "markdown",
   "metadata": {},
   "source": [
    "* $r_n(t) = \\mathbf{X}^T \\cdot \\mathbf{u}^2(t) - y$\n",
    "\n",
    "* $\\dot{\\mathbf{u}_i}(t) = - \\mathbf{u}_i(t) \\sum_n x_{n, i} r_n(t)$\n",
    "\n",
    "* $L(u) = \\frac12 \\sum_n r_n(t)^2$"
   ]
  },
  {
   "cell_type": "code",
   "execution_count": 7,
   "metadata": {},
   "outputs": [],
   "source": [
    "def update(u, x, y, step_size):\n",
    "    r = np.dot(x, u**2) - y\n",
    "    grad_u = - np.multiply(np.dot(x.transpose(), r), u)\n",
    "    u = u + step_size * grad_u\n",
    "    loss = 0.5 * np.sum(r**2)\n",
    "    return u, loss"
   ]
  },
  {
   "cell_type": "markdown",
   "metadata": {},
   "source": [
    "### Define Q"
   ]
  },
  {
   "cell_type": "markdown",
   "metadata": {},
   "source": [
    "* $q(z) = \\frac{z \\cdot (ln(z) - 1)}{2}$\n",
    "* $Q(w) = \\sum_{i \\in [d]} w_i(0) \\cdot q(\\frac{w_i}{w_i(0)})$"
   ]
  },
  {
   "cell_type": "code",
   "execution_count": 8,
   "metadata": {},
   "outputs": [],
   "source": [
    "def q_func(x):\n",
    "    return 0.5 * x * (np.log(x) - 1)"
   ]
  },
  {
   "cell_type": "code",
   "execution_count": 9,
   "metadata": {},
   "outputs": [],
   "source": [
    "def Q_func(w, w_0):\n",
    "    f = 0\n",
    "    for w_i, w_0_i in zip(w, w_0):\n",
    "        f += w_0_i * q_func(w_i / w_0_i)\n",
    "    return f"
   ]
  },
  {
   "cell_type": "code",
   "execution_count": 10,
   "metadata": {},
   "outputs": [],
   "source": [
    "def solver(x, y, w_0, obj='L1', optim_tol=1e-6):\n",
    "    \n",
    "    cons = {'type': 'eq', 'fun': lambda w: np.dot(x, w) - y}\n",
    "\n",
    "    if obj == 'L1':\n",
    "        objective = lambda w: np.linalg.norm(w, ord=1)\n",
    "    elif obj == 'L2':\n",
    "        objective = lambda w: np.linalg.norm(w, ord=2)\n",
    "    elif obj == 'Q':\n",
    "        objective = lambda w: Q_func(w, w_0)\n",
    "    else:\n",
    "        raise ValueError('objective not supported.')\n",
    "    \n",
    "    sol = minimize(\n",
    "        fun=objective,\n",
    "        x0=w_0,\n",
    "        constraints=cons,\n",
    "        tol=optim_tol,\n",
    "        method='SLSQP',\n",
    "        options={\n",
    "            'maxiter': 100000,\n",
    "            'disp': True\n",
    "        }\n",
    "    )\n",
    "    is_failed = (not sol.success)\n",
    "    if is_failed:\n",
    "        raise RuntimeError('Minimization Failed.')\n",
    "\n",
    "    return sol.x"
   ]
  },
  {
   "cell_type": "markdown",
   "metadata": {},
   "source": [
    "### Find L1 / L2 solutions"
   ]
  },
  {
   "cell_type": "code",
   "execution_count": 11,
   "metadata": {},
   "outputs": [],
   "source": [
    "u_0 = np.random.normal(size=(d,))\n",
    "w_0 = u_0**2"
   ]
  },
  {
   "cell_type": "code",
   "execution_count": 12,
   "metadata": {},
   "outputs": [
    {
     "name": "stdout",
     "output_type": "stream",
     "text": [
      "Optimization terminated successfully.    (Exit mode 0)\n",
      "            Current function value: 2.055365811605283\n",
      "            Iterations: 72\n",
      "            Function evaluations: 2077\n",
      "            Gradient evaluations: 72\n"
     ]
    },
    {
     "data": {
      "text/plain": [
       "2.055365811605283"
      ]
     },
     "execution_count": 12,
     "metadata": {},
     "output_type": "execute_result"
    }
   ],
   "source": [
    "w_opt_L1 = solver(x, y, w_0, obj='L1', optim_tol=1e-5)\n",
    "\n",
    "minimal_L1 = np.linalg.norm(w_opt_L1, ord=1)\n",
    "minimal_L1"
   ]
  },
  {
   "cell_type": "code",
   "execution_count": 13,
   "metadata": {},
   "outputs": [
    {
     "data": {
      "text/plain": [
       "2.0514748839360977e-21"
      ]
     },
     "execution_count": 13,
     "metadata": {},
     "output_type": "execute_result"
    }
   ],
   "source": [
    "loss = 0.5 * np.sum((np.dot(x, w_opt_L1) - y)**2)\n",
    "loss"
   ]
  },
  {
   "cell_type": "code",
   "execution_count": 14,
   "metadata": {},
   "outputs": [
    {
     "name": "stdout",
     "output_type": "stream",
     "text": [
      "Optimization terminated successfully.    (Exit mode 0)\n",
      "            Current function value: 0.7357987989594365\n",
      "            Iterations: 5\n",
      "            Function evaluations: 137\n",
      "            Gradient evaluations: 5\n"
     ]
    },
    {
     "data": {
      "text/plain": [
       "0.7357987989594365"
      ]
     },
     "execution_count": 14,
     "metadata": {},
     "output_type": "execute_result"
    }
   ],
   "source": [
    "w_opt_L2 = solver(x, y, w_0, obj='L2', optim_tol=1e-5)\n",
    "\n",
    "minimal_L2 = np.linalg.norm(w_opt_L2, ord=2)\n",
    "minimal_L2"
   ]
  },
  {
   "cell_type": "code",
   "execution_count": 15,
   "metadata": {},
   "outputs": [
    {
     "data": {
      "text/plain": [
       "3.404863667515818e-14"
      ]
     },
     "execution_count": 15,
     "metadata": {},
     "output_type": "execute_result"
    }
   ],
   "source": [
    "loss = 0.5 * np.sum((np.dot(x, w_opt_L2) - y)**2)\n",
    "loss"
   ]
  },
  {
   "cell_type": "markdown",
   "metadata": {},
   "source": [
    "### Run GD"
   ]
  },
  {
   "cell_type": "markdown",
   "metadata": {},
   "source": [
    "* check GD solutions at high / low $\\alpha$ values where:\n",
    "* $u_0 \\sim{}  N(0, \\alpha)$ "
   ]
  },
  {
   "cell_type": "code",
   "execution_count": 16,
   "metadata": {},
   "outputs": [],
   "source": [
    "def run_GD(alpha, n_epochs, step_size):\n",
    "    u_0 = np.random.normal(size=(d,), loc=0, scale=alpha)   \n",
    "    u = np.array(u_0)\n",
    "\n",
    "    for epoch in range(n_epochs):\n",
    "        u, loss = update(u, x, y, step_size)\n",
    "        \n",
    "    L1 = np.linalg.norm(u**2, ord=1)\n",
    "    L2 = np.linalg.norm(u**2, ord=2)\n",
    "    return L1, L2, u, loss"
   ]
  },
  {
   "cell_type": "code",
   "execution_count": 17,
   "metadata": {},
   "outputs": [
    {
     "data": {
      "text/plain": [
       "(2.2251826376349686, 0.966552777524224, 2.711569813345748e-07)"
      ]
     },
     "execution_count": 17,
     "metadata": {},
     "output_type": "execute_result"
    }
   ],
   "source": [
    "L1, L2, u, loss = run_GD(alpha=0.01, n_epochs=10000, step_size=0.001)\n",
    "L1, L2, loss"
   ]
  },
  {
   "cell_type": "code",
   "execution_count": 18,
   "metadata": {},
   "outputs": [
    {
     "data": {
      "text/plain": [
       "(61.748761319613486, 18.82267991945502, 1.694448957697434e-27)"
      ]
     },
     "execution_count": 18,
     "metadata": {},
     "output_type": "execute_result"
    }
   ],
   "source": [
    "L1, L2, u, loss = run_GD(alpha=2, n_epochs=10000, step_size=0.001)\n",
    "L1, L2, loss"
   ]
  },
  {
   "cell_type": "markdown",
   "metadata": {},
   "source": [
    "### Solve Q"
   ]
  },
  {
   "cell_type": "code",
   "execution_count": 19,
   "metadata": {},
   "outputs": [
    {
     "name": "stderr",
     "output_type": "stream",
     "text": [
      "/Users/shaharazulay/anaconda3/envs/dev/lib/python3.6/site-packages/ipykernel_launcher.py:2: RuntimeWarning: invalid value encountered in log\n",
      "  \n"
     ]
    },
    {
     "name": "stdout",
     "output_type": "stream",
     "text": [
      "Optimization terminated successfully.    (Exit mode 0)\n",
      "            Current function value: 10.128045956327979\n",
      "            Iterations: 381\n",
      "            Function evaluations: 11405\n",
      "            Gradient evaluations: 381\n",
      "Optimization terminated successfully.    (Exit mode 0)\n",
      "            Current function value: 3.8099021300149007\n",
      "            Iterations: 172\n",
      "            Function evaluations: 4920\n",
      "            Gradient evaluations: 172\n",
      "Optimization terminated successfully.    (Exit mode 0)\n",
      "            Current function value: -3.11619907993015\n",
      "            Iterations: 30\n",
      "            Function evaluations: 845\n",
      "            Gradient evaluations: 30\n",
      "Optimization terminated successfully.    (Exit mode 0)\n",
      "            Current function value: -10.726604455330392\n",
      "            Iterations: 28\n",
      "            Function evaluations: 785\n",
      "            Gradient evaluations: 28\n",
      "Optimization terminated successfully.    (Exit mode 0)\n",
      "            Current function value: -48.60185289667856\n",
      "            Iterations: 38\n",
      "            Function evaluations: 1047\n",
      "            Gradient evaluations: 38\n"
     ]
    }
   ],
   "source": [
    "L1_Q = []\n",
    "L2_Q = []\n",
    "loss_Q = []\n",
    "\n",
    "for alpha in [1e-2, 1e-1, 0.5, 1, 2]:\n",
    "    u_0 = np.random.normal(size=(d,), loc=0, scale=alpha)   \n",
    "    w_0 = np.array(u_0**2)\n",
    "\n",
    "    w_opt_Q = solver(x, y, w_0, obj='Q', optim_tol=1e-5)\n",
    "    \n",
    "    loss_Q.append(0.5 * np.sum((np.dot(x, w_opt_Q) - y)**2))\n",
    "    L1_Q.append(np.linalg.norm(w_opt_Q, ord=1))\n",
    "    L2_Q.append(np.linalg.norm(w_opt_Q, ord=2))"
   ]
  },
  {
   "cell_type": "code",
   "execution_count": 20,
   "metadata": {},
   "outputs": [
    {
     "data": {
      "image/png": "[encoded data removed]",
      "text/plain": [
       "<Figure size 432x288 with 1 Axes>"
      ]
     },
     "metadata": {
      "needs_background": "light"
     },
     "output_type": "display_data"
    }
   ],
   "source": [
    "plot(L1_Q);\n",
    "plot(L2_Q);"
   ]
  },
  {
   "cell_type": "code",
   "execution_count": 21,
   "metadata": {},
   "outputs": [
    {
     "data": {
      "text/plain": [
       "[7.494535192822811e-18,\n",
       " 4.464127022013282e-24,\n",
       " 4.992665732486714e-20,\n",
       " 1.9292240544902215e-20,\n",
       " 7.892632559308931e-19]"
      ]
     },
     "execution_count": 21,
     "metadata": {},
     "output_type": "execute_result"
    }
   ],
   "source": [
    "loss_Q"
   ]
  }
 ],
 "metadata": {
  "kernelspec": {
   "display_name": "Python 3",
   "language": "python",
   "name": "python3"
  },
  "language_info": {
   "codemirror_mode": {
    "name": "ipython",
    "version": 3
   },
   "file_extension": ".py",
   "mimetype": "text/x-python",
   "name": "python",
   "nbconvert_exporter": "python",
   "pygments_lexer": "ipython3",
   "version": "3.6.8"
  }
 },
 "nbformat": 4,
 "nbformat_minor": 2
}
