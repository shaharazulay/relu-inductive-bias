{
 "cells": [
  {
   "cell_type": "code",
   "execution_count": 1,
   "metadata": {},
   "outputs": [],
   "source": [
    "import numpy as np\n",
    "from operator import xor"
   ]
  },
  {
   "cell_type": "code",
   "execution_count": 2,
   "metadata": {},
   "outputs": [
    {
     "name": "stdout",
     "output_type": "stream",
     "text": [
      "Populating the interactive namespace from numpy and matplotlib\n"
     ]
    }
   ],
   "source": [
    "%pylab inline"
   ]
  },
  {
   "cell_type": "code",
   "execution_count": 3,
   "metadata": {},
   "outputs": [],
   "source": [
    "from classifier import *\n",
    "from ntk import *\n",
    "from Q_minimization import *"
   ]
  },
  {
   "cell_type": "markdown",
   "metadata": {},
   "source": [
    "### Define Dimensions"
   ]
  },
  {
   "cell_type": "code",
   "execution_count": 186,
   "metadata": {},
   "outputs": [],
   "source": [
    "n = 1000\n",
    "m = 10\n",
    "d = 10"
   ]
  },
  {
   "cell_type": "markdown",
   "metadata": {},
   "source": [
    "### Define Dataset"
   ]
  },
  {
   "cell_type": "code",
   "execution_count": 187,
   "metadata": {},
   "outputs": [],
   "source": [
    "def xor_label(row):\n",
    "    _xor = xor(bool(row[1] > 0), bool(row[2] > 0))\n",
    "    return 1.0 if _xor else -1.0"
   ]
  },
  {
   "cell_type": "code",
   "execution_count": 188,
   "metadata": {},
   "outputs": [],
   "source": [
    "x = 2.0 * ((np.random.normal(size=(n, d - 1)) > 0) - 0.5)\n",
    "x = np.concatenate([np.ones((n, 1)), x], axis=1)\n",
    "\n",
    "y = np.array(list(map(xor_label, x))).reshape(-1,)"
   ]
  },
  {
   "cell_type": "code",
   "execution_count": 189,
   "metadata": {},
   "outputs": [],
   "source": [
    "n_train = 100\n",
    "x_train, x_test = x[: n_train, :], x[n_train:, :]\n",
    "y_train, y_test = y[: n_train], y[n_train:]"
   ]
  },
  {
   "cell_type": "markdown",
   "metadata": {},
   "source": [
    "### Utils"
   ]
  },
  {
   "cell_type": "code",
   "execution_count": 190,
   "metadata": {},
   "outputs": [],
   "source": [
    "def plot_classifier(w, a, x, y):\n",
    "    xmin = -1.2\n",
    "    xmax = 1.2\n",
    "\n",
    "    mesh_step = 0.02\n",
    "    _x1 = np.arange(xmin, xmax, mesh_step)\n",
    "    _x2 = np.arange(xmin, xmax, mesh_step)\n",
    "    xx_1, xx_2 = np.meshgrid(_x1, _x2)\n",
    "\n",
    "    input_ = np.c_[\n",
    "        np.ones(xx_1.ravel().shape), \n",
    "        xx_1.ravel(), \n",
    "        xx_2.ravel(), \n",
    "        1.0 * ((np.random.normal(size=(len(xx_1.ravel()), d - 3)) > 0))\n",
    "    ]\n",
    "    \n",
    "    activations = np.maximum(np.dot(w, input_.transpose()), 0)\n",
    "    y_pred = np.dot(a, activations)\n",
    "\n",
    "    plt.figure()\n",
    "    z = np.reshape(np.sign(y_pred), xx_1.shape)\n",
    "    plt.pcolormesh(xx_1, xx_2, z)\n",
    "\n",
    "    plt.scatter([x_[1] for x_, y_ in zip(x, y) if y_ > 0], [x_[2] for x_, y_ in zip(x, y) if y_ > 0])\n",
    "    plt.scatter([x_[1] for x_, y_ in zip(x, y) if y_ < 0], [x_[2] for x_, y_ in zip(x, y) if y_ < 0])\n",
    "    plt.show()"
   ]
  },
  {
   "cell_type": "markdown",
   "metadata": {},
   "source": [
    "### Solve L1"
   ]
  },
  {
   "cell_type": "code",
   "execution_count": 191,
   "metadata": {},
   "outputs": [],
   "source": [
    "w_0 = np.random.normal(loc=0, scale=1, size=(m, d))\n",
    "a_0 = np.random.normal(loc=0, scale=1, size=(m,))"
   ]
  },
  {
   "cell_type": "code",
   "execution_count": 192,
   "metadata": {
    "scrolled": true
   },
   "outputs": [
    {
     "name": "stdout",
     "output_type": "stream",
     "text": [
      "Optimization terminated successfully.    (Exit mode 0)\n",
      "            Current function value: 2.378414752222392\n",
      "            Iterations: 331\n",
      "            Function evaluations: 38145\n",
      "            Gradient evaluations: 330\n"
     ]
    },
    {
     "data": {
      "text/plain": [
       "(array([[-2.65258658e-09,  4.77206435e-01, -4.77206447e-01,\n",
       "         -6.64616277e-09,  1.12983569e-09,  4.12573679e-09,\n",
       "         -6.63197592e-09, -7.87932336e-09, -3.18821186e-09,\n",
       "         -1.67754981e-09],\n",
       "        [ 3.13501286e-09,  2.92915643e-01,  2.92915646e-01,\n",
       "         -1.14428692e-08,  1.11095142e-08, -4.33562038e-09,\n",
       "         -5.31471691e-09,  4.24700206e-09,  1.46360234e-09,\n",
       "         -7.22795636e-09],\n",
       "        [ 1.43516608e-06, -1.26521494e-03,  1.26562514e-03,\n",
       "         -7.10733564e-07, -1.25451279e-06,  1.86750896e-06,\n",
       "          3.07610258e-07,  1.41836694e-06,  2.19235020e-06,\n",
       "         -1.20792420e-06],\n",
       "        [-3.03574816e-09,  1.58581639e-01,  1.58581668e-01,\n",
       "          9.80675843e-09, -1.03767245e-08,  1.13358997e-08,\n",
       "          4.26092009e-09, -4.09978452e-09,  4.31974287e-09,\n",
       "         -1.84657123e-08],\n",
       "        [ 4.96982783e-09, -4.34750039e-01, -4.34750042e-01,\n",
       "         -8.02757159e-09,  4.14593433e-09, -3.06068437e-09,\n",
       "         -9.22806892e-09,  4.57426756e-09, -2.00197234e-09,\n",
       "         -1.23848641e-08],\n",
       "        [-6.75313020e-09, -4.04760090e-01, -4.04760092e-01,\n",
       "          7.09507984e-09, -5.10796024e-09, -5.29156215e-09,\n",
       "          3.60193580e-09, -1.79808922e-09, -8.53887588e-09,\n",
       "          3.51146114e-10],\n",
       "        [ 1.63478419e-07, -1.15476198e-02, -1.15477067e-02,\n",
       "         -7.41640425e-08,  1.00522512e-08, -1.70438669e-07,\n",
       "          4.90926361e-08, -2.87053039e-08, -5.44825083e-08,\n",
       "          5.94986273e-08],\n",
       "        [ 1.30496323e-09,  3.54708043e-01, -3.54708051e-01,\n",
       "          6.77907322e-11, -5.29501125e-09, -1.63078586e-08,\n",
       "          1.89028485e-09,  5.72567027e-09, -6.68766626e-09,\n",
       "         -1.04007519e-08],\n",
       "        [-3.21289062e-09, -5.94593430e-01,  5.94593418e-01,\n",
       "         -1.66979418e-09,  2.60086357e-09, -1.53273590e-09,\n",
       "         -2.19566723e-09, -1.68723863e-09, -4.08513274e-09,\n",
       "         -2.79348037e-09],\n",
       "        [-1.82541191e-09,  4.92852540e-01,  4.92852536e-01,\n",
       "          1.44325844e-09, -4.52606004e-09,  8.00398669e-09,\n",
       "          7.73917987e-09, -3.14902100e-09, -1.12654325e-10,\n",
       "          3.64472343e-09]]),\n",
       " array([ 0.67489989, -0.41389816,  0.00178481, -0.22411739, -0.61585371,\n",
       "        -0.57334866, -0.01636106,  0.50163348,  0.84090696, -0.69639866]))"
      ]
     },
     "execution_count": 192,
     "metadata": {},
     "output_type": "execute_result"
    }
   ],
   "source": [
    "w_opt_L1, a_opt_L1 = solver(x_train, y_train, w_0, a_0, m, d, obj='L1')\n",
    "w_opt_L1, a_opt_L1"
   ]
  },
  {
   "cell_type": "code",
   "execution_count": 193,
   "metadata": {},
   "outputs": [
    {
     "data": {
      "image/png": "[encoded data removed]",
      "text/plain": [
       "<Figure size 432x288 with 1 Axes>"
      ]
     },
     "metadata": {
      "needs_background": "light"
     },
     "output_type": "display_data"
    }
   ],
   "source": [
    "plot_classifier(w_opt_L1, a_opt_L1, x_train, y_train)"
   ]
  },
  {
   "cell_type": "code",
   "execution_count": 194,
   "metadata": {},
   "outputs": [],
   "source": [
    "w_tilde_norms_opt_L1 = calc_w_tilde_norms(w_opt_L1, a_opt_L1)"
   ]
  },
  {
   "cell_type": "code",
   "execution_count": 195,
   "metadata": {},
   "outputs": [
    {
     "data": {
      "text/plain": [
       "0.999999968346963"
      ]
     },
     "execution_count": 195,
     "metadata": {},
     "output_type": "execute_result"
    }
   ],
   "source": [
    "minimal_margin(w_opt_L1, a_opt_L1, x_train, y_train)"
   ]
  },
  {
   "cell_type": "markdown",
   "metadata": {},
   "source": [
    "### Create Symmetric Initialization"
   ]
  },
  {
   "cell_type": "code",
   "execution_count": 196,
   "metadata": {},
   "outputs": [],
   "source": [
    "alpha = 1000\n",
    "s = 0.8"
   ]
  },
  {
   "cell_type": "code",
   "execution_count": 197,
   "metadata": {},
   "outputs": [
    {
     "data": {
      "image/png": "[encoded data removed]",
      "text/plain": [
       "<Figure size 432x288 with 1 Axes>"
      ]
     },
     "metadata": {
      "needs_background": "light"
     },
     "output_type": "display_data"
    }
   ],
   "source": [
    "w_0, a_0 = symmetric_init(alpha=alpha, s=s,  m=m, d=d)\n",
    "plot_classifier(w_0, a_0, x, y)"
   ]
  },
  {
   "cell_type": "markdown",
   "metadata": {},
   "source": [
    "### Train Full Model"
   ]
  },
  {
   "cell_type": "code",
   "execution_count": 198,
   "metadata": {
    "scrolled": true
   },
   "outputs": [],
   "source": [
    "def train(x_train, y_train, x_test, y_test, w_0, a_0, step_size, n_epochs):\n",
    "    training_accuracy = []\n",
    "    test_accuracy = []\n",
    "    excess_l1_curve = []\n",
    "    w_curve = []\n",
    "    a_curve = []\n",
    "\n",
    "    w, a = np.array(w_0), np.array(a_0)\n",
    "\n",
    "    for epoch in range(n_epochs):\n",
    "        w, a, gamma_tilde, gamma = update(w, a, x_train, y_train, epoch, step_size)\n",
    "        w_curve.append(w)\n",
    "        a_curve.append(a)\n",
    "        \n",
    "        training_accuracy.append(gamma_tilde)\n",
    "        test_accuracy.append(evaluate(x_test, y_test, w, a))\n",
    "        \n",
    "        w_tilde_norms = calc_w_tilde_norms(w, a) / gamma\n",
    "        excess_l1 = np.linalg.norm(w_tilde_norms, ord=1) / np.linalg.norm(w_tilde_norms_opt_L1, ord=1) - 1\n",
    "        excess_l1_curve.append(excess_l1)\n",
    "\n",
    "\n",
    "    return {\n",
    "        'w': w_curve,\n",
    "        'a': a_curve,\n",
    "        'training_accuracy': training_accuracy,\n",
    "        'test_accuracy': test_accuracy,\n",
    "        'excess_l1_curve': excess_l1_curve\n",
    "    }"
   ]
  },
  {
   "cell_type": "code",
   "execution_count": 199,
   "metadata": {},
   "outputs": [],
   "source": [
    "def evaluate(x, y, w, a):\n",
    "    activations = np.maximum(np.dot(w, x.transpose()), 0)\n",
    "    y_pred = np.dot(a, activations)\n",
    "    return sum(np.equal(np.sign(y_pred), np.sign(y))) / len(x)"
   ]
  },
  {
   "cell_type": "code",
   "execution_count": 211,
   "metadata": {
    "scrolled": true
   },
   "outputs": [
    {
     "name": "stderr",
     "output_type": "stream",
     "text": [
      "/Users/shaharazulay/anaconda3/envs/dev/lib/python3.6/site-packages/ipykernel_launcher.py:18: RuntimeWarning: divide by zero encountered in true_divide\n"
     ]
    }
   ],
   "source": [
    "alpha = 1000\n",
    "\n",
    "results = {}\n",
    "for s in [-0.9, 0, 0.9]:\n",
    "    w_0, a_0 = symmetric_init(alpha=alpha, s=s,  m=m, d=d, seed=0)\n",
    "    results[s] = train(x_train, y_train, x_test, y_test, w_0, a_0, step_size=0.01, n_epochs=100000)"
   ]
  },
  {
   "cell_type": "markdown",
   "metadata": {},
   "source": [
    "##### Check all models reach 100% train accuracy"
   ]
  },
  {
   "cell_type": "code",
   "execution_count": 212,
   "metadata": {},
   "outputs": [
    {
     "name": "stdout",
     "output_type": "stream",
     "text": [
      "-0.9 1.0\n",
      "0 1.0\n",
      "0.9 0.94\n"
     ]
    },
    {
     "ename": "AssertionError",
     "evalue": "",
     "output_type": "error",
     "traceback": [
      "\u001b[0;31m---------------------------------------------------------------------------\u001b[0m",
      "\u001b[0;31mAssertionError\u001b[0m                            Traceback (most recent call last)",
      "\u001b[0;32m<ipython-input-212-0b5b6832e365>\u001b[0m in \u001b[0;36m<module>\u001b[0;34m\u001b[0m\n\u001b[1;32m      2\u001b[0m     \u001b[0mw\u001b[0m\u001b[0;34m,\u001b[0m \u001b[0ma\u001b[0m \u001b[0;34m=\u001b[0m \u001b[0mresults\u001b[0m\u001b[0;34m[\u001b[0m\u001b[0mk\u001b[0m\u001b[0;34m]\u001b[0m\u001b[0;34m[\u001b[0m\u001b[0;34m'w'\u001b[0m\u001b[0;34m]\u001b[0m\u001b[0;34m[\u001b[0m\u001b[0;34m-\u001b[0m\u001b[0;36m1\u001b[0m\u001b[0;34m]\u001b[0m\u001b[0;34m,\u001b[0m \u001b[0mresults\u001b[0m\u001b[0;34m[\u001b[0m\u001b[0mk\u001b[0m\u001b[0;34m]\u001b[0m\u001b[0;34m[\u001b[0m\u001b[0;34m'a'\u001b[0m\u001b[0;34m]\u001b[0m\u001b[0;34m[\u001b[0m\u001b[0;34m-\u001b[0m\u001b[0;36m1\u001b[0m\u001b[0;34m]\u001b[0m\u001b[0;34m\u001b[0m\u001b[0;34m\u001b[0m\u001b[0m\n\u001b[1;32m      3\u001b[0m     \u001b[0mprint\u001b[0m\u001b[0;34m(\u001b[0m\u001b[0mk\u001b[0m\u001b[0;34m,\u001b[0m \u001b[0mevaluate\u001b[0m\u001b[0;34m(\u001b[0m\u001b[0mx_train\u001b[0m\u001b[0;34m,\u001b[0m \u001b[0my_train\u001b[0m\u001b[0;34m,\u001b[0m \u001b[0mw\u001b[0m\u001b[0;34m,\u001b[0m \u001b[0ma\u001b[0m\u001b[0;34m)\u001b[0m\u001b[0;34m)\u001b[0m\u001b[0;34m\u001b[0m\u001b[0;34m\u001b[0m\u001b[0m\n\u001b[0;32m----> 4\u001b[0;31m     \u001b[0;32massert\u001b[0m \u001b[0mevaluate\u001b[0m\u001b[0;34m(\u001b[0m\u001b[0mx_train\u001b[0m\u001b[0;34m,\u001b[0m \u001b[0my_train\u001b[0m\u001b[0;34m,\u001b[0m \u001b[0mw\u001b[0m\u001b[0;34m,\u001b[0m \u001b[0ma\u001b[0m\u001b[0;34m)\u001b[0m \u001b[0;34m==\u001b[0m \u001b[0;36m1\u001b[0m\u001b[0;34m\u001b[0m\u001b[0;34m\u001b[0m\u001b[0m\n\u001b[0m",
      "\u001b[0;31mAssertionError\u001b[0m: "
     ]
    }
   ],
   "source": [
    "for k in results.keys():\n",
    "    w, a = results[k]['w'][-1], results[k]['a'][-1]\n",
    "    print(k, evaluate(x_train, y_train, w, a))\n",
    "    assert evaluate(x_train, y_train, w, a) == 1"
   ]
  },
  {
   "cell_type": "markdown",
   "metadata": {},
   "source": [
    "#####  Analyse"
   ]
  },
  {
   "cell_type": "code",
   "execution_count": 213,
   "metadata": {},
   "outputs": [
    {
     "data": {
      "image/png": "[encoded data removed]",
      "text/plain": [
       "<Figure size 432x288 with 1 Axes>"
      ]
     },
     "metadata": {
      "needs_background": "light"
     },
     "output_type": "display_data"
    },
    {
     "data": {
      "text/plain": [
       "1.0"
      ]
     },
     "execution_count": 213,
     "metadata": {},
     "output_type": "execute_result"
    }
   ],
   "source": [
    "w, a = results[0]['w'][-1], results[0]['a'][-1]\n",
    "plot_classifier(w, a, x_train, y_train)\n",
    "evaluate(x_train, y_train, w, a)"
   ]
  },
  {
   "cell_type": "code",
   "execution_count": 214,
   "metadata": {},
   "outputs": [
    {
     "data": {
      "image/png": "[encoded data removed]",
      "text/plain": [
       "<Figure size 432x288 with 1 Axes>"
      ]
     },
     "metadata": {
      "needs_background": "light"
     },
     "output_type": "display_data"
    }
   ],
   "source": [
    "w, a = results[0.9]['w'][-1], results[0.9]['a'][-1]\n",
    "plot_classifier(w, a, x_train, y_train)"
   ]
  },
  {
   "cell_type": "code",
   "execution_count": 215,
   "metadata": {},
   "outputs": [
    {
     "data": {
      "text/plain": [
       "(0.0, 10000000.0)"
      ]
     },
     "execution_count": 215,
     "metadata": {},
     "output_type": "execute_result"
    },
    {
     "data": {
      "image/png": "[encoded data removed]",
      "text/plain": [
       "<Figure size 432x288 with 1 Axes>"
      ]
     },
     "metadata": {
      "needs_background": "light"
     },
     "output_type": "display_data"
    }
   ],
   "source": [
    "for k in results.keys():\n",
    "    plot(results[k]['training_accuracy'], results[k]['test_accuracy'])\n",
    "\n",
    "legend([f's = {k}' for k in results.keys()])\n",
    "#yscale('log')\n",
    "#xlim([0, 8000])\n",
    "xlabel('Test Accuracy')\n",
    "xlabel('Train Loss (gamma_tilde)')\n",
    "title('XOR dataset')\n",
    "\n",
    "xlim([0, 1e7])"
   ]
  },
  {
   "cell_type": "code",
   "execution_count": 45,
   "metadata": {},
   "outputs": [
    {
     "data": {
      "text/plain": [
       "(92783.59902966161, 18079096.64915051)"
      ]
     },
     "execution_count": 45,
     "metadata": {},
     "output_type": "execute_result"
    }
   ],
   "source": [
    "results[0]['training_accuracy'][-1], results[0.9]['training_accuracy'][-1]"
   ]
  },
  {
   "cell_type": "code",
   "execution_count": 100,
   "metadata": {},
   "outputs": [
    {
     "name": "stderr",
     "output_type": "stream",
     "text": [
      "/Users/shaharazulay/anaconda3/envs/dev/lib/python3.6/site-packages/ipykernel_launcher.py:5: UserWarning: Attempted to set non-positive bottom ylim on a log-scaled axis.\n",
      "Invalid limit will be ignored.\n",
      "  \"\"\"\n"
     ]
    },
    {
     "data": {
      "text/plain": [
       "<matplotlib.legend.Legend at 0x16069c710>"
      ]
     },
     "execution_count": 100,
     "metadata": {},
     "output_type": "execute_result"
    },
    {
     "data": {
      "image/png": "[encoded data removed]",
      "text/plain": [
       "<Figure size 432x288 with 1 Axes>"
      ]
     },
     "metadata": {
      "needs_background": "light"
     },
     "output_type": "display_data"
    }
   ],
   "source": [
    "for k in results.keys():\n",
    "    plot([2 * alpha/t for t in results[k]['training_accuracy']], results[k]['excess_l1_curve'], 'o')\n",
    "\n",
    "yscale('log')\n",
    "ylim([0, 1e4])\n",
    "xlim([0, 200])\n",
    "legend([f's = {k}' for k in results.keys()])"
   ]
  },
  {
   "cell_type": "code",
   "execution_count": 102,
   "metadata": {},
   "outputs": [
    {
     "name": "stderr",
     "output_type": "stream",
     "text": [
      "/Users/shaharazulay/anaconda3/envs/dev/lib/python3.6/site-packages/ipykernel_launcher.py:5: UserWarning: Attempted to set non-positive bottom ylim on a log-scaled axis.\n",
      "Invalid limit will be ignored.\n",
      "  \"\"\"\n"
     ]
    },
    {
     "data": {
      "text/plain": [
       "<matplotlib.legend.Legend at 0x1683ace48>"
      ]
     },
     "execution_count": 102,
     "metadata": {},
     "output_type": "execute_result"
    },
    {
     "data": {
      "image/png": "[encoded data removed]",
      "text/plain": [
       "<Figure size 432x288 with 1 Axes>"
      ]
     },
     "metadata": {
      "needs_background": "light"
     },
     "output_type": "display_data"
    }
   ],
   "source": [
    "for k in results.keys():\n",
    "    plot(results[k]['training_accuracy'], results[k]['excess_l1_curve'])\n",
    "\n",
    "yscale('log')\n",
    "ylim([0, 1e4])\n",
    "xlim([0, 1e5])\n",
    "legend([f's = {k}' for k in results.keys()])"
   ]
  },
  {
   "cell_type": "code",
   "execution_count": 103,
   "metadata": {},
   "outputs": [
    {
     "name": "stdout",
     "output_type": "stream",
     "text": [
      "100000.28052941851\n",
      "99999.4665572367\n",
      "100057.82432863305\n"
     ]
    }
   ],
   "source": [
    "relevant_weights = {}\n",
    "for k in results.keys():\n",
    "    train_acc = np.abs(np.array(results[k]['training_accuracy']) - 1e5)\n",
    "    idx = np.argmin(train_acc)\n",
    "    relevant_weights[k] = {'w': results[k]['w'][idx], 'a': results[k]['a'][idx]}\n",
    "    print(results[k]['training_accuracy'][idx])"
   ]
  },
  {
   "cell_type": "code",
   "execution_count": 104,
   "metadata": {},
   "outputs": [
    {
     "data": {
      "image/png": "[encoded data removed]",
      "text/plain": [
       "<Figure size 432x288 with 1 Axes>"
      ]
     },
     "metadata": {
      "needs_background": "light"
     },
     "output_type": "display_data"
    },
    {
     "data": {
      "image/png": "[encoded data removed]",
      "text/plain": [
       "<Figure size 432x288 with 1 Axes>"
      ]
     },
     "metadata": {
      "needs_background": "light"
     },
     "output_type": "display_data"
    }
   ],
   "source": [
    "w, a = relevant_weights[0]['w'], relevant_weights[0]['a']\n",
    "plot_classifier(w, a, x_train, y_train)\n",
    "\n",
    "w, a = relevant_weights[0.9]['w'], relevant_weights[0.9]['a']\n",
    "plot_classifier(w, a, x_train, y_train)"
   ]
  },
  {
   "cell_type": "code",
   "execution_count": 106,
   "metadata": {},
   "outputs": [],
   "source": [
    "alpha = 10000\n",
    "\n",
    "s_range = [0, 0.2, 0.5, 0.9, 0.99]\n",
    "mu_range = [5, 10, 20, 50, 100, 200, 500, 1000] "
   ]
  },
  {
   "cell_type": "code",
   "execution_count": 107,
   "metadata": {
    "scrolled": true
   },
   "outputs": [
    {
     "name": "stdout",
     "output_type": "stream",
     "text": [
      "Optimization terminated successfully.    (Exit mode 0)\n",
      "            Current function value: -24.999999999735444\n",
      "            Iterations: 19\n",
      "            Function evaluations: 4219\n",
      "            Gradient evaluations: 19\n",
      "Optimization terminated successfully.    (Exit mode 0)\n",
      "            Current function value: -49.999999999914664\n",
      "            Iterations: 15\n",
      "            Function evaluations: 3331\n",
      "            Gradient evaluations: 15\n",
      "Optimization terminated successfully.    (Exit mode 0)\n",
      "            Current function value: -99.99999999990898\n",
      "            Iterations: 13\n",
      "            Function evaluations: 2887\n",
      "            Gradient evaluations: 13\n",
      "Optimization terminated successfully.    (Exit mode 0)\n",
      "            Current function value: -249.9999999998816\n",
      "            Iterations: 14\n",
      "            Function evaluations: 3109\n",
      "            Gradient evaluations: 14\n",
      "Optimization terminated successfully.    (Exit mode 0)\n",
      "            Current function value: -499.99999999971953\n",
      "            Iterations: 15\n",
      "            Function evaluations: 3333\n",
      "            Gradient evaluations: 15\n",
      "Optimization terminated successfully.    (Exit mode 0)\n",
      "            Current function value: -999.9999999999065\n",
      "            Iterations: 15\n",
      "            Function evaluations: 3336\n",
      "            Gradient evaluations: 15\n",
      "Optimization terminated successfully.    (Exit mode 0)\n",
      "            Current function value: -2499.99999999902\n",
      "            Iterations: 16\n",
      "            Function evaluations: 3562\n",
      "            Gradient evaluations: 16\n",
      "Optimization terminated successfully.    (Exit mode 0)\n",
      "            Current function value: -4999.999999992947\n",
      "            Iterations: 17\n",
      "            Function evaluations: 3791\n",
      "            Gradient evaluations: 17\n",
      "Optimization terminated successfully.    (Exit mode 0)\n",
      "            Current function value: -16.666666666643074\n",
      "            Iterations: 19\n",
      "            Function evaluations: 4219\n",
      "            Gradient evaluations: 19\n",
      "Optimization terminated successfully.    (Exit mode 0)\n",
      "            Current function value: -33.333333333016405\n",
      "            Iterations: 15\n",
      "            Function evaluations: 3330\n",
      "            Gradient evaluations: 15\n",
      "Optimization terminated successfully.    (Exit mode 0)\n",
      "            Current function value: -66.66666666659275\n",
      "            Iterations: 12\n",
      "            Function evaluations: 2665\n",
      "            Gradient evaluations: 12\n",
      "Optimization terminated successfully.    (Exit mode 0)\n",
      "            Current function value: -166.66666666663534\n",
      "            Iterations: 14\n",
      "            Function evaluations: 3112\n",
      "            Gradient evaluations: 14\n",
      "Optimization terminated successfully.    (Exit mode 0)\n",
      "            Current function value: -333.3333333333269\n",
      "            Iterations: 15\n",
      "            Function evaluations: 3340\n",
      "            Gradient evaluations: 15\n",
      "Optimization terminated successfully.    (Exit mode 0)\n",
      "            Current function value: -666.6666666664785\n",
      "            Iterations: 14\n",
      "            Function evaluations: 3112\n",
      "            Gradient evaluations: 14\n",
      "Optimization terminated successfully.    (Exit mode 0)\n",
      "            Current function value: -1666.6666666664094\n",
      "            Iterations: 15\n",
      "            Function evaluations: 3336\n",
      "            Gradient evaluations: 15\n",
      "Optimization terminated successfully.    (Exit mode 0)\n",
      "            Current function value: -3333.333333332261\n",
      "            Iterations: 18\n",
      "            Function evaluations: 4010\n",
      "            Gradient evaluations: 18\n",
      "Optimization terminated successfully.    (Exit mode 0)\n",
      "            Current function value: -8.33333333298225\n",
      "            Iterations: 19\n",
      "            Function evaluations: 4218\n",
      "            Gradient evaluations: 19\n",
      "Optimization terminated successfully.    (Exit mode 0)\n",
      "            Current function value: -16.66666666615076\n",
      "            Iterations: 16\n",
      "            Function evaluations: 3553\n",
      "            Gradient evaluations: 16\n",
      "Optimization terminated successfully.    (Exit mode 0)\n",
      "            Current function value: -33.33333333304617\n",
      "            Iterations: 16\n",
      "            Function evaluations: 3553\n",
      "            Gradient evaluations: 16\n",
      "Optimization terminated successfully.    (Exit mode 0)\n",
      "            Current function value: -83.33333333324117\n",
      "            Iterations: 17\n",
      "            Function evaluations: 3776\n",
      "            Gradient evaluations: 17\n",
      "Optimization terminated successfully.    (Exit mode 0)\n",
      "            Current function value: -166.66666666637695\n",
      "            Iterations: 19\n",
      "            Function evaluations: 4223\n",
      "            Gradient evaluations: 19\n",
      "Optimization terminated successfully.    (Exit mode 0)\n",
      "            Current function value: -333.333333333221\n",
      "            Iterations: 18\n",
      "            Function evaluations: 4006\n",
      "            Gradient evaluations: 18\n",
      "Optimization terminated successfully.    (Exit mode 0)\n",
      "            Current function value: -833.3333333328286\n",
      "            Iterations: 19\n",
      "            Function evaluations: 4228\n",
      "            Gradient evaluations: 19\n",
      "Optimization terminated successfully.    (Exit mode 0)\n",
      "            Current function value: -1666.6666666663032\n",
      "            Iterations: 18\n",
      "            Function evaluations: 4002\n",
      "            Gradient evaluations: 18\n",
      "Optimization terminated successfully.    (Exit mode 0)\n",
      "            Current function value: -1.3157894735953009\n",
      "            Iterations: 36\n",
      "            Function evaluations: 7993\n",
      "            Gradient evaluations: 36\n",
      "Optimization terminated successfully.    (Exit mode 0)\n",
      "            Current function value: -2.631578947151238\n",
      "            Iterations: 37\n",
      "            Function evaluations: 8215\n",
      "            Gradient evaluations: 37\n",
      "Optimization terminated successfully.    (Exit mode 0)\n",
      "            Current function value: -5.263157894581195\n",
      "            Iterations: 38\n",
      "            Function evaluations: 8437\n",
      "            Gradient evaluations: 38\n",
      "Optimization terminated successfully.    (Exit mode 0)\n",
      "            Current function value: -13.157894736596717\n",
      "            Iterations: 34\n",
      "            Function evaluations: 7549\n",
      "            Gradient evaluations: 34\n",
      "Optimization terminated successfully.    (Exit mode 0)\n",
      "            Current function value: -26.315789472431174\n",
      "            Iterations: 37\n",
      "            Function evaluations: 8215\n",
      "            Gradient evaluations: 37\n",
      "Optimization terminated successfully.    (Exit mode 0)\n",
      "            Current function value: -52.631578947139836\n",
      "            Iterations: 38\n",
      "            Function evaluations: 8441\n",
      "            Gradient evaluations: 38\n",
      "Optimization terminated successfully.    (Exit mode 0)\n",
      "            Current function value: -131.57894736637456\n",
      "            Iterations: 43\n",
      "            Function evaluations: 9552\n",
      "            Gradient evaluations: 43\n",
      "Optimization terminated successfully.    (Exit mode 0)\n",
      "            Current function value: -263.1578947221539\n",
      "            Iterations: 38\n",
      "            Function evaluations: 8444\n",
      "            Gradient evaluations: 38\n",
      "Optimization terminated successfully.    (Exit mode 0)\n",
      "            Current function value: -0.12562813811971055\n",
      "            Iterations: 94\n",
      "            Function evaluations: 20872\n",
      "            Gradient evaluations: 94\n",
      "Optimization terminated successfully.    (Exit mode 0)\n",
      "            Current function value: -0.2512562693899029\n",
      "            Iterations: 64\n",
      "            Function evaluations: 14211\n",
      "            Gradient evaluations: 64\n",
      "Optimization terminated successfully.    (Exit mode 0)\n",
      "            Current function value: -0.5025125569058425\n",
      "            Iterations: 71\n",
      "            Function evaluations: 15769\n",
      "            Gradient evaluations: 71\n",
      "Optimization terminated successfully.    (Exit mode 0)\n",
      "            Current function value: -1.2562812833043058\n",
      "            Iterations: 71\n",
      "            Function evaluations: 15775\n",
      "            Gradient evaluations: 71\n",
      "Optimization terminated successfully.    (Exit mode 0)\n",
      "            Current function value: -2.512562623634743\n",
      "            Iterations: 85\n",
      "            Function evaluations: 18893\n",
      "            Gradient evaluations: 85\n",
      "Optimization terminated successfully.    (Exit mode 0)\n",
      "            Current function value: -5.02512514150317\n",
      "            Iterations: 74\n",
      "            Function evaluations: 16449\n",
      "            Gradient evaluations: 74\n",
      "Optimization terminated successfully.    (Exit mode 0)\n",
      "            Current function value: -12.562808187769503\n",
      "            Iterations: 72\n",
      "            Function evaluations: 16000\n",
      "            Gradient evaluations: 72\n"
     ]
    },
    {
     "name": "stdout",
     "output_type": "stream",
     "text": [
      "Optimization terminated successfully.    (Exit mode 0)\n",
      "            Current function value: -25.12561697433975\n",
      "            Iterations: 75\n",
      "            Function evaluations: 16679\n",
      "            Gradient evaluations: 75\n"
     ]
    }
   ],
   "source": [
    "excess_l1_Q_curve = {}\n",
    "\n",
    "x0 = np.random.normal(size=(m * (d + 1),))\n",
    "\n",
    "for s_val in s_range:\n",
    "    for mu_val in mu_range:\n",
    "        mu = [mu_val] * m\n",
    "        s_vec = [s_val] * m\n",
    "        \n",
    "        w_opt_Q, a_opt_Q = solver(x_train, y_train, w_0, a_0, m, d, obj='Q', mu=mu, s=s_vec, x0=x0, optim_tol=1e-9)\n",
    "        _, _, _, gamma = update(w_opt_Q, a_opt_Q.reshape(1, -1), x_train, y_train, epoch=0, step_size=0)\n",
    "        w_tilde_norms_Q = calc_w_tilde_norms(w_opt_Q, a_opt_Q) / gamma\n",
    "        \n",
    "        excess_l1_Q = np.linalg.norm(w_tilde_norms_Q, ord=1) / np.linalg.norm(w_tilde_norms_opt_L1, ord=1) - 1\n",
    "        excess_l1_Q_curve.setdefault(s_val, []).append(excess_l1_Q)"
   ]
  },
  {
   "cell_type": "code",
   "execution_count": 108,
   "metadata": {},
   "outputs": [
    {
     "data": {
      "text/plain": [
       "Text(0.5, 1.0, 'Q_s^mu')"
      ]
     },
     "execution_count": 108,
     "metadata": {},
     "output_type": "execute_result"
    },
    {
     "data": {
      "image/png": "[encoded data removed]",
      "text/plain": [
       "<Figure size 432x288 with 1 Axes>"
      ]
     },
     "metadata": {
      "needs_background": "light"
     },
     "output_type": "display_data"
    }
   ],
   "source": [
    "for k in excess_l1_Q_curve.keys():\n",
    "    plot(mu_range, excess_l1_Q_curve[k], 'o--')\n",
    "\n",
    "ylabel('Excess L1 norm')\n",
    "yscale('log')\n",
    "#ylim([0, 100])\n",
    "#xlim([0, 20])\n",
    "xlabel('mu')\n",
    "legend([f's = {k}' for k in excess_l1_Q_curve.keys()])\n",
    "title('Q_s^mu')"
   ]
  },
  {
   "cell_type": "code",
   "execution_count": null,
   "metadata": {},
   "outputs": [],
   "source": []
  }
 ],
 "metadata": {
  "kernelspec": {
   "display_name": "Python 3",
   "language": "python",
   "name": "python3"
  },
  "language_info": {
   "codemirror_mode": {
    "name": "ipython",
    "version": 3
   },
   "file_extension": ".py",
   "mimetype": "text/x-python",
   "name": "python",
   "nbconvert_exporter": "python",
   "pygments_lexer": "ipython3",
   "version": "3.6.8"
  }
 },
 "nbformat": 4,
 "nbformat_minor": 2
}
