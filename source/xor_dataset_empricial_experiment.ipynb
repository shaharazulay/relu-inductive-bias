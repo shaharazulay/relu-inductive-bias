{
 "cells": [
  {
   "cell_type": "code",
   "execution_count": 30,
   "metadata": {},
   "outputs": [],
   "source": [
    "import numpy as np\n",
    "from operator import xor"
   ]
  },
  {
   "cell_type": "code",
   "execution_count": 1,
   "metadata": {},
   "outputs": [
    {
     "name": "stdout",
     "output_type": "stream",
     "text": [
      "Populating the interactive namespace from numpy and matplotlib\n"
     ]
    }
   ],
   "source": [
    "%pylab inline"
   ]
  },
  {
   "cell_type": "code",
   "execution_count": 2,
   "metadata": {},
   "outputs": [],
   "source": [
    "from classifier import *\n",
    "from ntk import *\n",
    "from Q_minimization import *"
   ]
  },
  {
   "cell_type": "markdown",
   "metadata": {},
   "source": [
    "### Define Dimensions"
   ]
  },
  {
   "cell_type": "code",
   "execution_count": 472,
   "metadata": {},
   "outputs": [],
   "source": [
    "n = 1000\n",
    "m = 10\n",
    "d = 10"
   ]
  },
  {
   "cell_type": "markdown",
   "metadata": {},
   "source": [
    "### Define Dataset"
   ]
  },
  {
   "cell_type": "code",
   "execution_count": 473,
   "metadata": {},
   "outputs": [],
   "source": [
    "def xor_label(row):\n",
    "    _xor = xor(bool(row[1] > 0), bool(row[2] > 0))\n",
    "    return 1.0 if _xor else -1.0"
   ]
  },
  {
   "cell_type": "code",
   "execution_count": 474,
   "metadata": {},
   "outputs": [],
   "source": [
    "x = 2.0 * ((np.random.normal(size=(n, d - 1)) > 0) - 0.5)\n",
    "x = np.concatenate([np.ones((n, 1)), x], axis=1)\n",
    "\n",
    "y = np.array(list(map(xor_label, x))).reshape(-1,)"
   ]
  },
  {
   "cell_type": "code",
   "execution_count": 475,
   "metadata": {},
   "outputs": [],
   "source": [
    "x_train, x_test = x[: int(0.8 * n), :], x[int(0.8 * n):, :]\n",
    "y_train, y_test = y[: int(0.8 * n)], y[int(0.8 * n):]"
   ]
  },
  {
   "cell_type": "markdown",
   "metadata": {},
   "source": [
    "### Utils"
   ]
  },
  {
   "cell_type": "code",
   "execution_count": 519,
   "metadata": {},
   "outputs": [],
   "source": [
    "def plot_classifier(w, a, x, y):\n",
    "\txmin = -1.2\n",
    "\txmax = 1.2\n",
    "\n",
    "\tmesh_step = 0.02\n",
    "\t_x1 = np.arange(xmin, xmax, mesh_step)\n",
    "\t_x2 = np.arange(xmin, xmax, mesh_step)\n",
    "\txx_1, xx_2 = np.meshgrid(_x1, _x2)\n",
    "\n",
    "\tinput_ = np.c_[np.ones(xx_1.ravel().shape), xx_1.ravel(), xx_2.ravel(), 1.0 * ((np.random.normal(size=(len(xx_1.ravel()), d - 3)) > 0))]\n",
    "\tactivations = np.maximum(np.dot(w, input_.transpose()), 0)\n",
    "\ty_pred = np.dot(a, activations)\n",
    "\n",
    "\tplt.figure()\n",
    "\tz = np.reshape(np.sign(y_pred), xx_1.shape)\n",
    "\tplt.pcolormesh(xx_1, xx_2, z)\n",
    "\n",
    "\tplt.scatter([x_[1] for x_, y_ in zip(x, y) if y_ > 0], [x_[2] for x_, y_ in zip(x, y) if y_ > 0])\n",
    "\tplt.scatter([x_[1] for x_, y_ in zip(x, y) if y_ < 0], [x_[2] for x_, y_ in zip(x, y) if y_ < 0])\n",
    "\tplt.show()"
   ]
  },
  {
   "cell_type": "markdown",
   "metadata": {},
   "source": [
    "### Solve L1"
   ]
  },
  {
   "cell_type": "code",
   "execution_count": 520,
   "metadata": {},
   "outputs": [],
   "source": [
    "w_0 = np.random.normal(loc=0, scale=1, size=(m, d))\n",
    "a_0 = np.random.normal(loc=0, scale=1, size=(m,))"
   ]
  },
  {
   "cell_type": "code",
   "execution_count": 521,
   "metadata": {
    "scrolled": true
   },
   "outputs": [
    {
     "name": "stdout",
     "output_type": "stream",
     "text": [
      "Optimization terminated successfully.    (Exit mode 0)\n",
      "            Current function value: 2.3784144420389484\n",
      "            Iterations: 301\n",
      "            Function evaluations: 34871\n",
      "            Gradient evaluations: 299\n"
     ]
    },
    {
     "data": {
      "text/plain": [
       "(array([[ 5.74540688e-08,  5.83730182e-01, -5.83730217e-01,\n",
       "          5.47992487e-08,  2.14863141e-08, -1.33927478e-08,\n",
       "         -9.96039186e-10, -5.59326097e-10,  3.30619966e-08,\n",
       "          3.33007716e-09],\n",
       "        [-4.39461934e-08,  5.79257203e-01,  5.79257218e-01,\n",
       "          3.83741017e-08, -4.47526662e-09,  2.82155558e-09,\n",
       "         -3.17667277e-09,  3.08023389e-08, -2.65650811e-08,\n",
       "          2.81399674e-08],\n",
       "        [ 7.13012393e-06,  2.50008604e-03, -2.50291675e-03,\n",
       "          3.25800782e-06, -7.36691488e-06,  6.63340188e-06,\n",
       "         -2.52555109e-06,  4.11005978e-06, -2.46482988e-06,\n",
       "         -3.49943525e-06],\n",
       "        [-3.59823659e-08,  1.33779803e-01,  1.33779823e-01,\n",
       "          7.71921819e-08,  9.08499089e-10,  9.62456661e-08,\n",
       "         -8.53827402e-09, -8.50716422e-08, -9.50265752e-10,\n",
       "         -1.13935657e-07],\n",
       "        [-7.08900107e-08, -5.60887042e-01, -5.60887066e-01,\n",
       "          4.65104632e-08,  7.66715954e-09,  2.26058923e-08,\n",
       "         -3.98045112e-08,  1.66629917e-08,  2.86316372e-08,\n",
       "          1.34359965e-08],\n",
       "        [-1.76663089e-08, -5.94601445e-01,  5.94601425e-01,\n",
       "          5.42518663e-08, -1.87073793e-09,  1.02824103e-08,\n",
       "         -7.04969103e-09, -2.05522619e-09, -2.11644169e-08,\n",
       "         -4.07074531e-09],\n",
       "        [ 3.66419639e-08,  1.13112746e-01, -1.13112757e-01,\n",
       "         -3.04541653e-08, -8.00139167e-08,  1.33939563e-07,\n",
       "          6.15457414e-08, -1.65935309e-08, -1.09651860e-07,\n",
       "          6.75027605e-08],\n",
       "        [-4.72877162e-08, -1.00871852e-01, -1.00871743e-01,\n",
       "          1.61437550e-07, -2.41003839e-09, -6.71129039e-08,\n",
       "          1.55958673e-10, -2.46159585e-07, -1.62283583e-07,\n",
       "         -2.29735130e-08],\n",
       "        [-1.28185239e-07, -1.69756872e-01, -1.69757109e-01,\n",
       "          5.44847114e-08, -1.09542217e-07,  1.12426977e-07,\n",
       "          1.34431690e-07,  9.25650632e-08,  8.21452758e-08,\n",
       "         -1.93013756e-08],\n",
       "        [ 4.19417354e-05, -1.43985891e-05,  5.28958683e-05,\n",
       "          6.93938807e-05,  7.32674087e-05,  1.94469837e-05,\n",
       "         -3.67243524e-06,  7.98555508e-05, -1.01621363e-05,\n",
       "         -3.12365808e-05]]),\n",
       " array([ 8.25550340e-01, -8.19465583e-01,  3.56343436e-03, -1.89256787e-01,\n",
       "        -7.93146592e-01,  8.40899507e-01,  1.59950583e-01, -1.42585668e-01,\n",
       "        -2.40058559e-01,  5.52240815e-05]))"
      ]
     },
     "execution_count": 521,
     "metadata": {},
     "output_type": "execute_result"
    }
   ],
   "source": [
    "w_opt_L1, a_opt_L1 = solver(x, y, w_0, a_0, m, d, obj='L1')\n",
    "w_opt_L1, a_opt_L1"
   ]
  },
  {
   "cell_type": "code",
   "execution_count": 522,
   "metadata": {},
   "outputs": [
    {
     "data": {
      "image/png": "[encoded data removed]",
      "text/plain": [
       "<Figure size 432x288 with 1 Axes>"
      ]
     },
     "metadata": {
      "needs_background": "light"
     },
     "output_type": "display_data"
    }
   ],
   "source": [
    "plot_classifier(w_opt_L1, a_opt_L1, x, y)"
   ]
  },
  {
   "cell_type": "code",
   "execution_count": 523,
   "metadata": {},
   "outputs": [],
   "source": [
    "w_tilde_norms_opt_L1 = calc_w_tilde_norms(w_opt_L1, a_opt_L1)"
   ]
  },
  {
   "cell_type": "code",
   "execution_count": 524,
   "metadata": {},
   "outputs": [
    {
     "data": {
      "text/plain": [
       "0.9999999540786542"
      ]
     },
     "execution_count": 524,
     "metadata": {},
     "output_type": "execute_result"
    }
   ],
   "source": [
    "minimal_margin(w_opt_L1, a_opt_L1, x, y)"
   ]
  },
  {
   "cell_type": "markdown",
   "metadata": {},
   "source": [
    "### Create Symmetric Initialization"
   ]
  },
  {
   "cell_type": "code",
   "execution_count": 460,
   "metadata": {},
   "outputs": [],
   "source": [
    "alpha = 1000\n",
    "s = 0.8"
   ]
  },
  {
   "cell_type": "code",
   "execution_count": 461,
   "metadata": {},
   "outputs": [
    {
     "data": {
      "image/png": "[encoded data removed]",
      "text/plain": [
       "<Figure size 432x288 with 1 Axes>"
      ]
     },
     "metadata": {
      "needs_background": "light"
     },
     "output_type": "display_data"
    }
   ],
   "source": [
    "w_0, a_0 = symmetric_init(alpha=alpha, s=s,  m=m, d=d)\n",
    "plot_classifier(w_0, a_0, x, y)"
   ]
  },
  {
   "cell_type": "markdown",
   "metadata": {},
   "source": [
    "### Train Full Model"
   ]
  },
  {
   "cell_type": "code",
   "execution_count": 525,
   "metadata": {
    "scrolled": true
   },
   "outputs": [],
   "source": [
    "def train(x_train, y_train, x_test, y_test, w_0, a_0, step_size, n_epochs):\n",
    "    training_accuracy = []\n",
    "    test_accuracy = []\n",
    "    excess_l1_curve = []\n",
    "\n",
    "    w, a = np.array(w_0), np.array(a_0)\n",
    "\n",
    "    for epoch in range(n_epochs):\n",
    "        w, a, gamma_tilde, gamma = update(w, a, x_train, y_train, epoch, step_size)\n",
    "        training_accuracy.append(gamma_tilde)\n",
    "        test_accuracy.append(evaluate(x_test, y_test, w, a))\n",
    "        \n",
    "        w_tilde_norms = calc_w_tilde_norms(w, a) / gamma\n",
    "        excess_l1 = np.linalg.norm(w_tilde_norms, ord=1) / np.linalg.norm(w_tilde_norms_opt_L1, ord=1) - 1\n",
    "        excess_l1_curve.append(excess_l1)\n",
    "\n",
    "\n",
    "    return {\n",
    "        'w': w,\n",
    "        'a': a,\n",
    "        'training_accuracy': training_accuracy,\n",
    "        'test_accuracy': test_accuracy,\n",
    "        'excess_l1_curve': excess_l1_curve\n",
    "    }"
   ]
  },
  {
   "cell_type": "code",
   "execution_count": 526,
   "metadata": {},
   "outputs": [],
   "source": [
    "def evaluate(x, y, w, a):\n",
    "    activations = np.maximum(np.dot(w, x.transpose()), 0)\n",
    "    y_pred = np.dot(a, activations)\n",
    "    return sum(np.equal(np.sign(y_pred), np.sign(y))) / len(x)"
   ]
  },
  {
   "cell_type": "code",
   "execution_count": 542,
   "metadata": {
    "scrolled": true
   },
   "outputs": [
    {
     "name": "stderr",
     "output_type": "stream",
     "text": [
      "/Users/shaharazulay/anaconda3/envs/dev/lib/python3.6/site-packages/ipykernel_launcher.py:13: RuntimeWarning: divide by zero encountered in true_divide\n",
      "  del sys.path[0]\n"
     ]
    }
   ],
   "source": [
    "alpha = 10\n",
    "\n",
    "results = {}\n",
    "for s in [0, 0.5, 0.9]:\n",
    "    w_0, a_0 = symmetric_init(alpha=alpha, s=s,  m=m, d=d)\n",
    "    results[s] = train(x_train, y_train, x_test, y_test, w_0, a_0, step_size=0.1, n_epochs=10000)"
   ]
  },
  {
   "cell_type": "code",
   "execution_count": 543,
   "metadata": {},
   "outputs": [
    {
     "data": {
      "image/png": "[encoded data removed]",
      "text/plain": [
       "<Figure size 432x288 with 1 Axes>"
      ]
     },
     "metadata": {
      "needs_background": "light"
     },
     "output_type": "display_data"
    }
   ],
   "source": [
    "w, a = results[0]['w'], results[0]['a']\n",
    "plot_classifier(w, a, x_train, y_train)"
   ]
  },
  {
   "cell_type": "code",
   "execution_count": 544,
   "metadata": {},
   "outputs": [
    {
     "data": {
      "image/png": "[encoded data removed]",
      "text/plain": [
       "<Figure size 432x288 with 1 Axes>"
      ]
     },
     "metadata": {
      "needs_background": "light"
     },
     "output_type": "display_data"
    }
   ],
   "source": [
    "w, a = results[0.9]['w'], results[0.9]['a']\n",
    "plot_classifier(w, a, x_train, y_train)"
   ]
  },
  {
   "cell_type": "code",
   "execution_count": 545,
   "metadata": {},
   "outputs": [
    {
     "data": {
      "text/plain": [
       "<matplotlib.legend.Legend at 0x126788c88>"
      ]
     },
     "execution_count": 545,
     "metadata": {},
     "output_type": "execute_result"
    },
    {
     "data": {
      "image/png": "[encoded data removed]",
      "text/plain": [
       "<Figure size 432x288 with 1 Axes>"
      ]
     },
     "metadata": {
      "needs_background": "light"
     },
     "output_type": "display_data"
    }
   ],
   "source": [
    "for k in results.keys():\n",
    "    plot(results[k]['test_accuracy'])\n",
    "\n",
    "legend(results.keys())\n",
    "#yscale('log')\n",
    "#xlim([0, 100])"
   ]
  },
  {
   "cell_type": "code",
   "execution_count": 546,
   "metadata": {},
   "outputs": [
    {
     "data": {
      "text/plain": [
       "7711061.616864997"
      ]
     },
     "execution_count": 546,
     "metadata": {},
     "output_type": "execute_result"
    }
   ],
   "source": [
    "results[0.9]['training_accuracy'][-1]"
   ]
  },
  {
   "cell_type": "code",
   "execution_count": 547,
   "metadata": {},
   "outputs": [
    {
     "data": {
      "text/plain": [
       "<matplotlib.legend.Legend at 0x13310f2b0>"
      ]
     },
     "execution_count": 547,
     "metadata": {},
     "output_type": "execute_result"
    },
    {
     "data": {
      "image/png": "[encoded data removed]",
      "text/plain": [
       "<Figure size 432x288 with 1 Axes>"
      ]
     },
     "metadata": {
      "needs_background": "light"
     },
     "output_type": "display_data"
    }
   ],
   "source": [
    "for k in results.keys():\n",
    "    plot(results[k]['excess_l1_curve'])\n",
    "\n",
    "yscale('log')\n",
    "legend(results.keys())"
   ]
  },
  {
   "cell_type": "code",
   "execution_count": null,
   "metadata": {},
   "outputs": [],
   "source": []
  }
 ],
 "metadata": {
  "kernelspec": {
   "display_name": "Python 3",
   "language": "python",
   "name": "python3"
  },
  "language_info": {
   "codemirror_mode": {
    "name": "ipython",
    "version": 3
   },
   "file_extension": ".py",
   "mimetype": "text/x-python",
   "name": "python",
   "nbconvert_exporter": "python",
   "pygments_lexer": "ipython3",
   "version": "3.6.8"
  }
 },
 "nbformat": 4,
 "nbformat_minor": 2
}
