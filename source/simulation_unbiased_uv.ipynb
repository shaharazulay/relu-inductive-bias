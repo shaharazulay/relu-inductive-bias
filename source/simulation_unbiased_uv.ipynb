{
 "cells": [
  {
   "cell_type": "code",
   "execution_count": 1,
   "metadata": {},
   "outputs": [
    {
     "name": "stdout",
     "output_type": "stream",
     "text": [
      "Populating the interactive namespace from numpy and matplotlib\n"
     ]
    }
   ],
   "source": [
    "%pylab inline"
   ]
  },
  {
   "cell_type": "code",
   "execution_count": 2,
   "metadata": {},
   "outputs": [],
   "source": [
    "import multiprocessing as mp\n",
    "import numpy as np\n",
    "from numpy.random import multivariate_normal\n",
    "import pandas as pd\n",
    "from tqdm import tqdm\n",
    "from datetime import datetime\n",
    "from operator import xor"
   ]
  },
  {
   "cell_type": "code",
   "execution_count": 3,
   "metadata": {},
   "outputs": [],
   "source": [
    "from classifier import *\n",
    "from ntk import *\n",
    "from Q_minimization import *\n",
    "from train import *"
   ]
  },
  {
   "cell_type": "markdown",
   "metadata": {},
   "source": [
    "### Define Dimensions"
   ]
  },
  {
   "cell_type": "code",
   "execution_count": 130,
   "metadata": {},
   "outputs": [],
   "source": [
    "d = 1000\n",
    "N = 100"
   ]
  },
  {
   "cell_type": "markdown",
   "metadata": {},
   "source": [
    "### Define Dataset (Woodworth et al.)"
   ]
  },
  {
   "cell_type": "code",
   "execution_count": 302,
   "metadata": {},
   "outputs": [],
   "source": [
    "np.random.seed(1993)\n",
    "\n",
    "learning_rate = 0.001\n",
    "num_epochs = int(1e7)\n",
    "tol = 1e-4\n",
    "\n",
    "# data\n",
    "s = 5\n",
    "noise_var = 0.01\n",
    "\n",
    "X_train = multivariate_normal(mean=np.zeros(d), cov=np.eye(d), size=N)\n",
    "X_test = multivariate_normal(mean=np.zeros(d), cov=np.eye(d), size=2000)\n",
    "w_star = np.zeros(d)\n",
    "support = np.random.choice(np.arange(d), s, replace=False)\n",
    "w_star[support] = 1/np.sqrt(s)\n",
    "y_train = np.dot(X_train, w_star) + np.sqrt(noise_var) * np.random.randn(N)\n",
    "y_test = np.dot(X_test, w_star)\n",
    "\n",
    "# reshape \n",
    "X_train = X_train.transpose()\n",
    "X_test = X_test.transpose()\n",
    "y_train = y_train.reshape(1, -1)\n",
    "y_test = y_test.reshape(1, -1)"
   ]
  },
  {
   "cell_type": "code",
   "execution_count": 303,
   "metadata": {},
   "outputs": [
    {
     "data": {
      "text/plain": [
       "((1, 100), (1000, 100))"
      ]
     },
     "execution_count": 303,
     "metadata": {},
     "output_type": "execute_result"
    }
   ],
   "source": [
    "y_train.shape, X_train.shape"
   ]
  },
  {
   "cell_type": "code",
   "execution_count": 304,
   "metadata": {},
   "outputs": [
    {
     "data": {
      "text/plain": [
       "array([[ 0.97442131, -0.03443851,  0.11475944, -0.59585897, -0.58550922,\n",
       "         0.52219816,  0.86189767,  1.17750498, -0.29624903, -1.16301883,\n",
       "         1.04918621,  0.63755006, -0.21089975,  0.81986804,  0.12755566,\n",
       "        -0.47487567,  1.07080965,  0.79171538, -0.88066661,  0.37329762,\n",
       "         3.38183174,  1.24175949, -0.81216761, -0.24203292, -0.07114005,\n",
       "         1.32371522,  0.16357318, -0.87121805, -1.2527088 , -0.75484837,\n",
       "         0.5083363 , -1.68221124,  2.2794866 ,  0.08899416, -0.14566207,\n",
       "         0.92715471,  1.21095997, -0.18609248,  1.07015944, -0.34101408,\n",
       "         2.44594421,  0.69776946,  1.88886633,  1.20955053,  1.46324472,\n",
       "        -1.16337416, -0.13139414, -1.13760487,  0.44678667, -1.35158972,\n",
       "        -0.90937088, -0.67424433, -1.51200678,  0.15511929,  0.93615925,\n",
       "        -1.41573205, -0.0073047 , -0.01618425, -0.22513265,  1.32681088,\n",
       "        -2.51511537, -0.69150301, -0.65166486, -1.49949885,  2.05780945,\n",
       "         0.26063029, -0.08180786, -0.53470401,  0.42630997, -0.04224805,\n",
       "        -0.98506473, -1.459264  ,  0.17769244,  1.13563694, -0.35529195,\n",
       "         0.6180511 ,  1.92440392,  0.45235607, -1.01646545,  0.28299424,\n",
       "         0.7975092 ,  0.67556267, -0.24887141, -0.65705761,  0.80556064,\n",
       "         1.07213025,  0.6805237 ,  0.10195396,  0.09698635, -0.42493156,\n",
       "         0.1654725 ,  0.73100596,  0.59571875, -1.68177654, -1.50111025,\n",
       "         0.06241579, -0.7476314 , -1.82070325,  0.50033468, -0.11132782]])"
      ]
     },
     "execution_count": 304,
     "metadata": {},
     "output_type": "execute_result"
    }
   ],
   "source": [
    "y_train[:10]"
   ]
  },
  {
   "cell_type": "markdown",
   "metadata": {},
   "source": [
    "### Empirical Gradient Flow"
   ]
  },
  {
   "cell_type": "code",
   "execution_count": 228,
   "metadata": {},
   "outputs": [
    {
     "data": {
      "text/plain": [
       "(array([[0.01],\n",
       "        [0.01],\n",
       "        [0.01],\n",
       "        [0.01],\n",
       "        [0.01]]), array([[0.01],\n",
       "        [0.01],\n",
       "        [0.01],\n",
       "        [0.01],\n",
       "        [0.01]]), array([[0.01],\n",
       "        [0.01],\n",
       "        [0.01],\n",
       "        [0.01],\n",
       "        [0.01]]), array([[0.01],\n",
       "        [0.01],\n",
       "        [0.01],\n",
       "        [0.01],\n",
       "        [0.01]]))"
      ]
     },
     "execution_count": 228,
     "metadata": {},
     "output_type": "execute_result"
    }
   ],
   "source": [
    "u_p_0, v_p_0, u_n_0, v_n_0 = symmetric_init(alpha=0.0001, s=0, d=d)\n",
    "u_p_0[:5], v_p_0[:5], u_n_0[:5], v_n_0[:5]"
   ]
  },
  {
   "cell_type": "code",
   "execution_count": 229,
   "metadata": {},
   "outputs": [
    {
     "name": "stderr",
     "output_type": "stream",
     "text": [
      "  2%|▏         | 154999/10000000 [00:07<07:33, 21688.58it/s]\n"
     ]
    },
    {
     "name": "stdout",
     "output_type": "stream",
     "text": [
      "early stop at epoch 155000...\n"
     ]
    }
   ],
   "source": [
    "results = train(\n",
    "    u_p_0=u_p_0,\n",
    "    v_p_0=v_p_0,\n",
    "    u_n_0=u_n_0,\n",
    "    v_n_0=v_n_0,\n",
    "    x=X_train,\n",
    "    y=y_train,\n",
    "    step_size=1e-3,\n",
    "    n_epochs=int(1e7),\n",
    "    eval_freq=1000,\n",
    "    early_stop=1e-4)"
   ]
  },
  {
   "cell_type": "code",
   "execution_count": 230,
   "metadata": {},
   "outputs": [
    {
     "data": {
      "image/png": "[encoded data removed]",
      "text/plain": [
       "<Figure size 432x288 with 1 Axes>"
      ]
     },
     "metadata": {
      "needs_background": "light"
     },
     "output_type": "display_data"
    }
   ],
   "source": [
    "plot(results['training_loss'])\n",
    "yscale('log')"
   ]
  },
  {
   "cell_type": "code",
   "execution_count": 231,
   "metadata": {},
   "outputs": [
    {
     "data": {
      "text/plain": [
       "[<matplotlib.lines.Line2D at 0x135a4a978>]"
      ]
     },
     "execution_count": 231,
     "metadata": {},
     "output_type": "execute_result"
    },
    {
     "data": {
      "image/png": "[encoded data removed]",
      "text/plain": [
       "<Figure size 432x288 with 1 Axes>"
      ]
     },
     "metadata": {
      "needs_background": "light"
     },
     "output_type": "display_data"
    }
   ],
   "source": [
    "plot([u_p[0] for u_p in results['u_p']])"
   ]
  },
  {
   "cell_type": "code",
   "execution_count": 232,
   "metadata": {},
   "outputs": [
    {
     "data": {
      "text/plain": [
       "9.910043609911692e-05"
      ]
     },
     "execution_count": 232,
     "metadata": {},
     "output_type": "execute_result"
    }
   ],
   "source": [
    "results['training_loss'][-1]"
   ]
  },
  {
   "cell_type": "markdown",
   "metadata": {},
   "source": [
    "### Estimate Q Minimization"
   ]
  },
  {
   "cell_type": "code",
   "execution_count": 233,
   "metadata": {},
   "outputs": [],
   "source": [
    "w_GD = np.multiply(results['u_p'][-1], results['v_p'][-1]) - np.multiply(results['u_n'][-1], results['v_n'][-1])"
   ]
  },
  {
   "cell_type": "code",
   "execution_count": 112,
   "metadata": {},
   "outputs": [],
   "source": [
    "w_opt_Q = solver(X_train, y_train, u_p_0, v_p_0, u_n_0, v_n_0, obj='Q', optim_tol=1e-4)"
   ]
  },
  {
   "cell_type": "code",
   "execution_count": 268,
   "metadata": {},
   "outputs": [],
   "source": [
    "w_opt_L1 = solver(X_train, y_train, u_p_0, v_p_0, u_n_0, v_n_0, obj='L1', optim_tol=1e-2, x_0=w_GD)"
   ]
  },
  {
   "cell_type": "code",
   "execution_count": null,
   "metadata": {},
   "outputs": [],
   "source": [
    "w_0 = np.multiply(u_p_0, v_p_0) - np.multiply(u_n_0, v_n_0)\n",
    "w_GD = np.multiply(results['u_p'][-1], results['v_p'][-1]) - np.multiply(results['u_n'][-1], results['v_n'][-1])\n",
    "w_0[:5], w_GD[:5]"
   ]
  },
  {
   "cell_type": "code",
   "execution_count": 116,
   "metadata": {},
   "outputs": [
    {
     "name": "stdout",
     "output_type": "stream",
     "text": [
      "[ 6.57596011e-01 -4.04695116e-05  7.26846121e-04 -3.50335469e-04\n",
      " -4.22639641e-01] [ 0.58874086  0.14348493  0.04859853  0.11472693 -0.27461429] [[ 0.58377247]\n",
      " [ 0.14959267]\n",
      " [ 0.04889034]\n",
      " [ 0.11514435]\n",
      " [-0.27347578]]\n"
     ]
    }
   ],
   "source": [
    "print(\n",
    "    w_opt_L1[:5],\n",
    "    w_opt_Q[:5],\n",
    "    w_GD[:5]\n",
    ")"
   ]
  },
  {
   "cell_type": "code",
   "execution_count": 117,
   "metadata": {},
   "outputs": [
    {
     "name": "stdout",
     "output_type": "stream",
     "text": [
      "0.2992659134431575 0.011027338852723553\n"
     ]
    }
   ],
   "source": [
    "print(\n",
    "    np.linalg.norm(w_opt_L1.reshape(-1,) - w_GD.reshape(-1,), ord=2),\n",
    "    np.linalg.norm(w_opt_Q.reshape(-1,) - w_GD.reshape(-1,), ord=2)\n",
    ")"
   ]
  },
  {
   "cell_type": "code",
   "execution_count": 104,
   "metadata": {},
   "outputs": [
    {
     "data": {
      "text/plain": [
       "1.782436700228738"
      ]
     },
     "execution_count": 104,
     "metadata": {},
     "output_type": "execute_result"
    }
   ],
   "source": [
    "x0 = w_GD.reshape(-1,)\n",
    "f = lambda v: np.linalg.norm(v, ord=1)\n",
    "f(x0)"
   ]
  },
  {
   "cell_type": "code",
   "execution_count": 105,
   "metadata": {},
   "outputs": [
    {
     "name": "stdout",
     "output_type": "stream",
     "text": [
      "[0.] [0.56963215] [0.58831237] [0.6591017]\n"
     ]
    }
   ],
   "source": [
    "print(\n",
    "    q_func(w_0.reshape(-1, 1), u_p_0, v_p_0, u_n_0, v_n_0),\n",
    "    q_func(w_GD.reshape(-1, 1), u_p_0, v_p_0, u_n_0, v_n_0),\n",
    "    q_func(w_opt_Q.reshape(-1, 1), u_p_0, v_p_0, u_n_0, v_n_0),\n",
    "    q_func(w_opt_L1.reshape(-1, 1), u_p_0, v_p_0, u_n_0, v_n_0)\n",
    ")"
   ]
  },
  {
   "cell_type": "code",
   "execution_count": 202,
   "metadata": {},
   "outputs": [
    {
     "data": {
      "text/plain": [
       "array([[ 0.96757834, -0.03083273,  0.11349448, -0.59338398, -0.58554856,\n",
       "         0.52154415,  0.86449588,  1.17623348, -0.2968802 , -1.16320501,\n",
       "         1.0478957 ,  0.63493182, -0.21056437,  0.82047699,  0.13110498,\n",
       "        -0.47493383,  1.06991441,  0.79075115, -0.8741207 ,  0.37268224,\n",
       "         3.37985349,  1.24144796, -0.81298007, -0.23757999, -0.06665145,\n",
       "         1.32221803,  0.1654678 , -0.86815804, -1.25028323, -0.75321295,\n",
       "         0.5019183 , -1.68270914,  2.28073405,  0.08996969, -0.14102229,\n",
       "         0.92553403,  1.20778401, -0.18112321,  1.06878898, -0.33841365,\n",
       "         2.43891267,  0.69457819,  1.88624063,  1.20820684,  1.46211608,\n",
       "        -1.16192417, -0.13007331, -1.13626675,  0.44629222, -1.34841887,\n",
       "        -0.90860346, -0.67222679, -1.51096467,  0.14977687,  0.93170086,\n",
       "        -1.4144078 , -0.0108007 , -0.01650372, -0.22811212,  1.32611594,\n",
       "        -2.51111003, -0.69218253, -0.65419079, -1.495913  ,  2.05663814,\n",
       "         0.26066886, -0.07932244, -0.53520669,  0.43035889, -0.046207  ,\n",
       "        -0.98077063, -1.4566835 ,  0.1789184 ,  1.13453681, -0.36087176,\n",
       "         0.619148  ,  1.92076564,  0.45387114, -1.01865765,  0.28514426,\n",
       "         0.79476906,  0.67438975, -0.25224012, -0.65798455,  0.81136593,\n",
       "         1.07099799,  0.67965142,  0.10061565,  0.09651441, -0.42534703,\n",
       "         0.16748222,  0.73172492,  0.60245327, -1.67987276, -1.49678444,\n",
       "         0.06531293, -0.74448437, -1.81603695,  0.49900932, -0.10825065]])"
      ]
     },
     "execution_count": 202,
     "metadata": {},
     "output_type": "execute_result"
    }
   ],
   "source": [
    "y_pred_GD = np.matmul(w_GD.transpose(), X_train)\n",
    "y_pred_GD    "
   ]
  },
  {
   "cell_type": "code",
   "execution_count": 107,
   "metadata": {},
   "outputs": [
    {
     "data": {
      "text/plain": [
       "array([0.72789603, 0.1455399 , 1.9854366 ])"
      ]
     },
     "execution_count": 107,
     "metadata": {},
     "output_type": "execute_result"
    }
   ],
   "source": [
    "y_pred_Q = np.matmul(w_opt_Q.transpose(), X_train)\n",
    "y_pred_Q"
   ]
  },
  {
   "cell_type": "code",
   "execution_count": 108,
   "metadata": {},
   "outputs": [
    {
     "data": {
      "text/plain": [
       "array([0.72789603, 0.1455399 , 1.9854366 ])"
      ]
     },
     "execution_count": 108,
     "metadata": {},
     "output_type": "execute_result"
    }
   ],
   "source": [
    "y_pred_L1 = np.matmul(w_opt_L1.transpose(), X_train)\n",
    "y_pred_L1"
   ]
  },
  {
   "cell_type": "code",
   "execution_count": 201,
   "metadata": {},
   "outputs": [
    {
     "data": {
      "text/plain": [
       "array([[ 0.97442131, -0.03443851,  0.11475944, -0.59585897, -0.58550922,\n",
       "         0.52219816,  0.86189767,  1.17750498, -0.29624903, -1.16301883,\n",
       "         1.04918621,  0.63755006, -0.21089975,  0.81986804,  0.12755566,\n",
       "        -0.47487567,  1.07080965,  0.79171538, -0.88066661,  0.37329762,\n",
       "         3.38183174,  1.24175949, -0.81216761, -0.24203292, -0.07114005,\n",
       "         1.32371522,  0.16357318, -0.87121805, -1.2527088 , -0.75484837,\n",
       "         0.5083363 , -1.68221124,  2.2794866 ,  0.08899416, -0.14566207,\n",
       "         0.92715471,  1.21095997, -0.18609248,  1.07015944, -0.34101408,\n",
       "         2.44594421,  0.69776946,  1.88886633,  1.20955053,  1.46324472,\n",
       "        -1.16337416, -0.13139414, -1.13760487,  0.44678667, -1.35158972,\n",
       "        -0.90937088, -0.67424433, -1.51200678,  0.15511929,  0.93615925,\n",
       "        -1.41573205, -0.0073047 , -0.01618425, -0.22513265,  1.32681088,\n",
       "        -2.51511537, -0.69150301, -0.65166486, -1.49949885,  2.05780945,\n",
       "         0.26063029, -0.08180786, -0.53470401,  0.42630997, -0.04224805,\n",
       "        -0.98506473, -1.459264  ,  0.17769244,  1.13563694, -0.35529195,\n",
       "         0.6180511 ,  1.92440392,  0.45235607, -1.01646545,  0.28299424,\n",
       "         0.7975092 ,  0.67556267, -0.24887141, -0.65705761,  0.80556064,\n",
       "         1.07213025,  0.6805237 ,  0.10195396,  0.09698635, -0.42493156,\n",
       "         0.1654725 ,  0.73100596,  0.59571875, -1.68177654, -1.50111025,\n",
       "         0.06241579, -0.7476314 , -1.82070325,  0.50033468, -0.11132782]])"
      ]
     },
     "execution_count": 201,
     "metadata": {},
     "output_type": "execute_result"
    }
   ],
   "source": [
    "y_train"
   ]
  },
  {
   "cell_type": "markdown",
   "metadata": {},
   "source": [
    "### Generate Plots"
   ]
  },
  {
   "cell_type": "code",
   "execution_count": 329,
   "metadata": {},
   "outputs": [
    {
     "data": {
      "text/plain": [
       "array([1.00000000e-05, 1.70442913e-05, 2.90507865e-05, 4.95150067e-05,\n",
       "       8.43948197e-05, 1.43844989e-04, 2.45173589e-04, 4.17881006e-04,\n",
       "       7.12248558e-04, 1.21397719e-03, 2.06913808e-03, 3.52669921e-03,\n",
       "       6.01100886e-03, 1.02453386e-02, 1.74624535e-02, 2.97635144e-02,\n",
       "       5.07298009e-02, 8.64653503e-02, 1.47374062e-01, 2.51188643e-01])"
      ]
     },
     "execution_count": 329,
     "metadata": {},
     "output_type": "execute_result"
    }
   ],
   "source": [
    "alpha_range = np.logspace(-5, -0.6, 20)\n",
    "alpha_range"
   ]
  },
  {
   "cell_type": "code",
   "execution_count": 330,
   "metadata": {
    "scrolled": true
   },
   "outputs": [
    {
     "data": {
      "text/plain": [
       "[0, 0.5, 0.7, 0.9, 0.99]"
      ]
     },
     "execution_count": 330,
     "metadata": {},
     "output_type": "execute_result"
    }
   ],
   "source": [
    "s_range = [0, 0.5, 0.7, 0.9, 0.99]\n",
    "s_range"
   ]
  },
  {
   "cell_type": "code",
   "execution_count": 331,
   "metadata": {
    "scrolled": true
   },
   "outputs": [
    {
     "name": "stderr",
     "output_type": "stream",
     "text": [
      "  3%|▎         | 296999/10000000 [00:16<09:06, 17753.40it/s]\n",
      "  0%|          | 1645/10000000 [00:00<10:07, 16448.02it/s]"
     ]
    },
    {
     "name": "stdout",
     "output_type": "stream",
     "text": [
      "early stop at epoch 297000...\n"
     ]
    },
    {
     "name": "stderr",
     "output_type": "stream",
     "text": [
      "  3%|▎         | 262999/10000000 [00:16<10:03, 16130.10it/s]\n",
      "  0%|          | 3450/10000000 [00:00<09:47, 17017.24it/s]"
     ]
    },
    {
     "name": "stdout",
     "output_type": "stream",
     "text": [
      "early stop at epoch 263000...\n"
     ]
    },
    {
     "name": "stderr",
     "output_type": "stream",
     "text": [
      "  2%|▏         | 229999/10000000 [00:14<10:09, 16023.67it/s]\n",
      "  0%|          | 3240/10000000 [00:00<10:21, 16089.39it/s]"
     ]
    },
    {
     "name": "stdout",
     "output_type": "stream",
     "text": [
      "early stop at epoch 230000...\n"
     ]
    },
    {
     "name": "stderr",
     "output_type": "stream",
     "text": [
      "  2%|▏         | 197999/10000000 [00:12<10:40, 15310.08it/s]\n",
      "  0%|          | 1347/10000000 [00:00<12:22, 13461.80it/s]"
     ]
    },
    {
     "name": "stdout",
     "output_type": "stream",
     "text": [
      "early stop at epoch 198000...\n"
     ]
    },
    {
     "name": "stderr",
     "output_type": "stream",
     "text": [
      "  2%|▏         | 164999/10000000 [00:11<11:26, 14336.14it/s]\n",
      "  0%|          | 1537/10000000 [00:00<10:50, 15368.15it/s]"
     ]
    },
    {
     "name": "stdout",
     "output_type": "stream",
     "text": [
      "early stop at epoch 165000...\n"
     ]
    },
    {
     "name": "stderr",
     "output_type": "stream",
     "text": [
      "  1%|▏         | 133999/10000000 [00:08<10:43, 15328.73it/s]\n",
      "  0%|          | 1607/10000000 [00:00<10:22, 16068.90it/s]"
     ]
    },
    {
     "name": "stdout",
     "output_type": "stream",
     "text": [
      "early stop at epoch 134000...\n"
     ]
    },
    {
     "name": "stderr",
     "output_type": "stream",
     "text": [
      "  1%|          | 102999/10000000 [00:06<10:41, 15418.45it/s]\n",
      "  0%|          | 1750/10000000 [00:00<09:31, 17491.63it/s]"
     ]
    },
    {
     "name": "stdout",
     "output_type": "stream",
     "text": [
      "early stop at epoch 103000...\n"
     ]
    },
    {
     "name": "stderr",
     "output_type": "stream",
     "text": [
      "  1%|          | 76999/10000000 [00:04<10:20, 15994.12it/s]\n",
      "  0%|          | 1475/10000000 [00:00<11:18, 14744.67it/s]"
     ]
    },
    {
     "name": "stdout",
     "output_type": "stream",
     "text": [
      "early stop at epoch 77000...\n"
     ]
    },
    {
     "name": "stderr",
     "output_type": "stream",
     "text": [
      "  1%|          | 56999/10000000 [00:03<10:46, 15372.28it/s]\n",
      "  0%|          | 1512/10000000 [00:00<11:01, 15115.29it/s]"
     ]
    },
    {
     "name": "stdout",
     "output_type": "stream",
     "text": [
      "early stop at epoch 57000...\n"
     ]
    },
    {
     "name": "stderr",
     "output_type": "stream",
     "text": [
      "  0%|          | 42999/10000000 [00:02<11:13, 14787.04it/s]\n",
      "  0%|          | 1424/10000000 [00:00<11:42, 14232.01it/s]"
     ]
    },
    {
     "name": "stdout",
     "output_type": "stream",
     "text": [
      "early stop at epoch 43000...\n"
     ]
    },
    {
     "name": "stderr",
     "output_type": "stream",
     "text": [
      "  0%|          | 32999/10000000 [00:02<11:20, 14636.15it/s]\n",
      "  0%|          | 2860/10000000 [00:00<11:37, 14329.24it/s]"
     ]
    },
    {
     "name": "stdout",
     "output_type": "stream",
     "text": [
      "early stop at epoch 33000...\n"
     ]
    },
    {
     "name": "stderr",
     "output_type": "stream",
     "text": [
      "  0%|          | 24999/10000000 [00:01<11:04, 15021.86it/s]\n",
      "  0%|          | 3081/10000000 [00:00<10:38, 15656.01it/s]"
     ]
    },
    {
     "name": "stdout",
     "output_type": "stream",
     "text": [
      "early stop at epoch 25000...\n"
     ]
    },
    {
     "name": "stderr",
     "output_type": "stream",
     "text": [
      "  0%|          | 17999/10000000 [00:01<10:36, 15673.63it/s]\n",
      "  0%|          | 1561/10000000 [00:00<10:41, 15591.91it/s]"
     ]
    },
    {
     "name": "stdout",
     "output_type": "stream",
     "text": [
      "early stop at epoch 18000...\n"
     ]
    },
    {
     "name": "stderr",
     "output_type": "stream",
     "text": [
      "  0%|          | 12999/10000000 [00:00<10:30, 15827.73it/s]\n",
      "  0%|          | 1589/10000000 [00:00<10:29, 15889.37it/s]"
     ]
    },
    {
     "name": "stdout",
     "output_type": "stream",
     "text": [
      "early stop at epoch 13000...\n"
     ]
    },
    {
     "name": "stderr",
     "output_type": "stream",
     "text": [
      "  0%|          | 7999/10000000 [00:00<10:24, 16001.30it/s]\n",
      "  0%|          | 1656/10000000 [00:00<10:03, 16557.37it/s]"
     ]
    },
    {
     "name": "stdout",
     "output_type": "stream",
     "text": [
      "early stop at epoch 8000...\n"
     ]
    },
    {
     "name": "stderr",
     "output_type": "stream",
     "text": [
      "  0%|          | 4999/10000000 [00:00<10:12, 16319.70it/s]\n",
      "  0%|          | 2999/10000000 [00:00<10:22, 16050.16it/s]\n",
      "  0%|          | 0/10000000 [00:00<?, ?it/s]"
     ]
    },
    {
     "name": "stdout",
     "output_type": "stream",
     "text": [
      "early stop at epoch 5000...\n",
      "early stop at epoch 3000...\n"
     ]
    },
    {
     "name": "stderr",
     "output_type": "stream",
     "text": [
      "  0%|          | 1999/10000000 [00:00<10:59, 15170.25it/s]\n",
      "  0%|          | 1999/10000000 [00:00<10:23, 16047.86it/s]\n",
      "  0%|          | 999/10000000 [00:00<11:06, 15010.08it/s]\n",
      "  0%|          | 0/10000000 [00:00<?, ?it/s]"
     ]
    },
    {
     "name": "stdout",
     "output_type": "stream",
     "text": [
      "early stop at epoch 2000...\n",
      "early stop at epoch 2000...\n",
      "early stop at epoch 1000...\n"
     ]
    },
    {
     "name": "stderr",
     "output_type": "stream",
     "text": [
      "  3%|▎         | 264999/10000000 [00:16<10:13, 15872.68it/s]\n",
      "  0%|          | 1576/10000000 [00:00<10:34, 15758.89it/s]"
     ]
    },
    {
     "name": "stdout",
     "output_type": "stream",
     "text": [
      "early stop at epoch 265000...\n"
     ]
    },
    {
     "name": "stderr",
     "output_type": "stream",
     "text": [
      "  2%|▏         | 231999/10000000 [00:13<09:34, 16998.81it/s]\n",
      "  0%|          | 1502/10000000 [00:00<11:06, 15009.53it/s]"
     ]
    },
    {
     "name": "stdout",
     "output_type": "stream",
     "text": [
      "early stop at epoch 232000...\n"
     ]
    },
    {
     "name": "stderr",
     "output_type": "stream",
     "text": [
      "  2%|▏         | 198999/10000000 [00:12<10:23, 15723.64it/s]\n",
      "  0%|          | 1568/10000000 [00:00<10:37, 15678.26it/s]"
     ]
    },
    {
     "name": "stdout",
     "output_type": "stream",
     "text": [
      "early stop at epoch 199000...\n"
     ]
    },
    {
     "name": "stderr",
     "output_type": "stream",
     "text": [
      "  2%|▏         | 166999/10000000 [00:10<10:34, 15490.43it/s]\n",
      "  0%|          | 1560/10000000 [00:00<10:40, 15598.60it/s]"
     ]
    },
    {
     "name": "stdout",
     "output_type": "stream",
     "text": [
      "early stop at epoch 167000...\n"
     ]
    },
    {
     "name": "stderr",
     "output_type": "stream",
     "text": [
      "  1%|▏         | 134999/10000000 [00:07<09:42, 16940.12it/s]\n",
      "  0%|          | 1570/10000000 [00:00<10:36, 15699.87it/s]"
     ]
    },
    {
     "name": "stdout",
     "output_type": "stream",
     "text": [
      "early stop at epoch 135000...\n"
     ]
    },
    {
     "name": "stderr",
     "output_type": "stream",
     "text": [
      "  1%|          | 104999/10000000 [00:06<09:45, 16889.12it/s]\n",
      "  0%|          | 1788/10000000 [00:00<09:19, 17871.92it/s]"
     ]
    },
    {
     "name": "stdout",
     "output_type": "stream",
     "text": [
      "early stop at epoch 105000...\n"
     ]
    },
    {
     "name": "stderr",
     "output_type": "stream",
     "text": [
      "  1%|          | 77999/10000000 [00:04<09:41, 17063.72it/s]\n",
      "  0%|          | 1782/10000000 [00:00<09:21, 17818.23it/s]"
     ]
    },
    {
     "name": "stdout",
     "output_type": "stream",
     "text": [
      "early stop at epoch 78000...\n"
     ]
    },
    {
     "name": "stderr",
     "output_type": "stream",
     "text": [
      "  1%|          | 57999/10000000 [00:03<09:27, 17513.35it/s]\n",
      "  0%|          | 3439/10000000 [00:00<09:39, 17263.01it/s]"
     ]
    },
    {
     "name": "stdout",
     "output_type": "stream",
     "text": [
      "early stop at epoch 58000...\n"
     ]
    },
    {
     "name": "stderr",
     "output_type": "stream",
     "text": [
      "  0%|          | 42999/10000000 [00:02<10:18, 16088.36it/s]\n",
      "  0%|          | 1547/10000000 [00:00<10:46, 15468.32it/s]"
     ]
    },
    {
     "name": "stdout",
     "output_type": "stream",
     "text": [
      "early stop at epoch 43000...\n"
     ]
    },
    {
     "name": "stderr",
     "output_type": "stream",
     "text": [
      "  0%|          | 32999/10000000 [00:01<09:43, 17067.45it/s]\n",
      "  0%|          | 3590/10000000 [00:00<09:17, 17924.58it/s]"
     ]
    },
    {
     "name": "stdout",
     "output_type": "stream",
     "text": [
      "early stop at epoch 33000...\n"
     ]
    },
    {
     "name": "stderr",
     "output_type": "stream",
     "text": [
      "  0%|          | 24999/10000000 [00:01<09:17, 17886.04it/s]\n",
      "  0%|          | 3402/10000000 [00:00<09:44, 17092.84it/s]"
     ]
    },
    {
     "name": "stdout",
     "output_type": "stream",
     "text": [
      "early stop at epoch 25000...\n"
     ]
    },
    {
     "name": "stderr",
     "output_type": "stream",
     "text": [
      "  0%|          | 17999/10000000 [00:01<09:28, 17551.76it/s]\n",
      "  0%|          | 1658/10000000 [00:00<10:03, 16577.84it/s]"
     ]
    },
    {
     "name": "stdout",
     "output_type": "stream",
     "text": [
      "early stop at epoch 18000...\n"
     ]
    },
    {
     "name": "stderr",
     "output_type": "stream",
     "text": [
      "  0%|          | 12999/10000000 [00:00<09:13, 18046.48it/s]\n",
      "  0%|          | 3430/10000000 [00:00<09:58, 16703.85it/s]"
     ]
    },
    {
     "name": "stdout",
     "output_type": "stream",
     "text": [
      "early stop at epoch 13000...\n"
     ]
    },
    {
     "name": "stderr",
     "output_type": "stream",
     "text": [
      "  0%|          | 8999/10000000 [00:00<09:29, 17548.58it/s]\n",
      "  0%|          | 1749/10000000 [00:00<09:31, 17484.10it/s]"
     ]
    },
    {
     "name": "stdout",
     "output_type": "stream",
     "text": [
      "early stop at epoch 9000...\n"
     ]
    },
    {
     "name": "stderr",
     "output_type": "stream",
     "text": [
      "  0%|          | 4999/10000000 [00:00<09:28, 17569.95it/s]\n",
      "  0%|          | 2999/10000000 [00:00<10:09, 16392.54it/s]\n",
      "  0%|          | 0/10000000 [00:00<?, ?it/s]"
     ]
    },
    {
     "name": "stdout",
     "output_type": "stream",
     "text": [
      "early stop at epoch 5000...\n",
      "early stop at epoch 3000...\n"
     ]
    },
    {
     "name": "stderr",
     "output_type": "stream",
     "text": [
      "  0%|          | 1999/10000000 [00:00<10:26, 15947.10it/s]\n",
      "  0%|          | 1999/10000000 [00:00<10:04, 16546.12it/s]\n",
      "  0%|          | 999/10000000 [00:00<09:55, 16783.40it/s]\n",
      "  0%|          | 0/10000000 [00:00<?, ?it/s]"
     ]
    },
    {
     "name": "stdout",
     "output_type": "stream",
     "text": [
      "early stop at epoch 2000...\n",
      "early stop at epoch 2000...\n",
      "early stop at epoch 1000...\n"
     ]
    },
    {
     "name": "stderr",
     "output_type": "stream",
     "text": [
      "  0%|          | 999/10000000 [00:00<14:53, 11192.88it/s]\n",
      "  0%|          | 1716/10000000 [00:00<09:42, 17156.25it/s]"
     ]
    },
    {
     "name": "stdout",
     "output_type": "stream",
     "text": [
      "early stop at epoch 1000...\n"
     ]
    },
    {
     "name": "stderr",
     "output_type": "stream",
     "text": [
      "  2%|▏         | 229999/10000000 [00:13<09:28, 17198.89it/s]\n",
      "  0%|          | 1664/10000000 [00:00<10:01, 16633.19it/s]"
     ]
    },
    {
     "name": "stdout",
     "output_type": "stream",
     "text": [
      "early stop at epoch 230000...\n"
     ]
    },
    {
     "name": "stderr",
     "output_type": "stream",
     "text": [
      "  2%|▏         | 196999/10000000 [00:11<09:37, 16987.51it/s]\n",
      "  0%|          | 1709/10000000 [00:00<09:45, 17085.90it/s]"
     ]
    },
    {
     "name": "stdout",
     "output_type": "stream",
     "text": [
      "early stop at epoch 197000...\n"
     ]
    },
    {
     "name": "stderr",
     "output_type": "stream",
     "text": [
      "  2%|▏         | 164999/10000000 [00:09<09:52, 16595.65it/s]\n",
      "  0%|          | 1488/10000000 [00:00<11:12, 14872.57it/s]"
     ]
    },
    {
     "name": "stdout",
     "output_type": "stream",
     "text": [
      "early stop at epoch 165000...\n"
     ]
    },
    {
     "name": "stderr",
     "output_type": "stream",
     "text": [
      "  1%|▏         | 132999/10000000 [00:08<09:53, 16612.53it/s]\n",
      "  0%|          | 3562/10000000 [00:00<09:25, 17675.72it/s]"
     ]
    },
    {
     "name": "stdout",
     "output_type": "stream",
     "text": [
      "early stop at epoch 133000...\n"
     ]
    },
    {
     "name": "stderr",
     "output_type": "stream",
     "text": [
      "  1%|          | 102999/10000000 [00:05<09:24, 17527.41it/s]\n",
      "  0%|          | 1592/10000000 [00:00<10:28, 15913.00it/s]"
     ]
    },
    {
     "name": "stdout",
     "output_type": "stream",
     "text": [
      "early stop at epoch 103000...\n"
     ]
    },
    {
     "name": "stderr",
     "output_type": "stream",
     "text": [
      "  1%|          | 76999/10000000 [00:04<09:22, 17641.45it/s]\n",
      "  0%|          | 1707/10000000 [00:00<09:45, 17065.70it/s]"
     ]
    },
    {
     "name": "stdout",
     "output_type": "stream",
     "text": [
      "early stop at epoch 77000...\n"
     ]
    },
    {
     "name": "stderr",
     "output_type": "stream",
     "text": [
      "  1%|          | 56999/10000000 [00:03<09:32, 17369.22it/s]\n",
      "  0%|          | 3620/10000000 [00:00<09:15, 18005.39it/s]"
     ]
    },
    {
     "name": "stdout",
     "output_type": "stream",
     "text": [
      "early stop at epoch 57000...\n"
     ]
    },
    {
     "name": "stderr",
     "output_type": "stream",
     "text": [
      "  0%|          | 42999/10000000 [00:02<09:15, 17914.67it/s]\n",
      "  0%|          | 3519/10000000 [00:00<09:35, 17381.18it/s]"
     ]
    },
    {
     "name": "stdout",
     "output_type": "stream",
     "text": [
      "early stop at epoch 43000...\n"
     ]
    },
    {
     "name": "stderr",
     "output_type": "stream",
     "text": [
      "  0%|          | 31999/10000000 [00:01<09:23, 17705.06it/s]\n",
      "  0%|          | 1715/10000000 [00:00<09:43, 17145.40it/s]"
     ]
    },
    {
     "name": "stdout",
     "output_type": "stream",
     "text": [
      "early stop at epoch 32000...\n"
     ]
    },
    {
     "name": "stderr",
     "output_type": "stream",
     "text": [
      "  0%|          | 23999/10000000 [00:01<09:18, 17867.45it/s]\n",
      "  0%|          | 1728/10000000 [00:00<09:38, 17278.99it/s]"
     ]
    },
    {
     "name": "stdout",
     "output_type": "stream",
     "text": [
      "early stop at epoch 24000...\n"
     ]
    },
    {
     "name": "stderr",
     "output_type": "stream",
     "text": [
      "  0%|          | 17999/10000000 [00:01<09:26, 17605.45it/s]\n",
      "  0%|          | 1779/10000000 [00:00<09:22, 17783.83it/s]"
     ]
    },
    {
     "name": "stdout",
     "output_type": "stream",
     "text": [
      "early stop at epoch 18000...\n"
     ]
    },
    {
     "name": "stderr",
     "output_type": "stream",
     "text": [
      "  0%|          | 12999/10000000 [00:00<09:13, 18041.32it/s]\n",
      "  0%|          | 1705/10000000 [00:00<09:46, 17046.97it/s]"
     ]
    },
    {
     "name": "stdout",
     "output_type": "stream",
     "text": [
      "early stop at epoch 13000...\n"
     ]
    },
    {
     "name": "stderr",
     "output_type": "stream",
     "text": [
      "  0%|          | 7999/10000000 [00:00<09:48, 16987.28it/s]\n",
      "  0%|          | 1730/10000000 [00:00<09:38, 17294.78it/s]"
     ]
    },
    {
     "name": "stdout",
     "output_type": "stream",
     "text": [
      "early stop at epoch 8000...\n"
     ]
    },
    {
     "name": "stderr",
     "output_type": "stream",
     "text": [
      "  0%|          | 4999/10000000 [00:00<09:47, 17013.69it/s]\n",
      "  0%|          | 2999/10000000 [00:00<10:06, 16486.11it/s]\n",
      "  0%|          | 0/10000000 [00:00<?, ?it/s]"
     ]
    },
    {
     "name": "stdout",
     "output_type": "stream",
     "text": [
      "early stop at epoch 5000...\n",
      "early stop at epoch 3000...\n"
     ]
    },
    {
     "name": "stderr",
     "output_type": "stream",
     "text": [
      "  0%|          | 1999/10000000 [00:00<10:00, 16650.97it/s]\n",
      "  0%|          | 1999/10000000 [00:00<09:47, 17029.03it/s]\n",
      "  0%|          | 999/10000000 [00:00<10:31, 15832.77it/s]\n",
      "  0%|          | 0/10000000 [00:00<?, ?it/s]"
     ]
    },
    {
     "name": "stdout",
     "output_type": "stream",
     "text": [
      "early stop at epoch 2000...\n",
      "early stop at epoch 2000...\n",
      "early stop at epoch 1000...\n"
     ]
    },
    {
     "name": "stderr",
     "output_type": "stream",
     "text": [
      "  0%|          | 999/10000000 [00:00<10:39, 15638.24it/s]\n",
      "  0%|          | 999/10000000 [00:00<09:42, 17158.80it/s]\n",
      "  0%|          | 1737/10000000 [00:00<09:35, 17361.66it/s]"
     ]
    },
    {
     "name": "stdout",
     "output_type": "stream",
     "text": [
      "early stop at epoch 1000...\n",
      "early stop at epoch 1000...\n"
     ]
    },
    {
     "name": "stderr",
     "output_type": "stream",
     "text": [
      "  2%|▏         | 157999/10000000 [00:08<09:12, 17817.09it/s]\n",
      "  0%|          | 3513/10000000 [00:00<09:29, 17563.37it/s]"
     ]
    },
    {
     "name": "stdout",
     "output_type": "stream",
     "text": [
      "early stop at epoch 158000...\n"
     ]
    },
    {
     "name": "stderr",
     "output_type": "stream",
     "text": [
      "  1%|▏         | 126999/10000000 [00:06<09:04, 18145.27it/s]\n",
      "  0%|          | 1885/10000000 [00:00<08:50, 18846.96it/s]"
     ]
    },
    {
     "name": "stdout",
     "output_type": "stream",
     "text": [
      "early stop at epoch 127000...\n"
     ]
    },
    {
     "name": "stderr",
     "output_type": "stream",
     "text": [
      "  1%|          | 96999/10000000 [00:05<08:59, 18343.57it/s]\n",
      "  0%|          | 3609/10000000 [00:00<09:17, 17927.45it/s]"
     ]
    },
    {
     "name": "stdout",
     "output_type": "stream",
     "text": [
      "early stop at epoch 97000...\n"
     ]
    },
    {
     "name": "stderr",
     "output_type": "stream",
     "text": [
      "  1%|          | 71999/10000000 [00:04<09:14, 17890.72it/s]\n",
      "  0%|          | 3663/10000000 [00:00<09:08, 18226.90it/s]"
     ]
    },
    {
     "name": "stdout",
     "output_type": "stream",
     "text": [
      "early stop at epoch 72000...\n"
     ]
    },
    {
     "name": "stderr",
     "output_type": "stream",
     "text": [
      "  1%|          | 53999/10000000 [00:03<09:48, 16899.66it/s]\n",
      "  0%|          | 1865/10000000 [00:00<08:56, 18646.99it/s]"
     ]
    },
    {
     "name": "stdout",
     "output_type": "stream",
     "text": [
      "early stop at epoch 54000...\n"
     ]
    },
    {
     "name": "stderr",
     "output_type": "stream",
     "text": [
      "  0%|          | 39999/10000000 [00:02<09:13, 17986.42it/s]\n",
      "  0%|          | 1761/10000000 [00:00<09:28, 17600.99it/s]"
     ]
    },
    {
     "name": "stdout",
     "output_type": "stream",
     "text": [
      "early stop at epoch 40000...\n"
     ]
    },
    {
     "name": "stderr",
     "output_type": "stream",
     "text": [
      "  0%|          | 30999/10000000 [00:01<09:24, 17674.05it/s]\n",
      "  0%|          | 1477/10000000 [00:00<11:17, 14766.32it/s]"
     ]
    },
    {
     "name": "stdout",
     "output_type": "stream",
     "text": [
      "early stop at epoch 31000...\n"
     ]
    },
    {
     "name": "stderr",
     "output_type": "stream",
     "text": [
      "  0%|          | 22999/10000000 [00:01<10:40, 15581.66it/s]\n",
      "  0%|          | 1380/10000000 [00:00<12:04, 13795.61it/s]"
     ]
    },
    {
     "name": "stdout",
     "output_type": "stream",
     "text": [
      "early stop at epoch 23000...\n"
     ]
    },
    {
     "name": "stderr",
     "output_type": "stream",
     "text": [
      "  0%|          | 16999/10000000 [00:01<10:37, 15657.12it/s]\n",
      "  0%|          | 1589/10000000 [00:00<10:29, 15880.02it/s]"
     ]
    },
    {
     "name": "stdout",
     "output_type": "stream",
     "text": [
      "early stop at epoch 17000...\n"
     ]
    },
    {
     "name": "stderr",
     "output_type": "stream",
     "text": [
      "  0%|          | 11999/10000000 [00:00<11:44, 14185.09it/s]\n",
      "  0%|          | 1404/10000000 [00:00<11:52, 14037.03it/s]"
     ]
    },
    {
     "name": "stdout",
     "output_type": "stream",
     "text": [
      "early stop at epoch 12000...\n"
     ]
    },
    {
     "name": "stderr",
     "output_type": "stream",
     "text": [
      "  0%|          | 7999/10000000 [00:00<11:34, 14384.70it/s]\n",
      "  0%|          | 1570/10000000 [00:00<10:37, 15689.80it/s]"
     ]
    },
    {
     "name": "stdout",
     "output_type": "stream",
     "text": [
      "early stop at epoch 8000...\n"
     ]
    },
    {
     "name": "stderr",
     "output_type": "stream",
     "text": [
      "  0%|          | 4999/10000000 [00:00<10:49, 15377.43it/s]\n",
      "  0%|          | 1524/10000000 [00:00<10:56, 15238.92it/s]"
     ]
    },
    {
     "name": "stdout",
     "output_type": "stream",
     "text": [
      "early stop at epoch 5000...\n"
     ]
    },
    {
     "name": "stderr",
     "output_type": "stream",
     "text": [
      "  0%|          | 2999/10000000 [00:00<11:29, 14491.84it/s]\n",
      "  0%|          | 1999/10000000 [00:00<10:53, 15298.32it/s]\n",
      "  0%|          | 999/10000000 [00:00<10:50, 15359.58it/s]"
     ]
    },
    {
     "name": "stdout",
     "output_type": "stream",
     "text": [
      "early stop at epoch 3000...\n",
      "early stop at epoch 2000...\n",
      "early stop at epoch 1000...\n"
     ]
    },
    {
     "name": "stderr",
     "output_type": "stream",
     "text": [
      "\n",
      "  0%|          | 999/10000000 [00:00<11:00, 15142.82it/s]\n",
      "  0%|          | 999/10000000 [00:00<10:29, 15894.20it/s]\n",
      "  0%|          | 999/10000000 [00:00<09:55, 16803.39it/s]\n",
      "  0%|          | 999/10000000 [00:00<10:42, 15574.30it/s]\n",
      "  0%|          | 0/10000000 [00:00<?, ?it/s]"
     ]
    },
    {
     "name": "stdout",
     "output_type": "stream",
     "text": [
      "early stop at epoch 1000...\n",
      "early stop at epoch 1000...\n",
      "early stop at epoch 1000...\n",
      "early stop at epoch 1000...\n"
     ]
    },
    {
     "name": "stderr",
     "output_type": "stream",
     "text": [
      "  0%|          | 999/10000000 [00:00<10:24, 16019.32it/s]\n",
      "  0%|          | 1585/10000000 [00:00<10:30, 15845.90it/s]"
     ]
    },
    {
     "name": "stdout",
     "output_type": "stream",
     "text": [
      "early stop at epoch 1000...\n"
     ]
    },
    {
     "name": "stderr",
     "output_type": "stream",
     "text": [
      "  0%|          | 47999/10000000 [00:03<10:30, 15779.45it/s]\n",
      "  0%|          | 3473/10000000 [00:00<09:38, 17280.87it/s]"
     ]
    },
    {
     "name": "stdout",
     "output_type": "stream",
     "text": [
      "early stop at epoch 48000...\n"
     ]
    },
    {
     "name": "stderr",
     "output_type": "stream",
     "text": [
      "  0%|          | 35999/10000000 [00:02<09:36, 17297.99it/s]\n",
      "  0%|          | 1784/10000000 [00:00<09:20, 17832.32it/s]"
     ]
    },
    {
     "name": "stdout",
     "output_type": "stream",
     "text": [
      "early stop at epoch 36000...\n"
     ]
    },
    {
     "name": "stderr",
     "output_type": "stream",
     "text": [
      "  0%|          | 26999/10000000 [00:01<09:25, 17647.11it/s]\n",
      "  0%|          | 1763/10000000 [00:00<09:27, 17623.71it/s]"
     ]
    },
    {
     "name": "stdout",
     "output_type": "stream",
     "text": [
      "early stop at epoch 27000...\n"
     ]
    },
    {
     "name": "stderr",
     "output_type": "stream",
     "text": [
      "  0%|          | 19999/10000000 [00:01<09:27, 17586.55it/s]\n",
      "  0%|          | 1814/10000000 [00:00<09:11, 18135.82it/s]"
     ]
    },
    {
     "name": "stdout",
     "output_type": "stream",
     "text": [
      "early stop at epoch 20000...\n"
     ]
    },
    {
     "name": "stderr",
     "output_type": "stream",
     "text": [
      "  0%|          | 14999/10000000 [00:00<09:17, 17900.87it/s]\n",
      "  0%|          | 1799/10000000 [00:00<09:15, 17988.69it/s]"
     ]
    },
    {
     "name": "stdout",
     "output_type": "stream",
     "text": [
      "early stop at epoch 15000...\n"
     ]
    },
    {
     "name": "stderr",
     "output_type": "stream",
     "text": [
      "  0%|          | 9999/10000000 [00:00<09:16, 17961.62it/s]\n",
      "  0%|          | 1730/10000000 [00:00<09:38, 17289.63it/s]"
     ]
    },
    {
     "name": "stdout",
     "output_type": "stream",
     "text": [
      "early stop at epoch 10000...\n"
     ]
    },
    {
     "name": "stderr",
     "output_type": "stream",
     "text": [
      "  0%|          | 5999/10000000 [00:00<09:46, 17039.17it/s]\n",
      "  0%|          | 1620/10000000 [00:00<10:17, 16193.88it/s]"
     ]
    },
    {
     "name": "stdout",
     "output_type": "stream",
     "text": [
      "early stop at epoch 6000...\n"
     ]
    },
    {
     "name": "stderr",
     "output_type": "stream",
     "text": [
      "  0%|          | 3999/10000000 [00:00<10:30, 15848.66it/s]\n",
      "  0%|          | 2999/10000000 [00:00<09:30, 17511.08it/s]\n",
      "  0%|          | 0/10000000 [00:00<?, ?it/s]"
     ]
    },
    {
     "name": "stdout",
     "output_type": "stream",
     "text": [
      "early stop at epoch 4000...\n",
      "early stop at epoch 3000...\n"
     ]
    },
    {
     "name": "stderr",
     "output_type": "stream",
     "text": [
      "  0%|          | 1999/10000000 [00:00<10:02, 16589.49it/s]\n",
      "  0%|          | 999/10000000 [00:00<10:36, 15715.25it/s]\n",
      "  0%|          | 999/10000000 [00:00<10:41, 15581.66it/s]\n",
      "  0%|          | 999/10000000 [00:00<10:23, 16047.48it/s]\n",
      "  0%|          | 0/10000000 [00:00<?, ?it/s]"
     ]
    },
    {
     "name": "stdout",
     "output_type": "stream",
     "text": [
      "early stop at epoch 2000...\n",
      "early stop at epoch 1000...\n",
      "early stop at epoch 1000...\n",
      "early stop at epoch 1000...\n"
     ]
    },
    {
     "name": "stderr",
     "output_type": "stream",
     "text": [
      "  0%|          | 999/10000000 [00:00<10:24, 16019.08it/s]\n",
      "  0%|          | 999/10000000 [00:00<10:50, 15374.24it/s]\n",
      "  0%|          | 999/10000000 [00:00<10:51, 15352.49it/s]\n",
      "  0%|          | 999/10000000 [00:00<10:15, 16254.72it/s]"
     ]
    },
    {
     "name": "stdout",
     "output_type": "stream",
     "text": [
      "early stop at epoch 1000...\n",
      "early stop at epoch 1000...\n",
      "early stop at epoch 1000...\n",
      "early stop at epoch 1000...\n"
     ]
    },
    {
     "name": "stderr",
     "output_type": "stream",
     "text": [
      "\n",
      "  0%|          | 999/10000000 [00:00<10:22, 16052.83it/s]\n",
      "  0%|          | 999/10000000 [00:00<10:06, 16492.79it/s]\n",
      "  0%|          | 999/10000000 [00:00<09:49, 16963.25it/s]"
     ]
    },
    {
     "name": "stdout",
     "output_type": "stream",
     "text": [
      "early stop at epoch 1000...\n",
      "early stop at epoch 1000...\n",
      "early stop at epoch 1000...\n"
     ]
    },
    {
     "name": "stderr",
     "output_type": "stream",
     "text": [
      "\n"
     ]
    }
   ],
   "source": [
    "results = {}\n",
    "for s in s_range:\n",
    "    for alpha in alpha_range:\n",
    "        u_p_0, v_p_0, u_n_0, v_n_0 = symmetric_init(alpha=alpha, s=s, d=d)\n",
    "        results[(s, alpha)] = train(\n",
    "            u_p_0=u_p_0,\n",
    "            v_p_0=v_p_0,\n",
    "            u_n_0=u_n_0,\n",
    "            v_n_0=v_n_0,\n",
    "            x=X_train,\n",
    "            y=y_train,\n",
    "            step_size=1e-3,\n",
    "            n_epochs=int(1e7),\n",
    "            eval_freq=1000,\n",
    "            early_stop=1e-4)"
   ]
  },
  {
   "cell_type": "code",
   "execution_count": 332,
   "metadata": {},
   "outputs": [],
   "source": [
    "test_loss = {}\n",
    "train_loss = {}\n",
    "excess_L1 = {}\n",
    "for k, v in results.items():\n",
    "    u_p, v_p, u_n, v_n = v['u_p'][-1], v['v_p'][-1], v['u_n'][-1], v['v_n'][-1]\n",
    "    w = np.multiply(u_p, v_p) - np.multiply(u_n, v_n)\n",
    "    test_loss[k] = current_training_loss(u_p, v_p, u_n, v_n, X_test, y_test)\n",
    "    train_loss[k] = current_training_loss(u_p, v_p, u_n, v_n, X_train, y_train)\n",
    "    excess_L1[k] = np.linalg.norm(w_opt_L1.reshape(-1,) - w.reshape(-1,), ord=2)"
   ]
  },
  {
   "cell_type": "code",
   "execution_count": 340,
   "metadata": {},
   "outputs": [
    {
     "data": {
      "image/png": "[encoded data removed]",
      "text/plain": [
       "<Figure size 1800x1200 with 1 Axes>"
      ]
     },
     "metadata": {
      "needs_background": "light"
     },
     "output_type": "display_data"
    }
   ],
   "source": [
    "linstyles = ['', ':', '-.', '--', '-']\n",
    "for s, style in zip(s_range, linstyles):\n",
    "    plot(alpha_range, [v for k, v in test_loss.items() if k[0] == s], style)\n",
    "    \n",
    "legend([f's={s}' for s in s_range])\n",
    "ylabel('Population Error')\n",
    "xlabel('α')\n",
    "xscale('log')\n",
    "#plt.yticks([]);"
   ]
  },
  {
   "cell_type": "markdown",
   "metadata": {},
   "source": [
    "### Effect Of LR"
   ]
  },
  {
   "cell_type": "code",
   "execution_count": 341,
   "metadata": {},
   "outputs": [
    {
     "data": {
      "text/plain": [
       "array([1.00000000e-05, 1.70442913e-05, 2.90507865e-05, 4.95150067e-05,\n",
       "       8.43948197e-05, 1.43844989e-04, 2.45173589e-04, 4.17881006e-04,\n",
       "       7.12248558e-04, 1.21397719e-03, 2.06913808e-03, 3.52669921e-03,\n",
       "       6.01100886e-03, 1.02453386e-02, 1.74624535e-02, 2.97635144e-02,\n",
       "       5.07298009e-02, 8.64653503e-02, 1.47374062e-01, 2.51188643e-01])"
      ]
     },
     "execution_count": 341,
     "metadata": {},
     "output_type": "execute_result"
    }
   ],
   "source": [
    "alpha_range = np.logspace(-5, -0.6, 20)\n",
    "alpha_range"
   ]
  },
  {
   "cell_type": "code",
   "execution_count": 352,
   "metadata": {},
   "outputs": [],
   "source": [
    "LR_range = [1e-3, 1e-2, 1e-1]"
   ]
  },
  {
   "cell_type": "code",
   "execution_count": 353,
   "metadata": {},
   "outputs": [
    {
     "name": "stderr",
     "output_type": "stream",
     "text": [
      "  3%|▎         | 296999/10000000 [00:22<12:05, 13378.11it/s]\n",
      "  0%|          | 2545/10000000 [00:00<13:10, 12645.30it/s]"
     ]
    },
    {
     "name": "stdout",
     "output_type": "stream",
     "text": [
      "early stop at epoch 297000...\n"
     ]
    },
    {
     "name": "stderr",
     "output_type": "stream",
     "text": [
      "  3%|▎         | 262999/10000000 [00:20<12:53, 12591.38it/s]\n",
      "  0%|          | 2253/10000000 [00:00<15:06, 11028.98it/s]"
     ]
    },
    {
     "name": "stdout",
     "output_type": "stream",
     "text": [
      "early stop at epoch 263000...\n"
     ]
    },
    {
     "name": "stderr",
     "output_type": "stream",
     "text": [
      "  2%|▏         | 229999/10000000 [00:22<15:45, 10334.02it/s]\n",
      "  0%|          | 919/10000000 [00:00<18:08, 9186.50it/s]"
     ]
    },
    {
     "name": "stdout",
     "output_type": "stream",
     "text": [
      "early stop at epoch 230000...\n"
     ]
    },
    {
     "name": "stderr",
     "output_type": "stream",
     "text": [
      "  2%|▏         | 197999/10000000 [00:18<15:19, 10662.37it/s]\n",
      "  0%|          | 1189/10000000 [00:00<14:01, 11888.71it/s]"
     ]
    },
    {
     "name": "stdout",
     "output_type": "stream",
     "text": [
      "early stop at epoch 198000...\n"
     ]
    },
    {
     "name": "stderr",
     "output_type": "stream",
     "text": [
      "  2%|▏         | 164999/10000000 [00:14<14:18, 11451.78it/s]\n",
      "  0%|          | 1255/10000000 [00:00<13:17, 12542.45it/s]"
     ]
    },
    {
     "name": "stdout",
     "output_type": "stream",
     "text": [
      "early stop at epoch 165000...\n"
     ]
    },
    {
     "name": "stderr",
     "output_type": "stream",
     "text": [
      "  1%|▏         | 133999/10000000 [00:11<14:03, 11694.05it/s]\n",
      "  0%|          | 2297/10000000 [00:00<14:43, 11309.73it/s]"
     ]
    },
    {
     "name": "stdout",
     "output_type": "stream",
     "text": [
      "early stop at epoch 134000...\n"
     ]
    },
    {
     "name": "stderr",
     "output_type": "stream",
     "text": [
      "  1%|          | 102999/10000000 [00:08<14:01, 11757.02it/s]\n",
      "  0%|          | 1169/10000000 [00:00<14:16, 11676.56it/s]"
     ]
    },
    {
     "name": "stdout",
     "output_type": "stream",
     "text": [
      "early stop at epoch 103000...\n"
     ]
    },
    {
     "name": "stderr",
     "output_type": "stream",
     "text": [
      "  1%|          | 76999/10000000 [00:06<13:54, 11885.02it/s]\n",
      "  0%|          | 2228/10000000 [00:00<14:26, 11539.09it/s]"
     ]
    },
    {
     "name": "stdout",
     "output_type": "stream",
     "text": [
      "early stop at epoch 77000...\n"
     ]
    },
    {
     "name": "stderr",
     "output_type": "stream",
     "text": [
      "  1%|          | 56999/10000000 [00:04<13:33, 12225.78it/s]\n",
      "  0%|          | 1118/10000000 [00:00<14:54, 11176.44it/s]"
     ]
    },
    {
     "name": "stdout",
     "output_type": "stream",
     "text": [
      "early stop at epoch 57000...\n"
     ]
    },
    {
     "name": "stderr",
     "output_type": "stream",
     "text": [
      "  0%|          | 42999/10000000 [00:03<13:41, 12123.77it/s]\n",
      "  0%|          | 2401/10000000 [00:00<14:07, 11794.05it/s]"
     ]
    },
    {
     "name": "stdout",
     "output_type": "stream",
     "text": [
      "early stop at epoch 43000...\n"
     ]
    },
    {
     "name": "stderr",
     "output_type": "stream",
     "text": [
      "  0%|          | 32999/10000000 [00:02<14:59, 11080.48it/s]\n",
      "  0%|          | 952/10000000 [00:00<17:32, 9502.13it/s]"
     ]
    },
    {
     "name": "stdout",
     "output_type": "stream",
     "text": [
      "early stop at epoch 33000...\n"
     ]
    },
    {
     "name": "stderr",
     "output_type": "stream",
     "text": [
      "  0%|          | 24999/10000000 [00:02<13:41, 12140.19it/s]\n",
      "  0%|          | 1201/10000000 [00:00<13:52, 12009.15it/s]"
     ]
    },
    {
     "name": "stdout",
     "output_type": "stream",
     "text": [
      "early stop at epoch 25000...\n"
     ]
    },
    {
     "name": "stderr",
     "output_type": "stream",
     "text": [
      "  0%|          | 17999/10000000 [00:01<15:24, 10797.18it/s]\n",
      "  0%|          | 794/10000000 [00:00<20:59, 7938.00it/s]"
     ]
    },
    {
     "name": "stdout",
     "output_type": "stream",
     "text": [
      "early stop at epoch 18000...\n"
     ]
    },
    {
     "name": "stderr",
     "output_type": "stream",
     "text": [
      "  0%|          | 12999/10000000 [00:01<18:35, 8956.16it/s]\n",
      "  0%|          | 878/10000000 [00:00<19:00, 8769.83it/s]"
     ]
    },
    {
     "name": "stdout",
     "output_type": "stream",
     "text": [
      "early stop at epoch 13000...\n"
     ]
    },
    {
     "name": "stderr",
     "output_type": "stream",
     "text": [
      "  0%|          | 7999/10000000 [00:00<17:42, 9406.13it/s]\n",
      "  0%|          | 981/10000000 [00:00<17:00, 9800.03it/s]"
     ]
    },
    {
     "name": "stdout",
     "output_type": "stream",
     "text": [
      "early stop at epoch 8000...\n"
     ]
    },
    {
     "name": "stderr",
     "output_type": "stream",
     "text": [
      "  0%|          | 4999/10000000 [00:00<16:51, 9882.71it/s] \n",
      "  0%|          | 987/10000000 [00:00<16:53, 9867.82it/s]"
     ]
    },
    {
     "name": "stdout",
     "output_type": "stream",
     "text": [
      "early stop at epoch 5000...\n"
     ]
    },
    {
     "name": "stderr",
     "output_type": "stream",
     "text": [
      "  0%|          | 2999/10000000 [00:00<16:43, 9963.39it/s]\n",
      "  0%|          | 1683/10000000 [00:00<19:49, 8405.65it/s]"
     ]
    },
    {
     "name": "stdout",
     "output_type": "stream",
     "text": [
      "early stop at epoch 3000...\n"
     ]
    },
    {
     "name": "stderr",
     "output_type": "stream",
     "text": [
      "  0%|          | 1999/10000000 [00:00<20:01, 8317.80it/s]\n",
      "  0%|          | 858/10000000 [00:00<19:26, 8569.04it/s]"
     ]
    },
    {
     "name": "stdout",
     "output_type": "stream",
     "text": [
      "early stop at epoch 2000...\n"
     ]
    },
    {
     "name": "stderr",
     "output_type": "stream",
     "text": [
      "  0%|          | 1999/10000000 [00:00<17:28, 9534.79it/s]\n",
      "  0%|          | 999/10000000 [00:00<15:49, 10527.31it/s]\n",
      "  0%|          | 0/10000000 [00:00<?, ?it/s]"
     ]
    },
    {
     "name": "stdout",
     "output_type": "stream",
     "text": [
      "early stop at epoch 2000...\n",
      "early stop at epoch 1000...\n"
     ]
    },
    {
     "name": "stderr",
     "output_type": "stream",
     "text": [
      "  0%|          | 29999/10000000 [00:02<15:21, 10821.16it/s]\n",
      "  0%|          | 2337/10000000 [00:00<14:23, 11577.97it/s]"
     ]
    },
    {
     "name": "stdout",
     "output_type": "stream",
     "text": [
      "early stop at epoch 30000...\n"
     ]
    },
    {
     "name": "stderr",
     "output_type": "stream",
     "text": [
      "  0%|          | 26999/10000000 [00:02<15:33, 10687.43it/s]\n",
      "  0%|          | 1025/10000000 [00:00<16:16, 10244.59it/s]"
     ]
    },
    {
     "name": "stdout",
     "output_type": "stream",
     "text": [
      "early stop at epoch 27000...\n"
     ]
    },
    {
     "name": "stderr",
     "output_type": "stream",
     "text": [
      "  0%|          | 22999/10000000 [00:02<15:41, 10596.43it/s]\n",
      "  0%|          | 1011/10000000 [00:00<16:29, 10100.57it/s]"
     ]
    },
    {
     "name": "stdout",
     "output_type": "stream",
     "text": [
      "early stop at epoch 23000...\n"
     ]
    },
    {
     "name": "stderr",
     "output_type": "stream",
     "text": [
      "  0%|          | 19999/10000000 [00:01<14:42, 11307.71it/s]\n",
      "  0%|          | 2320/10000000 [00:00<14:06, 11804.73it/s]"
     ]
    },
    {
     "name": "stdout",
     "output_type": "stream",
     "text": [
      "early stop at epoch 20000...\n"
     ]
    },
    {
     "name": "stderr",
     "output_type": "stream",
     "text": [
      "  0%|          | 16999/10000000 [00:01<14:14, 11679.41it/s]\n",
      "  0%|          | 2411/10000000 [00:00<14:01, 11882.41it/s]"
     ]
    },
    {
     "name": "stdout",
     "output_type": "stream",
     "text": [
      "early stop at epoch 17000...\n"
     ]
    },
    {
     "name": "stderr",
     "output_type": "stream",
     "text": [
      "  0%|          | 13999/10000000 [00:01<13:44, 12113.90it/s]\n",
      "  0%|          | 1261/10000000 [00:00<13:13, 12606.71it/s]"
     ]
    },
    {
     "name": "stdout",
     "output_type": "stream",
     "text": [
      "early stop at epoch 14000...\n"
     ]
    },
    {
     "name": "stderr",
     "output_type": "stream",
     "text": [
      "  0%|          | 10999/10000000 [00:00<13:19, 12496.58it/s]\n",
      "  0%|          | 1241/10000000 [00:00<13:25, 12406.17it/s]"
     ]
    },
    {
     "name": "stdout",
     "output_type": "stream",
     "text": [
      "early stop at epoch 11000...\n"
     ]
    },
    {
     "name": "stderr",
     "output_type": "stream",
     "text": [
      "  0%|          | 7999/10000000 [00:00<13:28, 12356.87it/s]\n",
      "  0%|          | 1190/10000000 [00:00<14:00, 11895.22it/s]"
     ]
    },
    {
     "name": "stdout",
     "output_type": "stream",
     "text": [
      "early stop at epoch 8000...\n"
     ]
    },
    {
     "name": "stderr",
     "output_type": "stream",
     "text": [
      "  0%|          | 5999/10000000 [00:00<13:24, 12416.43it/s]\n",
      "  0%|          | 2497/10000000 [00:00<13:18, 12525.91it/s]"
     ]
    },
    {
     "name": "stdout",
     "output_type": "stream",
     "text": [
      "early stop at epoch 6000...\n"
     ]
    },
    {
     "name": "stderr",
     "output_type": "stream",
     "text": [
      "  0%|          | 4999/10000000 [00:00<13:15, 12565.11it/s]\n",
      "  0%|          | 1251/10000000 [00:00<13:19, 12508.76it/s]"
     ]
    },
    {
     "name": "stdout",
     "output_type": "stream",
     "text": [
      "early stop at epoch 5000...\n"
     ]
    },
    {
     "name": "stderr",
     "output_type": "stream",
     "text": [
      "  0%|          | 3999/10000000 [00:00<13:40, 12179.90it/s]\n",
      "  0%|          | 1249/10000000 [00:00<13:20, 12488.73it/s]"
     ]
    },
    {
     "name": "stdout",
     "output_type": "stream",
     "text": [
      "early stop at epoch 4000...\n"
     ]
    },
    {
     "name": "stderr",
     "output_type": "stream",
     "text": [
      "  0%|          | 2999/10000000 [00:00<13:19, 12507.04it/s]\n",
      "  0%|          | 1999/10000000 [00:00<13:40, 12182.35it/s]\n",
      "  0%|          | 0/10000000 [00:00<?, ?it/s]"
     ]
    },
    {
     "name": "stdout",
     "output_type": "stream",
     "text": [
      "early stop at epoch 3000...\n",
      "early stop at epoch 2000...\n"
     ]
    },
    {
     "name": "stderr",
     "output_type": "stream",
     "text": [
      "  0%|          | 1999/10000000 [00:00<13:21, 12466.94it/s]\n",
      "  0%|          | 999/10000000 [00:00<13:10, 12651.34it/s]\n",
      "  0%|          | 999/10000000 [00:00<13:31, 12327.70it/s]\n",
      "  0%|          | 0/10000000 [00:00<?, ?it/s]"
     ]
    },
    {
     "name": "stdout",
     "output_type": "stream",
     "text": [
      "early stop at epoch 2000...\n",
      "early stop at epoch 1000...\n",
      "early stop at epoch 1000...\n"
     ]
    },
    {
     "name": "stderr",
     "output_type": "stream",
     "text": [
      "  0%|          | 999/10000000 [00:00<13:03, 12757.81it/s]\n",
      "  0%|          | 999/10000000 [00:00<13:23, 12451.37it/s]\n",
      "  0%|          | 999/10000000 [00:00<13:47, 12082.63it/s]\n",
      "  0%|          | 0/10000000 [00:00<?, ?it/s]"
     ]
    },
    {
     "name": "stdout",
     "output_type": "stream",
     "text": [
      "early stop at epoch 1000...\n",
      "early stop at epoch 1000...\n",
      "early stop at epoch 1000...\n"
     ]
    },
    {
     "name": "stderr",
     "output_type": "stream",
     "text": [
      "  0%|          | 999/10000000 [00:00<14:06, 11814.94it/s]\n",
      "  0%|          | 2560/10000000 [00:00<12:56, 12873.57it/s]"
     ]
    },
    {
     "name": "stdout",
     "output_type": "stream",
     "text": [
      "early stop at epoch 1000...\n"
     ]
    },
    {
     "name": "stderr",
     "output_type": "stream",
     "text": [
      "  0%|          | 2999/10000000 [00:00<13:23, 12434.39it/s]\n",
      "  0%|          | 2445/10000000 [00:00<14:17, 11665.00it/s]"
     ]
    },
    {
     "name": "stdout",
     "output_type": "stream",
     "text": [
      "early stop at epoch 3000...\n"
     ]
    },
    {
     "name": "stderr",
     "output_type": "stream",
     "text": [
      "  0%|          | 2999/10000000 [00:00<13:43, 12134.09it/s]\n",
      "  0%|          | 1270/10000000 [00:00<13:07, 12698.74it/s]"
     ]
    },
    {
     "name": "stdout",
     "output_type": "stream",
     "text": [
      "early stop at epoch 3000...\n"
     ]
    },
    {
     "name": "stderr",
     "output_type": "stream",
     "text": [
      "  0%|          | 2999/10000000 [00:00<13:41, 12162.69it/s]\n",
      "  0%|          | 1999/10000000 [00:00<12:52, 12946.06it/s]\n",
      "  0%|          | 0/10000000 [00:00<?, ?it/s]"
     ]
    },
    {
     "name": "stdout",
     "output_type": "stream",
     "text": [
      "early stop at epoch 3000...\n",
      "early stop at epoch 2000...\n"
     ]
    },
    {
     "name": "stderr",
     "output_type": "stream",
     "text": [
      "  0%|          | 1999/10000000 [00:00<13:56, 11952.60it/s]\n",
      "  0%|          | 1999/10000000 [00:00<13:02, 12780.85it/s]\n",
      "  0%|          | 0/10000000 [00:00<?, ?it/s]"
     ]
    },
    {
     "name": "stdout",
     "output_type": "stream",
     "text": [
      "early stop at epoch 2000...\n",
      "early stop at epoch 2000...\n"
     ]
    },
    {
     "name": "stderr",
     "output_type": "stream",
     "text": [
      "  0%|          | 1999/10000000 [00:00<13:01, 12785.99it/s]\n",
      "  0%|          | 999/10000000 [00:00<15:35, 10687.56it/s]\n",
      "  0%|          | 999/10000000 [00:00<15:48, 10538.00it/s]\n",
      "  0%|          | 0/10000000 [00:00<?, ?it/s]"
     ]
    },
    {
     "name": "stdout",
     "output_type": "stream",
     "text": [
      "early stop at epoch 2000...\n",
      "early stop at epoch 1000...\n",
      "early stop at epoch 1000...\n"
     ]
    },
    {
     "name": "stderr",
     "output_type": "stream",
     "text": [
      "  0%|          | 999/10000000 [00:00<15:51, 10508.03it/s]\n",
      "  0%|          | 999/10000000 [00:00<14:43, 11313.31it/s]\n",
      "  0%|          | 999/10000000 [00:00<15:17, 10892.43it/s]\n",
      "  0%|          | 0/10000000 [00:00<?, ?it/s]"
     ]
    },
    {
     "name": "stdout",
     "output_type": "stream",
     "text": [
      "early stop at epoch 1000...\n",
      "early stop at epoch 1000...\n",
      "early stop at epoch 1000...\n"
     ]
    },
    {
     "name": "stderr",
     "output_type": "stream",
     "text": [
      "  0%|          | 999/10000000 [00:00<13:17, 12531.02it/s]\n",
      "  0%|          | 999/10000000 [00:00<14:42, 11329.70it/s]\n",
      "  0%|          | 999/10000000 [00:00<14:19, 11629.08it/s]\n",
      "  0%|          | 0/10000000 [00:00<?, ?it/s]"
     ]
    },
    {
     "name": "stdout",
     "output_type": "stream",
     "text": [
      "early stop at epoch 1000...\n",
      "early stop at epoch 1000...\n",
      "early stop at epoch 1000...\n"
     ]
    },
    {
     "name": "stderr",
     "output_type": "stream",
     "text": [
      "  0%|          | 999/10000000 [00:00<14:11, 11736.11it/s]\n",
      "  0%|          | 999/10000000 [00:00<14:16, 11667.45it/s]\n",
      "  0%|          | 999/10000000 [00:00<13:34, 12276.66it/s]\n",
      "  0%|          | 0/10000000 [00:00<?, ?it/s]"
     ]
    },
    {
     "name": "stdout",
     "output_type": "stream",
     "text": [
      "early stop at epoch 1000...\n",
      "early stop at epoch 1000...\n",
      "early stop at epoch 1000...\n"
     ]
    },
    {
     "name": "stderr",
     "output_type": "stream",
     "text": [
      "  0%|          | 999/10000000 [00:00<14:05, 11828.22it/s]\n",
      "  0%|          | 999/10000000 [00:00<12:42, 13107.12it/s]"
     ]
    },
    {
     "name": "stdout",
     "output_type": "stream",
     "text": [
      "early stop at epoch 1000...\n",
      "early stop at epoch 1000...\n"
     ]
    },
    {
     "name": "stderr",
     "output_type": "stream",
     "text": [
      "\n"
     ]
    }
   ],
   "source": [
    "results = {}\n",
    "for step_size in LR_range:\n",
    "    for alpha in alpha_range:\n",
    "        u_p_0, v_p_0, u_n_0, v_n_0 = symmetric_init(alpha=alpha, s=0, d=d)\n",
    "        results[(step_size, alpha)] = train(\n",
    "            u_p_0=u_p_0,\n",
    "            v_p_0=v_p_0,\n",
    "            u_n_0=u_n_0,\n",
    "            v_n_0=v_n_0,\n",
    "            x=X_train,\n",
    "            y=y_train,\n",
    "            step_size=step_size,\n",
    "            n_epochs=int(1e7),\n",
    "            eval_freq=1000,\n",
    "            early_stop=1e-4)"
   ]
  },
  {
   "cell_type": "code",
   "execution_count": 354,
   "metadata": {},
   "outputs": [],
   "source": [
    "test_loss = {}\n",
    "train_loss = {}\n",
    "excess_L1 = {}\n",
    "for k, v in results.items():\n",
    "    u_p, v_p, u_n, v_n = v['u_p'][-1], v['v_p'][-1], v['u_n'][-1], v['v_n'][-1]\n",
    "    w = np.multiply(u_p, v_p) - np.multiply(u_n, v_n)\n",
    "    test_loss[k] = current_training_loss(u_p, v_p, u_n, v_n, X_test, y_test)\n",
    "    train_loss[k] = current_training_loss(u_p, v_p, u_n, v_n, X_train, y_train)\n",
    "    excess_L1[k] = np.linalg.norm(w_opt_L1.reshape(-1,) - w.reshape(-1,), ord=2)"
   ]
  },
  {
   "cell_type": "code",
   "execution_count": 356,
   "metadata": {},
   "outputs": [
    {
     "data": {
      "image/png": "[encoded data removed]",
      "text/plain": [
       "<Figure size 1800x1200 with 1 Axes>"
      ]
     },
     "metadata": {
      "needs_background": "light"
     },
     "output_type": "display_data"
    }
   ],
   "source": [
    "linstyles = ['', ':', '-.', '--']\n",
    "for step_size, style in zip(LR_range, linstyles):\n",
    "    plot(alpha_range, [v for k, v in test_loss.items() if k[0] == step_size], style)\n",
    "    \n",
    "legend([f'LR={step_size}' for step_size in LR_range])\n",
    "ylabel('Population Error')\n",
    "xlabel('α')\n",
    "xscale('log')\n",
    "#plt.yticks([]);"
   ]
  },
  {
   "cell_type": "code",
   "execution_count": null,
   "metadata": {},
   "outputs": [],
   "source": []
  }
 ],
 "metadata": {
  "kernelspec": {
   "display_name": "Python 3",
   "language": "python",
   "name": "python3"
  },
  "language_info": {
   "codemirror_mode": {
    "name": "ipython",
    "version": 3
   },
   "file_extension": ".py",
   "mimetype": "text/x-python",
   "name": "python",
   "nbconvert_exporter": "python",
   "pygments_lexer": "ipython3",
   "version": "3.6.8"
  }
 },
 "nbformat": 4,
 "nbformat_minor": 2
}
